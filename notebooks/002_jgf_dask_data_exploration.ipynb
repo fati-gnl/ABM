{
  "cells": [
    {
      "cell_type": "code",
      "source": [
        "\"\"\"Use dask to explore the whole dataset\"\"\"\n",
        "\n",
        "import dask.dataframe as dd \n",
        "import numpy as np\n",
        "import pandas as pd"
      ],
      "metadata": {
        "id": "WYRMpZZotoKj"
      },
      "execution_count": 8,
      "outputs": []
    },
    {
      "cell_type": "code",
      "execution_count": 7,
      "metadata": {
        "id": "GvUH_yQqr0Ml",
        "outputId": "866900fc-083b-44ac-f841-c8336205053d",
        "colab": {
          "base_uri": "https://localhost:8080/"
        }
      },
      "outputs": [
        {
          "output_type": "stream",
          "name": "stdout",
          "text": [
            "Mounted at /content/drive\n"
          ]
        }
      ],
      "source": [
        "from google.colab import drive\n",
        "drive.mount('/content/drive')"
      ]
    },
    {
      "cell_type": "markdown",
      "metadata": {
        "id": "LmV2BsJ4r0Mn"
      },
      "source": [
        "# Load Data"
      ]
    },
    {
      "cell_type": "code",
      "execution_count": 10,
      "metadata": {
        "id": "unCA8DvMr0Mp"
      },
      "outputs": [],
      "source": [
        "import sys\n",
        "IN_COLAB = 'google.colab' in sys.modules\n",
        "train = dd.read_csv(\"/content/drive/MyDrive/Raw/training_set_VU_DM.csv\")\n",
        "test = dd.read_csv(\"/content/drive/MyDrive/Raw/test_set_VU_DM.csv\")"
      ]
    },
    {
      "cell_type": "markdown",
      "metadata": {
        "id": "FCB7qWt5r0Mr"
      },
      "source": [
        "# Inspect Train Data"
      ]
    },
    {
      "cell_type": "markdown",
      "source": [
        "*   position - Integer\n",
        "*   click_bool - (Boolean) - clicked on the property\n",
        "*   booking_bool - (Boolean) - booked the property\n",
        "*   gross_booking_usd - (Float)\n",
        "\n",
        "\n"
      ],
      "metadata": {
        "id": "CcmFNGi_2jF2"
      }
    },
    {
      "cell_type": "code",
      "execution_count": 11,
      "metadata": {
        "id": "zpWUre0Dr0Mr",
        "outputId": "7def0aa4-4795-4c25-b5cc-eb9f11886734",
        "colab": {
          "base_uri": "https://localhost:8080/"
        }
      },
      "outputs": [
        {
          "output_type": "execute_result",
          "data": {
            "text/plain": [
              "Index(['srch_id', 'date_time', 'site_id', 'visitor_location_country_id',\n",
              "       'visitor_hist_starrating', 'visitor_hist_adr_usd', 'prop_country_id',\n",
              "       'prop_id', 'prop_starrating', 'prop_review_score', 'prop_brand_bool',\n",
              "       'prop_location_score1', 'prop_location_score2',\n",
              "       'prop_log_historical_price', 'position', 'price_usd', 'promotion_flag',\n",
              "       'srch_destination_id', 'srch_length_of_stay', 'srch_booking_window',\n",
              "       'srch_adults_count', 'srch_children_count', 'srch_room_count',\n",
              "       'srch_saturday_night_bool', 'srch_query_affinity_score',\n",
              "       'orig_destination_distance', 'random_bool', 'comp1_rate', 'comp1_inv',\n",
              "       'comp1_rate_percent_diff', 'comp2_rate', 'comp2_inv',\n",
              "       'comp2_rate_percent_diff', 'comp3_rate', 'comp3_inv',\n",
              "       'comp3_rate_percent_diff', 'comp4_rate', 'comp4_inv',\n",
              "       'comp4_rate_percent_diff', 'comp5_rate', 'comp5_inv',\n",
              "       'comp5_rate_percent_diff', 'comp6_rate', 'comp6_inv',\n",
              "       'comp6_rate_percent_diff', 'comp7_rate', 'comp7_inv',\n",
              "       'comp7_rate_percent_diff', 'comp8_rate', 'comp8_inv',\n",
              "       'comp8_rate_percent_diff', 'click_bool', 'gross_bookings_usd',\n",
              "       'booking_bool'],\n",
              "      dtype='object')"
            ]
          },
          "metadata": {},
          "execution_count": 11
        }
      ],
      "source": [
        "train.columns"
      ]
    },
    {
      "cell_type": "code",
      "execution_count": 26,
      "metadata": {
        "id": "D00pTGnXr0Mw"
      },
      "outputs": [],
      "source": [
        "# Get the unique number of search IDs\n",
        "unique_srch_ids = train[\"srch_id\"].unique().compute()"
      ]
    },
    {
      "cell_type": "code",
      "execution_count": 17,
      "metadata": {
        "id": "dIReOQyFr0Mw",
        "outputId": "60e9edc3-cc5e-4829-cfba-f3f5028af9db",
        "colab": {
          "base_uri": "https://localhost:8080/"
        }
      },
      "outputs": [
        {
          "output_type": "execute_result",
          "data": {
            "text/plain": [
              "(199795,)"
            ]
          },
          "metadata": {},
          "execution_count": 17
        }
      ],
      "source": [
        "unique_srch_ids.shape  "
      ]
    },
    {
      "cell_type": "code",
      "execution_count": 18,
      "metadata": {
        "id": "CFkzWWEvr0Mw"
      },
      "outputs": [],
      "source": [
        "# Get distributions of nans\n",
        "isnans = train.isna().sum().compute()"
      ]
    },
    {
      "cell_type": "code",
      "execution_count": 19,
      "metadata": {
        "id": "to4LsugLr0Mx",
        "outputId": "7bc99197-5bc2-4864-eb6b-14064097a2e1",
        "colab": {
          "base_uri": "https://localhost:8080/"
        }
      },
      "outputs": [
        {
          "output_type": "execute_result",
          "data": {
            "text/plain": [
              "srch_id                              0\n",
              "date_time                            0\n",
              "site_id                              0\n",
              "visitor_location_country_id          0\n",
              "visitor_hist_starrating        4706481\n",
              "visitor_hist_adr_usd           4705359\n",
              "prop_country_id                      0\n",
              "prop_id                              0\n",
              "prop_starrating                      0\n",
              "prop_review_score                 7364\n",
              "prop_brand_bool                      0\n",
              "prop_location_score1                 0\n",
              "prop_location_score2           1090348\n",
              "prop_log_historical_price            0\n",
              "position                             0\n",
              "price_usd                            0\n",
              "promotion_flag                       0\n",
              "srch_destination_id                  0\n",
              "srch_length_of_stay                  0\n",
              "srch_booking_window                  0\n",
              "srch_adults_count                    0\n",
              "srch_children_count                  0\n",
              "srch_room_count                      0\n",
              "srch_saturday_night_bool             0\n",
              "srch_query_affinity_score      4640941\n",
              "orig_destination_distance      1607782\n",
              "random_bool                          0\n",
              "comp1_rate                     4838417\n",
              "comp1_inv                      4828788\n",
              "comp1_rate_percent_diff        4863908\n",
              "comp2_rate                     2933675\n",
              "comp2_inv                      2828078\n",
              "comp2_rate_percent_diff        4402109\n",
              "comp3_rate                     3424059\n",
              "comp3_inv                      3307357\n",
              "comp3_rate_percent_diff        4485550\n",
              "comp4_rate                     4650969\n",
              "comp4_inv                      4614684\n",
              "comp4_rate_percent_diff        4827261\n",
              "comp5_rate                     2735974\n",
              "comp5_inv                      2598327\n",
              "comp5_rate_percent_diff        4117248\n",
              "comp6_rate                     4718190\n",
              "comp6_inv                      4697371\n",
              "comp6_rate_percent_diff        4862173\n",
              "comp7_rate                     4642999\n",
              "comp7_inv                      4601925\n",
              "comp7_rate_percent_diff        4819832\n",
              "comp8_rate                     3041693\n",
              "comp8_inv                      2970844\n",
              "comp8_rate_percent_diff        4343617\n",
              "click_bool                           0\n",
              "gross_bookings_usd             4819957\n",
              "booking_bool                         0\n",
              "dtype: int64"
            ]
          },
          "metadata": {},
          "execution_count": 19
        }
      ],
      "source": [
        "isnans"
      ]
    },
    {
      "cell_type": "code",
      "execution_count": 25,
      "metadata": {
        "id": "wqUYNIdMr0Mx",
        "outputId": "02b3904d-10b6-477b-d5cf-e50354fdbf62",
        "colab": {
          "base_uri": "https://localhost:8080/",
          "height": 397
        }
      },
      "outputs": [
        {
          "output_type": "display_data",
          "data": {
            "text/plain": [
              "   srch_id            date_time  site_id  visitor_location_country_id  \\\n",
              "0        1  2013-04-04 08:32:15       12                          187   \n",
              "1        1  2013-04-04 08:32:15       12                          187   \n",
              "2        1  2013-04-04 08:32:15       12                          187   \n",
              "3        1  2013-04-04 08:32:15       12                          187   \n",
              "4        1  2013-04-04 08:32:15       12                          187   \n",
              "\n",
              "   visitor_hist_starrating  visitor_hist_adr_usd  prop_country_id  prop_id  \\\n",
              "0                      NaN                   NaN              219      893   \n",
              "1                      NaN                   NaN              219    10404   \n",
              "2                      NaN                   NaN              219    21315   \n",
              "3                      NaN                   NaN              219    27348   \n",
              "4                      NaN                   NaN              219    29604   \n",
              "\n",
              "   prop_starrating  prop_review_score  ...  comp6_rate_percent_diff  \\\n",
              "0                3                3.5  ...                      NaN   \n",
              "1                4                4.0  ...                      NaN   \n",
              "2                3                4.5  ...                      NaN   \n",
              "3                2                4.0  ...                      NaN   \n",
              "4                4                3.5  ...                      NaN   \n",
              "\n",
              "   comp7_rate  comp7_inv  comp7_rate_percent_diff  comp8_rate  comp8_inv  \\\n",
              "0         NaN        NaN                      NaN         0.0        0.0   \n",
              "1         NaN        NaN                      NaN         0.0        0.0   \n",
              "2         NaN        NaN                      NaN         0.0        0.0   \n",
              "3         NaN        NaN                      NaN        -1.0        0.0   \n",
              "4         NaN        NaN                      NaN         0.0        0.0   \n",
              "\n",
              "   comp8_rate_percent_diff  click_bool  gross_bookings_usd  booking_bool  \n",
              "0                      NaN           0                 NaN             0  \n",
              "1                      NaN           0                 NaN             0  \n",
              "2                      NaN           0                 NaN             0  \n",
              "3                      5.0           0                 NaN             0  \n",
              "4                      NaN           0                 NaN             0  \n",
              "\n",
              "[5 rows x 54 columns]"
            ],
            "text/html": [
              "\n",
              "  <div id=\"df-9e71dd57-785a-4132-b820-3c01f5094703\">\n",
              "    <div class=\"colab-df-container\">\n",
              "      <div>\n",
              "<style scoped>\n",
              "    .dataframe tbody tr th:only-of-type {\n",
              "        vertical-align: middle;\n",
              "    }\n",
              "\n",
              "    .dataframe tbody tr th {\n",
              "        vertical-align: top;\n",
              "    }\n",
              "\n",
              "    .dataframe thead th {\n",
              "        text-align: right;\n",
              "    }\n",
              "</style>\n",
              "<table border=\"1\" class=\"dataframe\">\n",
              "  <thead>\n",
              "    <tr style=\"text-align: right;\">\n",
              "      <th></th>\n",
              "      <th>srch_id</th>\n",
              "      <th>date_time</th>\n",
              "      <th>site_id</th>\n",
              "      <th>visitor_location_country_id</th>\n",
              "      <th>visitor_hist_starrating</th>\n",
              "      <th>visitor_hist_adr_usd</th>\n",
              "      <th>prop_country_id</th>\n",
              "      <th>prop_id</th>\n",
              "      <th>prop_starrating</th>\n",
              "      <th>prop_review_score</th>\n",
              "      <th>...</th>\n",
              "      <th>comp6_rate_percent_diff</th>\n",
              "      <th>comp7_rate</th>\n",
              "      <th>comp7_inv</th>\n",
              "      <th>comp7_rate_percent_diff</th>\n",
              "      <th>comp8_rate</th>\n",
              "      <th>comp8_inv</th>\n",
              "      <th>comp8_rate_percent_diff</th>\n",
              "      <th>click_bool</th>\n",
              "      <th>gross_bookings_usd</th>\n",
              "      <th>booking_bool</th>\n",
              "    </tr>\n",
              "  </thead>\n",
              "  <tbody>\n",
              "    <tr>\n",
              "      <th>0</th>\n",
              "      <td>1</td>\n",
              "      <td>2013-04-04 08:32:15</td>\n",
              "      <td>12</td>\n",
              "      <td>187</td>\n",
              "      <td>NaN</td>\n",
              "      <td>NaN</td>\n",
              "      <td>219</td>\n",
              "      <td>893</td>\n",
              "      <td>3</td>\n",
              "      <td>3.5</td>\n",
              "      <td>...</td>\n",
              "      <td>NaN</td>\n",
              "      <td>NaN</td>\n",
              "      <td>NaN</td>\n",
              "      <td>NaN</td>\n",
              "      <td>0.0</td>\n",
              "      <td>0.0</td>\n",
              "      <td>NaN</td>\n",
              "      <td>0</td>\n",
              "      <td>NaN</td>\n",
              "      <td>0</td>\n",
              "    </tr>\n",
              "    <tr>\n",
              "      <th>1</th>\n",
              "      <td>1</td>\n",
              "      <td>2013-04-04 08:32:15</td>\n",
              "      <td>12</td>\n",
              "      <td>187</td>\n",
              "      <td>NaN</td>\n",
              "      <td>NaN</td>\n",
              "      <td>219</td>\n",
              "      <td>10404</td>\n",
              "      <td>4</td>\n",
              "      <td>4.0</td>\n",
              "      <td>...</td>\n",
              "      <td>NaN</td>\n",
              "      <td>NaN</td>\n",
              "      <td>NaN</td>\n",
              "      <td>NaN</td>\n",
              "      <td>0.0</td>\n",
              "      <td>0.0</td>\n",
              "      <td>NaN</td>\n",
              "      <td>0</td>\n",
              "      <td>NaN</td>\n",
              "      <td>0</td>\n",
              "    </tr>\n",
              "    <tr>\n",
              "      <th>2</th>\n",
              "      <td>1</td>\n",
              "      <td>2013-04-04 08:32:15</td>\n",
              "      <td>12</td>\n",
              "      <td>187</td>\n",
              "      <td>NaN</td>\n",
              "      <td>NaN</td>\n",
              "      <td>219</td>\n",
              "      <td>21315</td>\n",
              "      <td>3</td>\n",
              "      <td>4.5</td>\n",
              "      <td>...</td>\n",
              "      <td>NaN</td>\n",
              "      <td>NaN</td>\n",
              "      <td>NaN</td>\n",
              "      <td>NaN</td>\n",
              "      <td>0.0</td>\n",
              "      <td>0.0</td>\n",
              "      <td>NaN</td>\n",
              "      <td>0</td>\n",
              "      <td>NaN</td>\n",
              "      <td>0</td>\n",
              "    </tr>\n",
              "    <tr>\n",
              "      <th>3</th>\n",
              "      <td>1</td>\n",
              "      <td>2013-04-04 08:32:15</td>\n",
              "      <td>12</td>\n",
              "      <td>187</td>\n",
              "      <td>NaN</td>\n",
              "      <td>NaN</td>\n",
              "      <td>219</td>\n",
              "      <td>27348</td>\n",
              "      <td>2</td>\n",
              "      <td>4.0</td>\n",
              "      <td>...</td>\n",
              "      <td>NaN</td>\n",
              "      <td>NaN</td>\n",
              "      <td>NaN</td>\n",
              "      <td>NaN</td>\n",
              "      <td>-1.0</td>\n",
              "      <td>0.0</td>\n",
              "      <td>5.0</td>\n",
              "      <td>0</td>\n",
              "      <td>NaN</td>\n",
              "      <td>0</td>\n",
              "    </tr>\n",
              "    <tr>\n",
              "      <th>4</th>\n",
              "      <td>1</td>\n",
              "      <td>2013-04-04 08:32:15</td>\n",
              "      <td>12</td>\n",
              "      <td>187</td>\n",
              "      <td>NaN</td>\n",
              "      <td>NaN</td>\n",
              "      <td>219</td>\n",
              "      <td>29604</td>\n",
              "      <td>4</td>\n",
              "      <td>3.5</td>\n",
              "      <td>...</td>\n",
              "      <td>NaN</td>\n",
              "      <td>NaN</td>\n",
              "      <td>NaN</td>\n",
              "      <td>NaN</td>\n",
              "      <td>0.0</td>\n",
              "      <td>0.0</td>\n",
              "      <td>NaN</td>\n",
              "      <td>0</td>\n",
              "      <td>NaN</td>\n",
              "      <td>0</td>\n",
              "    </tr>\n",
              "  </tbody>\n",
              "</table>\n",
              "<p>5 rows × 54 columns</p>\n",
              "</div>\n",
              "      <button class=\"colab-df-convert\" onclick=\"convertToInteractive('df-9e71dd57-785a-4132-b820-3c01f5094703')\"\n",
              "              title=\"Convert this dataframe to an interactive table.\"\n",
              "              style=\"display:none;\">\n",
              "        \n",
              "  <svg xmlns=\"http://www.w3.org/2000/svg\" height=\"24px\"viewBox=\"0 0 24 24\"\n",
              "       width=\"24px\">\n",
              "    <path d=\"M0 0h24v24H0V0z\" fill=\"none\"/>\n",
              "    <path d=\"M18.56 5.44l.94 2.06.94-2.06 2.06-.94-2.06-.94-.94-2.06-.94 2.06-2.06.94zm-11 1L8.5 8.5l.94-2.06 2.06-.94-2.06-.94L8.5 2.5l-.94 2.06-2.06.94zm10 10l.94 2.06.94-2.06 2.06-.94-2.06-.94-.94-2.06-.94 2.06-2.06.94z\"/><path d=\"M17.41 7.96l-1.37-1.37c-.4-.4-.92-.59-1.43-.59-.52 0-1.04.2-1.43.59L10.3 9.45l-7.72 7.72c-.78.78-.78 2.05 0 2.83L4 21.41c.39.39.9.59 1.41.59.51 0 1.02-.2 1.41-.59l7.78-7.78 2.81-2.81c.8-.78.8-2.07 0-2.86zM5.41 20L4 18.59l7.72-7.72 1.47 1.35L5.41 20z\"/>\n",
              "  </svg>\n",
              "      </button>\n",
              "      \n",
              "  <style>\n",
              "    .colab-df-container {\n",
              "      display:flex;\n",
              "      flex-wrap:wrap;\n",
              "      gap: 12px;\n",
              "    }\n",
              "\n",
              "    .colab-df-convert {\n",
              "      background-color: #E8F0FE;\n",
              "      border: none;\n",
              "      border-radius: 50%;\n",
              "      cursor: pointer;\n",
              "      display: none;\n",
              "      fill: #1967D2;\n",
              "      height: 32px;\n",
              "      padding: 0 0 0 0;\n",
              "      width: 32px;\n",
              "    }\n",
              "\n",
              "    .colab-df-convert:hover {\n",
              "      background-color: #E2EBFA;\n",
              "      box-shadow: 0px 1px 2px rgba(60, 64, 67, 0.3), 0px 1px 3px 1px rgba(60, 64, 67, 0.15);\n",
              "      fill: #174EA6;\n",
              "    }\n",
              "\n",
              "    [theme=dark] .colab-df-convert {\n",
              "      background-color: #3B4455;\n",
              "      fill: #D2E3FC;\n",
              "    }\n",
              "\n",
              "    [theme=dark] .colab-df-convert:hover {\n",
              "      background-color: #434B5C;\n",
              "      box-shadow: 0px 1px 3px 1px rgba(0, 0, 0, 0.15);\n",
              "      filter: drop-shadow(0px 1px 2px rgba(0, 0, 0, 0.3));\n",
              "      fill: #FFFFFF;\n",
              "    }\n",
              "  </style>\n",
              "\n",
              "      <script>\n",
              "        const buttonEl =\n",
              "          document.querySelector('#df-9e71dd57-785a-4132-b820-3c01f5094703 button.colab-df-convert');\n",
              "        buttonEl.style.display =\n",
              "          google.colab.kernel.accessAllowed ? 'block' : 'none';\n",
              "\n",
              "        async function convertToInteractive(key) {\n",
              "          const element = document.querySelector('#df-9e71dd57-785a-4132-b820-3c01f5094703');\n",
              "          const dataTable =\n",
              "            await google.colab.kernel.invokeFunction('convertToInteractive',\n",
              "                                                     [key], {});\n",
              "          if (!dataTable) return;\n",
              "\n",
              "          const docLinkHtml = 'Like what you see? Visit the ' +\n",
              "            '<a target=\"_blank\" href=https://colab.research.google.com/notebooks/data_table.ipynb>data table notebook</a>'\n",
              "            + ' to learn more about interactive tables.';\n",
              "          element.innerHTML = '';\n",
              "          dataTable['output_type'] = 'display_data';\n",
              "          await google.colab.output.renderOutput(dataTable, element);\n",
              "          const docLink = document.createElement('div');\n",
              "          docLink.innerHTML = docLinkHtml;\n",
              "          element.appendChild(docLink);\n",
              "        }\n",
              "      </script>\n",
              "    </div>\n",
              "  </div>\n",
              "  "
            ]
          },
          "metadata": {}
        },
        {
          "output_type": "stream",
          "name": "stdout",
          "text": [
            "Warning: Total number of columns (54) exceeds max_columns (20) limiting to first (20) columns.\n"
          ]
        }
      ],
      "source": [
        "display(train[train[\"srch_id\"] == 1].head())"
      ]
    },
    {
      "cell_type": "code",
      "execution_count": null,
      "metadata": {
        "id": "6EiepZb7r0Mz"
      },
      "outputs": [],
      "source": []
    }
  ],
  "metadata": {
    "kernelspec": {
      "display_name": "dmtech1",
      "language": "python",
      "name": "python3"
    },
    "language_info": {
      "codemirror_mode": {
        "name": "ipython",
        "version": 3
      },
      "file_extension": ".py",
      "mimetype": "text/x-python",
      "name": "python",
      "nbconvert_exporter": "python",
      "pygments_lexer": "ipython3",
      "version": "3.11.3"
    },
    "orig_nbformat": 4,
    "colab": {
      "provenance": [],
      "toc_visible": true
    }
  },
  "nbformat": 4,
  "nbformat_minor": 0
}