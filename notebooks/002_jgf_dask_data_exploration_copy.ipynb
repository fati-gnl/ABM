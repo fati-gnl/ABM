{
  "cells": [
    {
      "cell_type": "code",
      "source": [
        "!pip install dask_ml"
      ],
      "metadata": {
        "id": "zzNI3JTHm8_Q",
        "outputId": "b05e9292-de45-46ef-fb2d-331c4e6c228e",
        "colab": {
          "base_uri": "https://localhost:8080/"
        }
      },
      "execution_count": 1,
      "outputs": [
        {
          "output_type": "stream",
          "name": "stdout",
          "text": [
            "Looking in indexes: https://pypi.org/simple, https://us-python.pkg.dev/colab-wheels/public/simple/\n",
            "Collecting dask_ml\n",
            "  Downloading dask_ml-2023.3.24-py3-none-any.whl (148 kB)\n",
            "\u001b[2K     \u001b[90m━━━━━━━━━━━━━━━━━━━━━━━━━━━━━━━━━━━━━━\u001b[0m \u001b[32m148.7/148.7 kB\u001b[0m \u001b[31m11.0 MB/s\u001b[0m eta \u001b[36m0:00:00\u001b[0m\n",
            "\u001b[?25hRequirement already satisfied: dask[array,dataframe]>=2.4.0 in /usr/local/lib/python3.10/dist-packages (from dask_ml) (2022.12.1)\n",
            "Requirement already satisfied: distributed>=2.4.0 in /usr/local/lib/python3.10/dist-packages (from dask_ml) (2022.12.1)\n",
            "Requirement already satisfied: numba>=0.51.0 in /usr/local/lib/python3.10/dist-packages (from dask_ml) (0.56.4)\n",
            "Requirement already satisfied: numpy>=1.20.0 in /usr/local/lib/python3.10/dist-packages (from dask_ml) (1.22.4)\n",
            "Requirement already satisfied: pandas>=0.24.2 in /usr/local/lib/python3.10/dist-packages (from dask_ml) (1.5.3)\n",
            "Requirement already satisfied: scikit-learn>=1.2.0 in /usr/local/lib/python3.10/dist-packages (from dask_ml) (1.2.2)\n",
            "Requirement already satisfied: scipy in /usr/local/lib/python3.10/dist-packages (from dask_ml) (1.10.1)\n",
            "Collecting dask-glm>=0.2.0 (from dask_ml)\n",
            "  Downloading dask_glm-0.2.0-py2.py3-none-any.whl (12 kB)\n",
            "Requirement already satisfied: multipledispatch>=0.4.9 in /usr/local/lib/python3.10/dist-packages (from dask_ml) (0.6.0)\n",
            "Requirement already satisfied: packaging in /usr/local/lib/python3.10/dist-packages (from dask_ml) (23.1)\n",
            "Requirement already satisfied: cloudpickle>=0.2.2 in /usr/local/lib/python3.10/dist-packages (from dask-glm>=0.2.0->dask_ml) (2.2.1)\n",
            "Requirement already satisfied: click>=7.0 in /usr/local/lib/python3.10/dist-packages (from dask[array,dataframe]>=2.4.0->dask_ml) (8.1.3)\n",
            "Requirement already satisfied: fsspec>=0.6.0 in /usr/local/lib/python3.10/dist-packages (from dask[array,dataframe]>=2.4.0->dask_ml) (2023.4.0)\n",
            "Requirement already satisfied: partd>=0.3.10 in /usr/local/lib/python3.10/dist-packages (from dask[array,dataframe]>=2.4.0->dask_ml) (1.4.0)\n",
            "Requirement already satisfied: pyyaml>=5.3.1 in /usr/local/lib/python3.10/dist-packages (from dask[array,dataframe]>=2.4.0->dask_ml) (6.0)\n",
            "Requirement already satisfied: toolz>=0.8.2 in /usr/local/lib/python3.10/dist-packages (from dask[array,dataframe]>=2.4.0->dask_ml) (0.12.0)\n",
            "Requirement already satisfied: jinja2 in /usr/local/lib/python3.10/dist-packages (from distributed>=2.4.0->dask_ml) (3.1.2)\n",
            "Requirement already satisfied: locket>=1.0.0 in /usr/local/lib/python3.10/dist-packages (from distributed>=2.4.0->dask_ml) (1.0.0)\n",
            "Requirement already satisfied: msgpack>=0.6.0 in /usr/local/lib/python3.10/dist-packages (from distributed>=2.4.0->dask_ml) (1.0.5)\n",
            "Requirement already satisfied: psutil>=5.0 in /usr/local/lib/python3.10/dist-packages (from distributed>=2.4.0->dask_ml) (5.9.5)\n",
            "Requirement already satisfied: sortedcontainers!=2.0.0,!=2.0.1 in /usr/local/lib/python3.10/dist-packages (from distributed>=2.4.0->dask_ml) (2.4.0)\n",
            "Requirement already satisfied: tblib>=1.6.0 in /usr/local/lib/python3.10/dist-packages (from distributed>=2.4.0->dask_ml) (1.7.0)\n",
            "Requirement already satisfied: tornado>=6.0.3 in /usr/local/lib/python3.10/dist-packages (from distributed>=2.4.0->dask_ml) (6.3.1)\n",
            "Requirement already satisfied: urllib3 in /usr/local/lib/python3.10/dist-packages (from distributed>=2.4.0->dask_ml) (1.26.15)\n",
            "Requirement already satisfied: zict>=0.1.3 in /usr/local/lib/python3.10/dist-packages (from distributed>=2.4.0->dask_ml) (3.0.0)\n",
            "Requirement already satisfied: six in /usr/local/lib/python3.10/dist-packages (from multipledispatch>=0.4.9->dask_ml) (1.16.0)\n",
            "Requirement already satisfied: llvmlite<0.40,>=0.39.0dev0 in /usr/local/lib/python3.10/dist-packages (from numba>=0.51.0->dask_ml) (0.39.1)\n",
            "Requirement already satisfied: setuptools in /usr/local/lib/python3.10/dist-packages (from numba>=0.51.0->dask_ml) (67.7.2)\n",
            "Requirement already satisfied: python-dateutil>=2.8.1 in /usr/local/lib/python3.10/dist-packages (from pandas>=0.24.2->dask_ml) (2.8.2)\n",
            "Requirement already satisfied: pytz>=2020.1 in /usr/local/lib/python3.10/dist-packages (from pandas>=0.24.2->dask_ml) (2022.7.1)\n",
            "Requirement already satisfied: joblib>=1.1.1 in /usr/local/lib/python3.10/dist-packages (from scikit-learn>=1.2.0->dask_ml) (1.2.0)\n",
            "Requirement already satisfied: threadpoolctl>=2.0.0 in /usr/local/lib/python3.10/dist-packages (from scikit-learn>=1.2.0->dask_ml) (3.1.0)\n",
            "Requirement already satisfied: MarkupSafe>=2.0 in /usr/local/lib/python3.10/dist-packages (from jinja2->distributed>=2.4.0->dask_ml) (2.1.2)\n",
            "Installing collected packages: dask-glm, dask_ml\n",
            "Successfully installed dask-glm-0.2.0 dask_ml-2023.3.24\n"
          ]
        }
      ]
    },
    {
      "cell_type": "code",
      "source": [
        "!pip install lightgbm"
      ],
      "metadata": {
        "colab": {
          "base_uri": "https://localhost:8080/"
        },
        "id": "MBZ7Jpkg5HCp",
        "outputId": "f4b8a0c7-023e-4d29-cdee-047d00f2ac61"
      },
      "execution_count": 14,
      "outputs": [
        {
          "output_type": "stream",
          "name": "stdout",
          "text": [
            "Looking in indexes: https://pypi.org/simple, https://us-python.pkg.dev/colab-wheels/public/simple/\n",
            "Requirement already satisfied: lightgbm in /usr/local/lib/python3.10/dist-packages (3.3.5)\n",
            "Requirement already satisfied: wheel in /usr/local/lib/python3.10/dist-packages (from lightgbm) (0.40.0)\n",
            "Requirement already satisfied: numpy in /usr/local/lib/python3.10/dist-packages (from lightgbm) (1.22.4)\n",
            "Requirement already satisfied: scipy in /usr/local/lib/python3.10/dist-packages (from lightgbm) (1.10.1)\n",
            "Requirement already satisfied: scikit-learn!=0.22.0 in /usr/local/lib/python3.10/dist-packages (from lightgbm) (1.2.2)\n",
            "Requirement already satisfied: joblib>=1.1.1 in /usr/local/lib/python3.10/dist-packages (from scikit-learn!=0.22.0->lightgbm) (1.2.0)\n",
            "Requirement already satisfied: threadpoolctl>=2.0.0 in /usr/local/lib/python3.10/dist-packages (from scikit-learn!=0.22.0->lightgbm) (3.1.0)\n"
          ]
        }
      ]
    },
    {
      "cell_type": "code",
      "execution_count": 13,
      "metadata": {
        "id": "BqV9oDRWq0wc"
      },
      "outputs": [],
      "source": [
        "\"\"\" Use dask to explore the whole dataset\"\"\"\n",
        "import dask.dataframe as dd \n",
        "import numpy as np\n",
        "import pandas as pd\n",
        "import matplotlib.pyplot as plt\n",
        "from dask_ml.preprocessing import Categorizer\n",
        "from dask_ml.preprocessing import DummyEncoder\n",
        "import dask.config\n",
        "import lightgbm as lgb\n",
        "import xgboost as xgb\n",
        "from sklearn.datasets import load_svmlight_file\n",
        "from sklearn.model_selection import train_test_split"
      ]
    },
    {
      "cell_type": "code",
      "source": [
        "from google.colab import drive\n",
        "drive.mount('/content/drive')"
      ],
      "metadata": {
        "colab": {
          "base_uri": "https://localhost:8080/"
        },
        "id": "0sujk_y-sRtO",
        "outputId": "aebe876b-9054-4685-97db-0c801b431ec1"
      },
      "execution_count": 4,
      "outputs": [
        {
          "output_type": "stream",
          "name": "stdout",
          "text": [
            "Mounted at /content/drive\n"
          ]
        }
      ]
    },
    {
      "cell_type": "markdown",
      "source": [
        "### Jared's new data"
      ],
      "metadata": {
        "id": "P-uJ_Myf4waI"
      }
    },
    {
      "cell_type": "code",
      "source": [
        "train_new = dd.read_csv(\"drive/MyDrive/Raw/20230520-104214_train_official_fe.csv.gz\")"
      ],
      "metadata": {
        "id": "0oPd8qRR4okG",
        "outputId": "49e4ae47-b56e-4bdf-cf4d-1db87d42c967",
        "colab": {
          "base_uri": "https://localhost:8080/"
        }
      },
      "execution_count": 29,
      "outputs": [
        {
          "output_type": "stream",
          "name": "stderr",
          "text": [
            "/usr/local/lib/python3.10/dist-packages/dask/dataframe/io/csv.py:543: UserWarning: Warning gzip compression does not support breaking apart files\n",
            "Please ensure that each individual file can fit in memory and\n",
            "use the keyword ``blocksize=None to remove this message``\n",
            "Setting ``blocksize=None``\n",
            "  warn(\n"
          ]
        }
      ]
    },
    {
      "cell_type": "code",
      "source": [
        "train_new.columns"
      ],
      "metadata": {
        "id": "dgSRgvAm5WBY",
        "outputId": "e1131a20-8ad8-4a9c-cc65-3219bf538a59",
        "colab": {
          "base_uri": "https://localhost:8080/"
        }
      },
      "execution_count": 30,
      "outputs": [
        {
          "output_type": "execute_result",
          "data": {
            "text/plain": [
              "Index(['srch_id', 'site_id', 'visitor_location_country_id', 'prop_country_id',\n",
              "       'prop_id', 'prop_starrating', 'prop_review_score', 'prop_brand_bool',\n",
              "       'prop_location_score1', 'prop_location_score2',\n",
              "       ...\n",
              "       'srch_destination_id_srch_booking_window_max',\n",
              "       'srch_destination_id_orig_destination_distance_mean',\n",
              "       'srch_destination_id_orig_destination_distance_median',\n",
              "       'srch_destination_id_orig_destination_distance_min',\n",
              "       'srch_destination_id_orig_destination_distance_max', 'month',\n",
              "       'day_of_week', 'GBM_target', 'avg_price_hotel', 'price_diff'],\n",
              "      dtype='object', length=114)"
            ]
          },
          "metadata": {},
          "execution_count": 30
        }
      ]
    },
    {
      "cell_type": "code",
      "source": [
        "cols_to_drop = [\"GBM_target\", \"click_bool\", \"booking_bool\", \"random_bool\", \"position\", \"prop_review_score\", \"prop_location_score2\", \"orig_destination_distance\"]"
      ],
      "metadata": {
        "id": "3w6ycxcR8NO2"
      },
      "execution_count": 33,
      "outputs": []
    },
    {
      "cell_type": "code",
      "source": [
        "X = train_new.drop(cols_to_drop, axis=1).reset_index(drop=True).compute()\n",
        "y = train_new[\"GBM_target\"].values.compute()"
      ],
      "metadata": {
        "id": "YzNJYrOl56LS"
      },
      "execution_count": 34,
      "outputs": []
    },
    {
      "cell_type": "code",
      "source": [
        "from sklearn.model_selection import GroupShuffleSplit\n",
        "\n",
        "# Split the data into train and test sets\n",
        "idx_train, idx_test = next(GroupShuffleSplit(test_size=.40, n_splits=1, random_state = 7).split(X, groups=X['srch_id']))\n",
        "\n",
        "X_train = X.iloc[idx_train]\n",
        "X_test = X.iloc[idx_test]\n",
        "y_train = y[idx_train]\n",
        "y_test = y[idx_test]"
      ],
      "metadata": {
        "id": "0CVh5qja7SdR"
      },
      "execution_count": 35,
      "outputs": []
    },
    {
      "cell_type": "code",
      "source": [
        "train_data = lgb.Dataset(X_train, label=y_train, group=X_train.groupby('srch_id').size())\n",
        "test_data = lgb.Dataset(X_test, label=y_test, group=X_test.groupby('srch_id').size())"
      ],
      "metadata": {
        "id": "8bd2rJ-g7X3A"
      },
      "execution_count": 36,
      "outputs": []
    },
    {
      "cell_type": "code",
      "source": [
        "# Set hyperparameters for LightGBM\n",
        "params = {\n",
        "    \"objective\": \"lambdarank\",\n",
        "    \"metric\": \"ndcg\",\n",
        "    \"num_leaves\": 30,\n",
        "    \"min_data_in_leaf\":100,\n",
        "    \"learning_rate\": 0.05,\n",
        "    \"feature_fraction\": 0.8,\n",
        "    \"bagging_fraction\": 0.8,\n",
        "    \"bagging_freq\": 5,\n",
        "    \"verbose\": 0,\n",
        "    \"random_state\": 42\n",
        "}"
      ],
      "metadata": {
        "id": "bYWXA4Rm7cRU"
      },
      "execution_count": 37,
      "outputs": []
    },
    {
      "cell_type": "code",
      "source": [
        "lgb_model = lgb.train(params, train_data, num_boost_round=1000, valid_sets=[train_data, test_data], verbose_eval=10, early_stopping_rounds=200)"
      ],
      "metadata": {
        "id": "0V_rfyqe7e8B",
        "outputId": "cafba2b8-115a-4ae1-ec08-d132a5d08267",
        "colab": {
          "base_uri": "https://localhost:8080/"
        }
      },
      "execution_count": 38,
      "outputs": [
        {
          "output_type": "stream",
          "name": "stderr",
          "text": [
            "/usr/local/lib/python3.10/dist-packages/lightgbm/engine.py:181: UserWarning: 'early_stopping_rounds' argument is deprecated and will be removed in a future release of LightGBM. Pass 'early_stopping()' callback via 'callbacks' argument instead.\n",
            "  _log_warning(\"'early_stopping_rounds' argument is deprecated and will be removed in a future release of LightGBM. \"\n",
            "/usr/local/lib/python3.10/dist-packages/lightgbm/engine.py:239: UserWarning: 'verbose_eval' argument is deprecated and will be removed in a future release of LightGBM. Pass 'log_evaluation()' callback via 'callbacks' argument instead.\n",
            "  _log_warning(\"'verbose_eval' argument is deprecated and will be removed in a future release of LightGBM. \"\n"
          ]
        },
        {
          "output_type": "stream",
          "name": "stdout",
          "text": [
            "[LightGBM] [Warning] Auto-choosing col-wise multi-threading, the overhead of testing was 0.859260 seconds.\n",
            "You can set `force_col_wise=true` to remove the overhead.\n",
            "Training until validation scores don't improve for 200 rounds\n",
            "[10]\ttraining's ndcg@1: 0.507633\ttraining's ndcg@2: 0.527361\ttraining's ndcg@3: 0.548305\ttraining's ndcg@4: 0.565695\ttraining's ndcg@5: 0.580117\tvalid_1's ndcg@1: 0.487286\tvalid_1's ndcg@2: 0.506148\tvalid_1's ndcg@3: 0.526725\tvalid_1's ndcg@4: 0.544134\tvalid_1's ndcg@5: 0.558818\n",
            "[20]\ttraining's ndcg@1: 0.520138\ttraining's ndcg@2: 0.539351\ttraining's ndcg@3: 0.559697\ttraining's ndcg@4: 0.577492\ttraining's ndcg@5: 0.593277\tvalid_1's ndcg@1: 0.493073\tvalid_1's ndcg@2: 0.512863\tvalid_1's ndcg@3: 0.534298\tvalid_1's ndcg@4: 0.551787\tvalid_1's ndcg@5: 0.566226\n",
            "[30]\ttraining's ndcg@1: 0.52841\ttraining's ndcg@2: 0.549035\ttraining's ndcg@3: 0.570376\ttraining's ndcg@4: 0.588698\ttraining's ndcg@5: 0.60348\tvalid_1's ndcg@1: 0.496244\tvalid_1's ndcg@2: 0.516246\tvalid_1's ndcg@3: 0.538152\tvalid_1's ndcg@4: 0.556288\tvalid_1's ndcg@5: 0.570745\n",
            "[40]\ttraining's ndcg@1: 0.537008\ttraining's ndcg@2: 0.557871\ttraining's ndcg@3: 0.5787\ttraining's ndcg@4: 0.595545\ttraining's ndcg@5: 0.609772\tvalid_1's ndcg@1: 0.497999\tvalid_1's ndcg@2: 0.518373\tvalid_1's ndcg@3: 0.540079\tvalid_1's ndcg@4: 0.55817\tvalid_1's ndcg@5: 0.572895\n",
            "[50]\ttraining's ndcg@1: 0.543606\ttraining's ndcg@2: 0.563572\ttraining's ndcg@3: 0.584988\ttraining's ndcg@4: 0.601713\ttraining's ndcg@5: 0.616242\tvalid_1's ndcg@1: 0.49672\tvalid_1's ndcg@2: 0.519746\tvalid_1's ndcg@3: 0.541251\tvalid_1's ndcg@4: 0.559195\tvalid_1's ndcg@5: 0.573709\n",
            "[60]\ttraining's ndcg@1: 0.547101\ttraining's ndcg@2: 0.56814\ttraining's ndcg@3: 0.58962\ttraining's ndcg@4: 0.607276\ttraining's ndcg@5: 0.621148\tvalid_1's ndcg@1: 0.500317\tvalid_1's ndcg@2: 0.521809\tvalid_1's ndcg@3: 0.543657\tvalid_1's ndcg@4: 0.561237\tvalid_1's ndcg@5: 0.575784\n",
            "[70]\ttraining's ndcg@1: 0.553721\ttraining's ndcg@2: 0.573012\ttraining's ndcg@3: 0.594046\ttraining's ndcg@4: 0.612114\ttraining's ndcg@5: 0.626066\tvalid_1's ndcg@1: 0.499463\tvalid_1's ndcg@2: 0.521193\tvalid_1's ndcg@3: 0.543841\tvalid_1's ndcg@4: 0.561349\tvalid_1's ndcg@5: 0.576391\n",
            "[80]\ttraining's ndcg@1: 0.557573\ttraining's ndcg@2: 0.577546\ttraining's ndcg@3: 0.598363\ttraining's ndcg@4: 0.615787\ttraining's ndcg@5: 0.630174\tvalid_1's ndcg@1: 0.500701\tvalid_1's ndcg@2: 0.522451\tvalid_1's ndcg@3: 0.543919\tvalid_1's ndcg@4: 0.562398\tvalid_1's ndcg@5: 0.576874\n",
            "[90]\ttraining's ndcg@1: 0.562714\ttraining's ndcg@2: 0.581017\ttraining's ndcg@3: 0.602663\ttraining's ndcg@4: 0.619812\ttraining's ndcg@5: 0.633982\tvalid_1's ndcg@1: 0.500497\tvalid_1's ndcg@2: 0.522771\tvalid_1's ndcg@3: 0.545117\tvalid_1's ndcg@4: 0.563809\tvalid_1's ndcg@5: 0.578215\n",
            "[100]\ttraining's ndcg@1: 0.567064\ttraining's ndcg@2: 0.584711\ttraining's ndcg@3: 0.60577\ttraining's ndcg@4: 0.623208\ttraining's ndcg@5: 0.637154\tvalid_1's ndcg@1: 0.500779\tvalid_1's ndcg@2: 0.523684\tvalid_1's ndcg@3: 0.545676\tvalid_1's ndcg@4: 0.564031\tvalid_1's ndcg@5: 0.578821\n",
            "[110]\ttraining's ndcg@1: 0.57115\ttraining's ndcg@2: 0.588545\ttraining's ndcg@3: 0.609392\ttraining's ndcg@4: 0.627048\ttraining's ndcg@5: 0.641057\tvalid_1's ndcg@1: 0.502726\tvalid_1's ndcg@2: 0.523945\tvalid_1's ndcg@3: 0.546981\tvalid_1's ndcg@4: 0.564336\tvalid_1's ndcg@5: 0.580246\n",
            "[120]\ttraining's ndcg@1: 0.575449\ttraining's ndcg@2: 0.592035\ttraining's ndcg@3: 0.612368\ttraining's ndcg@4: 0.630578\ttraining's ndcg@5: 0.644881\tvalid_1's ndcg@1: 0.50454\tvalid_1's ndcg@2: 0.524752\tvalid_1's ndcg@3: 0.546754\tvalid_1's ndcg@4: 0.565006\tvalid_1's ndcg@5: 0.58052\n",
            "[130]\ttraining's ndcg@1: 0.57986\ttraining's ndcg@2: 0.596553\ttraining's ndcg@3: 0.616885\ttraining's ndcg@4: 0.634722\ttraining's ndcg@5: 0.64848\tvalid_1's ndcg@1: 0.505355\tvalid_1's ndcg@2: 0.525771\tvalid_1's ndcg@3: 0.547201\tvalid_1's ndcg@4: 0.565655\tvalid_1's ndcg@5: 0.58075\n",
            "[140]\ttraining's ndcg@1: 0.582941\ttraining's ndcg@2: 0.599924\ttraining's ndcg@3: 0.620202\ttraining's ndcg@4: 0.637966\ttraining's ndcg@5: 0.651919\tvalid_1's ndcg@1: 0.505353\tvalid_1's ndcg@2: 0.526246\tvalid_1's ndcg@3: 0.548357\tvalid_1's ndcg@4: 0.566199\tvalid_1's ndcg@5: 0.581275\n",
            "[150]\ttraining's ndcg@1: 0.588311\ttraining's ndcg@2: 0.603686\ttraining's ndcg@3: 0.624338\ttraining's ndcg@4: 0.641834\ttraining's ndcg@5: 0.655296\tvalid_1's ndcg@1: 0.504612\tvalid_1's ndcg@2: 0.52611\tvalid_1's ndcg@3: 0.548577\tvalid_1's ndcg@4: 0.56608\tvalid_1's ndcg@5: 0.580901\n",
            "[160]\ttraining's ndcg@1: 0.592351\ttraining's ndcg@2: 0.607239\ttraining's ndcg@3: 0.628357\ttraining's ndcg@4: 0.645412\ttraining's ndcg@5: 0.659194\tvalid_1's ndcg@1: 0.504618\tvalid_1's ndcg@2: 0.525905\tvalid_1's ndcg@3: 0.547814\tvalid_1's ndcg@4: 0.566043\tvalid_1's ndcg@5: 0.580835\n",
            "[170]\ttraining's ndcg@1: 0.595466\ttraining's ndcg@2: 0.610698\ttraining's ndcg@3: 0.631808\ttraining's ndcg@4: 0.648687\ttraining's ndcg@5: 0.662358\tvalid_1's ndcg@1: 0.504364\tvalid_1's ndcg@2: 0.525091\tvalid_1's ndcg@3: 0.54816\tvalid_1's ndcg@4: 0.566355\tvalid_1's ndcg@5: 0.580972\n",
            "[180]\ttraining's ndcg@1: 0.598179\ttraining's ndcg@2: 0.613761\ttraining's ndcg@3: 0.634595\ttraining's ndcg@4: 0.651762\ttraining's ndcg@5: 0.665243\tvalid_1's ndcg@1: 0.505986\tvalid_1's ndcg@2: 0.524806\tvalid_1's ndcg@3: 0.548626\tvalid_1's ndcg@4: 0.566544\tvalid_1's ndcg@5: 0.581629\n",
            "[190]\ttraining's ndcg@1: 0.601739\ttraining's ndcg@2: 0.617403\ttraining's ndcg@3: 0.637694\ttraining's ndcg@4: 0.655406\ttraining's ndcg@5: 0.668761\tvalid_1's ndcg@1: 0.507791\tvalid_1's ndcg@2: 0.526284\tvalid_1's ndcg@3: 0.549717\tvalid_1's ndcg@4: 0.567642\tvalid_1's ndcg@5: 0.582829\n",
            "[200]\ttraining's ndcg@1: 0.605112\ttraining's ndcg@2: 0.62049\ttraining's ndcg@3: 0.641045\ttraining's ndcg@4: 0.658226\ttraining's ndcg@5: 0.671201\tvalid_1's ndcg@1: 0.506795\tvalid_1's ndcg@2: 0.526687\tvalid_1's ndcg@3: 0.549349\tvalid_1's ndcg@4: 0.567538\tvalid_1's ndcg@5: 0.582661\n",
            "[210]\ttraining's ndcg@1: 0.608758\ttraining's ndcg@2: 0.623739\ttraining's ndcg@3: 0.643878\ttraining's ndcg@4: 0.660949\ttraining's ndcg@5: 0.673744\tvalid_1's ndcg@1: 0.506793\tvalid_1's ndcg@2: 0.526814\tvalid_1's ndcg@3: 0.549327\tvalid_1's ndcg@4: 0.567835\tvalid_1's ndcg@5: 0.582425\n",
            "[220]\ttraining's ndcg@1: 0.613291\ttraining's ndcg@2: 0.628058\ttraining's ndcg@3: 0.647828\ttraining's ndcg@4: 0.664486\ttraining's ndcg@5: 0.677094\tvalid_1's ndcg@1: 0.505973\tvalid_1's ndcg@2: 0.527582\tvalid_1's ndcg@3: 0.549271\tvalid_1's ndcg@4: 0.567931\tvalid_1's ndcg@5: 0.582677\n",
            "[230]\ttraining's ndcg@1: 0.616163\ttraining's ndcg@2: 0.630655\ttraining's ndcg@3: 0.650928\ttraining's ndcg@4: 0.667358\ttraining's ndcg@5: 0.680261\tvalid_1's ndcg@1: 0.506666\tvalid_1's ndcg@2: 0.527015\tvalid_1's ndcg@3: 0.549482\tvalid_1's ndcg@4: 0.568621\tvalid_1's ndcg@5: 0.583008\n",
            "[240]\ttraining's ndcg@1: 0.620088\ttraining's ndcg@2: 0.6337\ttraining's ndcg@3: 0.653532\ttraining's ndcg@4: 0.670183\ttraining's ndcg@5: 0.683145\tvalid_1's ndcg@1: 0.506975\tvalid_1's ndcg@2: 0.527548\tvalid_1's ndcg@3: 0.550066\tvalid_1's ndcg@4: 0.568776\tvalid_1's ndcg@5: 0.583103\n",
            "[250]\ttraining's ndcg@1: 0.623011\ttraining's ndcg@2: 0.636645\ttraining's ndcg@3: 0.656156\ttraining's ndcg@4: 0.672972\ttraining's ndcg@5: 0.685661\tvalid_1's ndcg@1: 0.507803\tvalid_1's ndcg@2: 0.527451\tvalid_1's ndcg@3: 0.550276\tvalid_1's ndcg@4: 0.569015\tvalid_1's ndcg@5: 0.583445\n",
            "[260]\ttraining's ndcg@1: 0.62702\ttraining's ndcg@2: 0.639549\ttraining's ndcg@3: 0.659633\ttraining's ndcg@4: 0.675982\ttraining's ndcg@5: 0.688767\tvalid_1's ndcg@1: 0.507795\tvalid_1's ndcg@2: 0.528674\tvalid_1's ndcg@3: 0.550308\tvalid_1's ndcg@4: 0.568948\tvalid_1's ndcg@5: 0.583839\n",
            "[270]\ttraining's ndcg@1: 0.629694\ttraining's ndcg@2: 0.642223\ttraining's ndcg@3: 0.662003\ttraining's ndcg@4: 0.678756\ttraining's ndcg@5: 0.690978\tvalid_1's ndcg@1: 0.508665\tvalid_1's ndcg@2: 0.52889\tvalid_1's ndcg@3: 0.550721\tvalid_1's ndcg@4: 0.569017\tvalid_1's ndcg@5: 0.584069\n",
            "[280]\ttraining's ndcg@1: 0.633816\ttraining's ndcg@2: 0.645836\ttraining's ndcg@3: 0.665294\ttraining's ndcg@4: 0.681475\ttraining's ndcg@5: 0.693881\tvalid_1's ndcg@1: 0.509051\tvalid_1's ndcg@2: 0.529267\tvalid_1's ndcg@3: 0.551061\tvalid_1's ndcg@4: 0.56892\tvalid_1's ndcg@5: 0.584492\n",
            "[290]\ttraining's ndcg@1: 0.636639\ttraining's ndcg@2: 0.648313\ttraining's ndcg@3: 0.667549\ttraining's ndcg@4: 0.683893\ttraining's ndcg@5: 0.696206\tvalid_1's ndcg@1: 0.509108\tvalid_1's ndcg@2: 0.529766\tvalid_1's ndcg@3: 0.550667\tvalid_1's ndcg@4: 0.568924\tvalid_1's ndcg@5: 0.584631\n",
            "[300]\ttraining's ndcg@1: 0.639189\ttraining's ndcg@2: 0.650998\ttraining's ndcg@3: 0.670122\ttraining's ndcg@4: 0.686097\ttraining's ndcg@5: 0.698467\tvalid_1's ndcg@1: 0.50954\tvalid_1's ndcg@2: 0.528987\tvalid_1's ndcg@3: 0.550644\tvalid_1's ndcg@4: 0.569088\tvalid_1's ndcg@5: 0.58455\n",
            "[310]\ttraining's ndcg@1: 0.641769\ttraining's ndcg@2: 0.653486\ttraining's ndcg@3: 0.672741\ttraining's ndcg@4: 0.688312\ttraining's ndcg@5: 0.70053\tvalid_1's ndcg@1: 0.509182\tvalid_1's ndcg@2: 0.529344\tvalid_1's ndcg@3: 0.551215\tvalid_1's ndcg@4: 0.569098\tvalid_1's ndcg@5: 0.584747\n",
            "[320]\ttraining's ndcg@1: 0.644452\ttraining's ndcg@2: 0.655823\ttraining's ndcg@3: 0.674992\ttraining's ndcg@4: 0.690849\ttraining's ndcg@5: 0.702909\tvalid_1's ndcg@1: 0.508055\tvalid_1's ndcg@2: 0.529769\tvalid_1's ndcg@3: 0.551045\tvalid_1's ndcg@4: 0.56912\tvalid_1's ndcg@5: 0.584838\n",
            "[330]\ttraining's ndcg@1: 0.647111\ttraining's ndcg@2: 0.658378\ttraining's ndcg@3: 0.677478\ttraining's ndcg@4: 0.692925\ttraining's ndcg@5: 0.705346\tvalid_1's ndcg@1: 0.508257\tvalid_1's ndcg@2: 0.529996\tvalid_1's ndcg@3: 0.551323\tvalid_1's ndcg@4: 0.569378\tvalid_1's ndcg@5: 0.58435\n",
            "[340]\ttraining's ndcg@1: 0.651071\ttraining's ndcg@2: 0.661308\ttraining's ndcg@3: 0.679907\ttraining's ndcg@4: 0.695666\ttraining's ndcg@5: 0.708184\tvalid_1's ndcg@1: 0.507068\tvalid_1's ndcg@2: 0.528976\tvalid_1's ndcg@3: 0.550492\tvalid_1's ndcg@4: 0.569103\tvalid_1's ndcg@5: 0.584193\n",
            "[350]\ttraining's ndcg@1: 0.653619\ttraining's ndcg@2: 0.664218\ttraining's ndcg@3: 0.682165\ttraining's ndcg@4: 0.697767\ttraining's ndcg@5: 0.710167\tvalid_1's ndcg@1: 0.507007\tvalid_1's ndcg@2: 0.528973\tvalid_1's ndcg@3: 0.550411\tvalid_1's ndcg@4: 0.568898\tvalid_1's ndcg@5: 0.584186\n",
            "[360]\ttraining's ndcg@1: 0.656124\ttraining's ndcg@2: 0.666413\ttraining's ndcg@3: 0.684517\ttraining's ndcg@4: 0.700066\ttraining's ndcg@5: 0.712485\tvalid_1's ndcg@1: 0.505503\tvalid_1's ndcg@2: 0.528726\tvalid_1's ndcg@3: 0.550042\tvalid_1's ndcg@4: 0.568702\tvalid_1's ndcg@5: 0.583211\n",
            "[370]\ttraining's ndcg@1: 0.65799\ttraining's ndcg@2: 0.668258\ttraining's ndcg@3: 0.686365\ttraining's ndcg@4: 0.702316\ttraining's ndcg@5: 0.714661\tvalid_1's ndcg@1: 0.506244\tvalid_1's ndcg@2: 0.528161\tvalid_1's ndcg@3: 0.549972\tvalid_1's ndcg@4: 0.568547\tvalid_1's ndcg@5: 0.583116\n",
            "[380]\ttraining's ndcg@1: 0.661163\ttraining's ndcg@2: 0.671044\ttraining's ndcg@3: 0.688854\ttraining's ndcg@4: 0.704781\ttraining's ndcg@5: 0.717085\tvalid_1's ndcg@1: 0.507357\tvalid_1's ndcg@2: 0.528163\tvalid_1's ndcg@3: 0.550196\tvalid_1's ndcg@4: 0.568485\tvalid_1's ndcg@5: 0.583197\n",
            "[390]\ttraining's ndcg@1: 0.663787\ttraining's ndcg@2: 0.673173\ttraining's ndcg@3: 0.691015\ttraining's ndcg@4: 0.70726\ttraining's ndcg@5: 0.719214\tvalid_1's ndcg@1: 0.506846\tvalid_1's ndcg@2: 0.52889\tvalid_1's ndcg@3: 0.550282\tvalid_1's ndcg@4: 0.568477\tvalid_1's ndcg@5: 0.583359\n",
            "[400]\ttraining's ndcg@1: 0.666127\ttraining's ndcg@2: 0.675286\ttraining's ndcg@3: 0.692978\ttraining's ndcg@4: 0.709324\ttraining's ndcg@5: 0.721455\tvalid_1's ndcg@1: 0.507654\tvalid_1's ndcg@2: 0.528663\tvalid_1's ndcg@3: 0.550698\tvalid_1's ndcg@4: 0.568693\tvalid_1's ndcg@5: 0.58362\n",
            "[410]\ttraining's ndcg@1: 0.669122\ttraining's ndcg@2: 0.677569\ttraining's ndcg@3: 0.695434\ttraining's ndcg@4: 0.711349\ttraining's ndcg@5: 0.723475\tvalid_1's ndcg@1: 0.506531\tvalid_1's ndcg@2: 0.52829\tvalid_1's ndcg@3: 0.550328\tvalid_1's ndcg@4: 0.568348\tvalid_1's ndcg@5: 0.58292\n",
            "[420]\ttraining's ndcg@1: 0.672005\ttraining's ndcg@2: 0.680224\ttraining's ndcg@3: 0.698009\ttraining's ndcg@4: 0.713393\ttraining's ndcg@5: 0.725855\tvalid_1's ndcg@1: 0.507716\tvalid_1's ndcg@2: 0.529093\tvalid_1's ndcg@3: 0.551225\tvalid_1's ndcg@4: 0.56861\tvalid_1's ndcg@5: 0.583721\n",
            "[430]\ttraining's ndcg@1: 0.674299\ttraining's ndcg@2: 0.682859\ttraining's ndcg@3: 0.700101\ttraining's ndcg@4: 0.71556\ttraining's ndcg@5: 0.727812\tvalid_1's ndcg@1: 0.508029\tvalid_1's ndcg@2: 0.529166\tvalid_1's ndcg@3: 0.551232\tvalid_1's ndcg@4: 0.56868\tvalid_1's ndcg@5: 0.58419\n",
            "[440]\ttraining's ndcg@1: 0.676143\ttraining's ndcg@2: 0.68481\ttraining's ndcg@3: 0.702027\ttraining's ndcg@4: 0.717795\ttraining's ndcg@5: 0.72949\tvalid_1's ndcg@1: 0.507393\tvalid_1's ndcg@2: 0.529541\tvalid_1's ndcg@3: 0.551134\tvalid_1's ndcg@4: 0.568995\tvalid_1's ndcg@5: 0.584455\n",
            "[450]\ttraining's ndcg@1: 0.6786\ttraining's ndcg@2: 0.686717\ttraining's ndcg@3: 0.704095\ttraining's ndcg@4: 0.719786\ttraining's ndcg@5: 0.731648\tvalid_1's ndcg@1: 0.505832\tvalid_1's ndcg@2: 0.528429\tvalid_1's ndcg@3: 0.550705\tvalid_1's ndcg@4: 0.568234\tvalid_1's ndcg@5: 0.58392\n",
            "[460]\ttraining's ndcg@1: 0.681476\ttraining's ndcg@2: 0.688689\ttraining's ndcg@3: 0.706141\ttraining's ndcg@4: 0.721829\ttraining's ndcg@5: 0.733332\tvalid_1's ndcg@1: 0.506395\tvalid_1's ndcg@2: 0.528362\tvalid_1's ndcg@3: 0.550384\tvalid_1's ndcg@4: 0.568194\tvalid_1's ndcg@5: 0.583577\n",
            "[470]\ttraining's ndcg@1: 0.682949\ttraining's ndcg@2: 0.690067\ttraining's ndcg@3: 0.707445\ttraining's ndcg@4: 0.723384\ttraining's ndcg@5: 0.73511\tvalid_1's ndcg@1: 0.506771\tvalid_1's ndcg@2: 0.528029\tvalid_1's ndcg@3: 0.550881\tvalid_1's ndcg@4: 0.568202\tvalid_1's ndcg@5: 0.584036\n",
            "Early stopping, best iteration is:\n",
            "[276]\ttraining's ndcg@1: 0.631905\ttraining's ndcg@2: 0.644016\ttraining's ndcg@3: 0.66367\ttraining's ndcg@4: 0.680347\ttraining's ndcg@5: 0.69261\tvalid_1's ndcg@1: 0.509554\tvalid_1's ndcg@2: 0.529774\tvalid_1's ndcg@3: 0.551554\tvalid_1's ndcg@4: 0.569319\tvalid_1's ndcg@5: 0.584485\n"
          ]
        }
      ]
    },
    {
      "cell_type": "code",
      "source": [
        "# Let's see top 25 features as identified by the lightgbm model.\n",
        "print(\"Features importance...\")\n",
        "gain = lgb_model.feature_importance('gain')\n",
        "feat_imp = pd.DataFrame({'feature':lgb_model.feature_name(), \n",
        "                         'split':lgb_model.feature_importance('split'), \n",
        "                         'gain':100 * gain / gain.sum()}).sort_values('gain', ascending=False)\n",
        "print('Top 25 features:\\n', feat_imp.head(25))"
      ],
      "metadata": {
        "id": "-Zr7IBAz7iks",
        "outputId": "340128ce-aa3e-41f9-b819-6dcd92ed2038",
        "colab": {
          "base_uri": "https://localhost:8080/"
        }
      },
      "execution_count": 39,
      "outputs": [
        {
          "output_type": "stream",
          "name": "stdout",
          "text": [
            "Features importance...\n",
            "Top 25 features:\n",
            "                                           feature  split      gain\n",
            "9                                       price_usd    389  5.578071\n",
            "105                                    price_diff    296  4.698994\n",
            "32                          srch_id_price_usd_min    277  4.318679\n",
            "30                         srch_id_price_usd_mean    230  3.511156\n",
            "53               prop_id_prop_location_score2_max    188  3.171726\n",
            "31                       srch_id_price_usd_median    227  2.934828\n",
            "51            prop_id_prop_location_score2_median    203  2.818346\n",
            "25               srch_id_prop_location_score2_max    158  2.693124\n",
            "52               prop_id_prop_location_score2_min    189  2.605356\n",
            "29          srch_id_prop_log_historical_price_max    154  2.354033\n",
            "26         srch_id_prop_log_historical_price_mean    148  1.912236\n",
            "50              prop_id_prop_location_score2_mean    138  1.877115\n",
            "8                       prop_log_historical_price    156  1.832971\n",
            "33                          srch_id_price_usd_max    152  1.764559\n",
            "7                            prop_location_score1    137  1.740664\n",
            "5                                 prop_starrating    116  1.699784\n",
            "55       prop_id_prop_log_historical_price_median    131  1.506708\n",
            "24               srch_id_prop_location_score2_min    117  1.506133\n",
            "4                                         prop_id    150  1.460377\n",
            "18              srch_id_prop_location_score1_mean    107  1.427210\n",
            "19            srch_id_prop_location_score1_median    112  1.416322\n",
            "27       srch_id_prop_log_historical_price_median    102  1.271964\n",
            "13                            srch_booking_window    111  1.246134\n",
            "23            srch_id_prop_location_score2_median     95  1.225491\n",
            "81   srch_destination_id_prop_location_score2_max     80  1.217904\n"
          ]
        }
      ]
    },
    {
      "cell_type": "code",
      "source": [
        "import joblib"
      ],
      "metadata": {
        "id": "WUAHB34i8CzT"
      },
      "execution_count": 40,
      "outputs": []
    },
    {
      "cell_type": "code",
      "source": [
        "joblib.dump(lgb_model, 'drive/MyDrive/Raw/trained_lightgbm_new.pkl')"
      ],
      "metadata": {
        "id": "gThV820p7o8w",
        "outputId": "dab0f280-adf8-4e2f-c401-ac81d2d1628f",
        "colab": {
          "base_uri": "https://localhost:8080/"
        }
      },
      "execution_count": 41,
      "outputs": [
        {
          "output_type": "execute_result",
          "data": {
            "text/plain": [
              "['drive/MyDrive/Raw/trained_lightgbm_new.pkl']"
            ]
          },
          "metadata": {},
          "execution_count": 41
        }
      ]
    },
    {
      "cell_type": "markdown",
      "source": [
        "### Previous Models"
      ],
      "metadata": {
        "id": "A3EYQ_vL4tUb"
      }
    },
    {
      "cell_type": "code",
      "source": [
        "test_1 = dd.read_csv(\"drive/MyDrive/Raw/test\")"
      ],
      "metadata": {
        "id": "XmYZKJIoPJ0b"
      },
      "execution_count": null,
      "outputs": []
    },
    {
      "cell_type": "code",
      "source": [
        "train1 = dd.read_csv(\"drive/MyDrive/Raw/train1.csv\")"
      ],
      "metadata": {
        "id": "XLDOLShoKUn8"
      },
      "execution_count": null,
      "outputs": []
    },
    {
      "cell_type": "code",
      "source": [
        "train1.shape[0].compute()"
      ],
      "metadata": {
        "colab": {
          "base_uri": "https://localhost:8080/"
        },
        "id": "ROYDPE4dNlx7",
        "outputId": "50dd29b9-2d54-49b5-c42e-8e7b2d7ccadb"
      },
      "execution_count": null,
      "outputs": [
        {
          "output_type": "execute_result",
          "data": {
            "text/plain": [
              "4958347"
            ]
          },
          "metadata": {},
          "execution_count": 32
        }
      ]
    },
    {
      "cell_type": "code",
      "source": [
        "all = train1.isna().sum().compute()"
      ],
      "metadata": {
        "id": "xnOsgrNWKYGg"
      },
      "execution_count": null,
      "outputs": []
    },
    {
      "cell_type": "code",
      "source": [
        "all[all.values > 0]"
      ],
      "metadata": {
        "colab": {
          "base_uri": "https://localhost:8080/"
        },
        "id": "CeRJGq1ZKlEC",
        "outputId": "876372b9-1497-46c6-afd2-bfca0672aa3c"
      },
      "execution_count": null,
      "outputs": [
        {
          "output_type": "execute_result",
          "data": {
            "text/plain": [
              "prop_review_score                                       7364\n",
              "prop_location_score2                                 1090348\n",
              "orig_destination_distance                            1607782\n",
              "srch_id_prop_location_score1_std                         136\n",
              "srch_id_prop_log_historical_price_std                    393\n",
              "srch_id_orig_destination_distance_mean               1607782\n",
              "srch_id_orig_destination_distance_median             1607782\n",
              "srch_id_orig_destination_distance_std                1607782\n",
              "srch_id_orig_destination_distance_min                1607782\n",
              "srch_id_orig_destination_distance_max                1607782\n",
              "prop_id_prop_location_score1_std                     1237745\n",
              "prop_id_prop_log_historical_price_std                  13280\n",
              "prop_id_price_usd_std                                  12871\n",
              "prop_id_srch_length_of_stay_std                        12868\n",
              "prop_id_srch_booking_window_std                        12868\n",
              "prop_id_orig_destination_distance_mean                 44886\n",
              "prop_id_orig_destination_distance_median               44886\n",
              "prop_id_orig_destination_distance_std                 113458\n",
              "prop_id_orig_destination_distance_min                  44886\n",
              "prop_id_orig_destination_distance_max                  44886\n",
              "srch_destination_id_prop_location_score1_std              37\n",
              "srch_destination_id_prop_log_historical_price_std         21\n",
              "srch_destination_id_orig_destination_distance_std     124834\n",
              "srch_destination_id_orig_destination_distance_min     124834\n",
              "srch_destination_id_orig_destination_distance_max     124834\n",
              "dtype: int64"
            ]
          },
          "metadata": {},
          "execution_count": 31
        }
      ]
    },
    {
      "cell_type": "code",
      "source": [
        "train1[train1[\"srch_id_prop_log_historical_price_std\"].isna()].head(10)[\"prop_log_historical_price\"]"
      ],
      "metadata": {
        "colab": {
          "base_uri": "https://localhost:8080/"
        },
        "id": "hS3dRTuFQEbK",
        "outputId": "0943b6b7-1e73-4a54-9ff3-51f227046770"
      },
      "execution_count": null,
      "outputs": [
        {
          "output_type": "execute_result",
          "data": {
            "text/plain": [
              "20097    6.21\n",
              "20127    6.21\n",
              "20609    6.21\n",
              "21342    6.21\n",
              "21606    6.21\n",
              "21646    6.21\n",
              "21693    6.21\n",
              "21994    6.21\n",
              "22011    6.21\n",
              "22033    6.21\n",
              "Name: prop_log_historical_price, dtype: float64"
            ]
          },
          "metadata": {},
          "execution_count": 38
        }
      ]
    },
    {
      "cell_type": "code",
      "source": [
        "test_1.head(2)"
      ],
      "metadata": {
        "id": "DkEoSQ0sPOPX",
        "outputId": "296e4b7f-60c7-478b-ac12-5c2e81827b6d",
        "colab": {
          "base_uri": "https://localhost:8080/",
          "height": 258
        }
      },
      "execution_count": null,
      "outputs": [
        {
          "output_type": "execute_result",
          "data": {
            "text/plain": [
              "   Unnamed: 0  srch_id            date_time  site_id  \\\n",
              "0           0        1  2013-02-02 15:27:40       24   \n",
              "1           1     5883  2012-12-07 06:01:55        5   \n",
              "\n",
              "   visitor_location_country_id  visitor_hist_starrating  visitor_hist_adr_usd  \\\n",
              "0                          216                      NaN                   NaN   \n",
              "1                          219                      NaN                   NaN   \n",
              "\n",
              "   prop_country_id  prop_id  prop_starrating  ...  \\\n",
              "0              219     3180                3  ...   \n",
              "1              219     3180                3  ...   \n",
              "\n",
              "   srch_destination_id_srch_booking_window_mean  \\\n",
              "0                                     21.522428   \n",
              "1                                     21.522428   \n",
              "\n",
              "   srch_destination_id_srch_booking_window_median  \\\n",
              "0                                            10.0   \n",
              "1                                            10.0   \n",
              "\n",
              "   srch_destination_id_srch_booking_window_std  \\\n",
              "0                                    35.988685   \n",
              "1                                    35.988685   \n",
              "\n",
              "   srch_destination_id_srch_booking_window_min  \\\n",
              "0                                            0   \n",
              "1                                            0   \n",
              "\n",
              "   srch_destination_id_srch_booking_window_max  \\\n",
              "0                                          229   \n",
              "1                                          229   \n",
              "\n",
              "   srch_destination_id_orig_destination_distance_mean  \\\n",
              "0                                         710.258866    \n",
              "1                                         710.258866    \n",
              "\n",
              "   srch_destination_id_orig_destination_distance_median  \\\n",
              "0                                            162.725      \n",
              "1                                            162.725      \n",
              "\n",
              "   srch_destination_id_orig_destination_distance_std  \\\n",
              "0                                         884.619076   \n",
              "1                                         884.619076   \n",
              "\n",
              "   srch_destination_id_orig_destination_distance_min  \\\n",
              "0                                               0.75   \n",
              "1                                               0.75   \n",
              "\n",
              "   srch_destination_id_orig_destination_distance_max  \n",
              "0                                            2606.14  \n",
              "1                                            2606.14  \n",
              "\n",
              "[2 rows x 145 columns]"
            ],
            "text/html": [
              "\n",
              "  <div id=\"df-af542553-3cb8-409a-9354-0ddcce059fbe\">\n",
              "    <div class=\"colab-df-container\">\n",
              "      <div>\n",
              "<style scoped>\n",
              "    .dataframe tbody tr th:only-of-type {\n",
              "        vertical-align: middle;\n",
              "    }\n",
              "\n",
              "    .dataframe tbody tr th {\n",
              "        vertical-align: top;\n",
              "    }\n",
              "\n",
              "    .dataframe thead th {\n",
              "        text-align: right;\n",
              "    }\n",
              "</style>\n",
              "<table border=\"1\" class=\"dataframe\">\n",
              "  <thead>\n",
              "    <tr style=\"text-align: right;\">\n",
              "      <th></th>\n",
              "      <th>Unnamed: 0</th>\n",
              "      <th>srch_id</th>\n",
              "      <th>date_time</th>\n",
              "      <th>site_id</th>\n",
              "      <th>visitor_location_country_id</th>\n",
              "      <th>visitor_hist_starrating</th>\n",
              "      <th>visitor_hist_adr_usd</th>\n",
              "      <th>prop_country_id</th>\n",
              "      <th>prop_id</th>\n",
              "      <th>prop_starrating</th>\n",
              "      <th>...</th>\n",
              "      <th>srch_destination_id_srch_booking_window_mean</th>\n",
              "      <th>srch_destination_id_srch_booking_window_median</th>\n",
              "      <th>srch_destination_id_srch_booking_window_std</th>\n",
              "      <th>srch_destination_id_srch_booking_window_min</th>\n",
              "      <th>srch_destination_id_srch_booking_window_max</th>\n",
              "      <th>srch_destination_id_orig_destination_distance_mean</th>\n",
              "      <th>srch_destination_id_orig_destination_distance_median</th>\n",
              "      <th>srch_destination_id_orig_destination_distance_std</th>\n",
              "      <th>srch_destination_id_orig_destination_distance_min</th>\n",
              "      <th>srch_destination_id_orig_destination_distance_max</th>\n",
              "    </tr>\n",
              "  </thead>\n",
              "  <tbody>\n",
              "    <tr>\n",
              "      <th>0</th>\n",
              "      <td>0</td>\n",
              "      <td>1</td>\n",
              "      <td>2013-02-02 15:27:40</td>\n",
              "      <td>24</td>\n",
              "      <td>216</td>\n",
              "      <td>NaN</td>\n",
              "      <td>NaN</td>\n",
              "      <td>219</td>\n",
              "      <td>3180</td>\n",
              "      <td>3</td>\n",
              "      <td>...</td>\n",
              "      <td>21.522428</td>\n",
              "      <td>10.0</td>\n",
              "      <td>35.988685</td>\n",
              "      <td>0</td>\n",
              "      <td>229</td>\n",
              "      <td>710.258866</td>\n",
              "      <td>162.725</td>\n",
              "      <td>884.619076</td>\n",
              "      <td>0.75</td>\n",
              "      <td>2606.14</td>\n",
              "    </tr>\n",
              "    <tr>\n",
              "      <th>1</th>\n",
              "      <td>1</td>\n",
              "      <td>5883</td>\n",
              "      <td>2012-12-07 06:01:55</td>\n",
              "      <td>5</td>\n",
              "      <td>219</td>\n",
              "      <td>NaN</td>\n",
              "      <td>NaN</td>\n",
              "      <td>219</td>\n",
              "      <td>3180</td>\n",
              "      <td>3</td>\n",
              "      <td>...</td>\n",
              "      <td>21.522428</td>\n",
              "      <td>10.0</td>\n",
              "      <td>35.988685</td>\n",
              "      <td>0</td>\n",
              "      <td>229</td>\n",
              "      <td>710.258866</td>\n",
              "      <td>162.725</td>\n",
              "      <td>884.619076</td>\n",
              "      <td>0.75</td>\n",
              "      <td>2606.14</td>\n",
              "    </tr>\n",
              "  </tbody>\n",
              "</table>\n",
              "<p>2 rows × 145 columns</p>\n",
              "</div>\n",
              "      <button class=\"colab-df-convert\" onclick=\"convertToInteractive('df-af542553-3cb8-409a-9354-0ddcce059fbe')\"\n",
              "              title=\"Convert this dataframe to an interactive table.\"\n",
              "              style=\"display:none;\">\n",
              "        \n",
              "  <svg xmlns=\"http://www.w3.org/2000/svg\" height=\"24px\"viewBox=\"0 0 24 24\"\n",
              "       width=\"24px\">\n",
              "    <path d=\"M0 0h24v24H0V0z\" fill=\"none\"/>\n",
              "    <path d=\"M18.56 5.44l.94 2.06.94-2.06 2.06-.94-2.06-.94-.94-2.06-.94 2.06-2.06.94zm-11 1L8.5 8.5l.94-2.06 2.06-.94-2.06-.94L8.5 2.5l-.94 2.06-2.06.94zm10 10l.94 2.06.94-2.06 2.06-.94-2.06-.94-.94-2.06-.94 2.06-2.06.94z\"/><path d=\"M17.41 7.96l-1.37-1.37c-.4-.4-.92-.59-1.43-.59-.52 0-1.04.2-1.43.59L10.3 9.45l-7.72 7.72c-.78.78-.78 2.05 0 2.83L4 21.41c.39.39.9.59 1.41.59.51 0 1.02-.2 1.41-.59l7.78-7.78 2.81-2.81c.8-.78.8-2.07 0-2.86zM5.41 20L4 18.59l7.72-7.72 1.47 1.35L5.41 20z\"/>\n",
              "  </svg>\n",
              "      </button>\n",
              "      \n",
              "  <style>\n",
              "    .colab-df-container {\n",
              "      display:flex;\n",
              "      flex-wrap:wrap;\n",
              "      gap: 12px;\n",
              "    }\n",
              "\n",
              "    .colab-df-convert {\n",
              "      background-color: #E8F0FE;\n",
              "      border: none;\n",
              "      border-radius: 50%;\n",
              "      cursor: pointer;\n",
              "      display: none;\n",
              "      fill: #1967D2;\n",
              "      height: 32px;\n",
              "      padding: 0 0 0 0;\n",
              "      width: 32px;\n",
              "    }\n",
              "\n",
              "    .colab-df-convert:hover {\n",
              "      background-color: #E2EBFA;\n",
              "      box-shadow: 0px 1px 2px rgba(60, 64, 67, 0.3), 0px 1px 3px 1px rgba(60, 64, 67, 0.15);\n",
              "      fill: #174EA6;\n",
              "    }\n",
              "\n",
              "    [theme=dark] .colab-df-convert {\n",
              "      background-color: #3B4455;\n",
              "      fill: #D2E3FC;\n",
              "    }\n",
              "\n",
              "    [theme=dark] .colab-df-convert:hover {\n",
              "      background-color: #434B5C;\n",
              "      box-shadow: 0px 1px 3px 1px rgba(0, 0, 0, 0.15);\n",
              "      filter: drop-shadow(0px 1px 2px rgba(0, 0, 0, 0.3));\n",
              "      fill: #FFFFFF;\n",
              "    }\n",
              "  </style>\n",
              "\n",
              "      <script>\n",
              "        const buttonEl =\n",
              "          document.querySelector('#df-af542553-3cb8-409a-9354-0ddcce059fbe button.colab-df-convert');\n",
              "        buttonEl.style.display =\n",
              "          google.colab.kernel.accessAllowed ? 'block' : 'none';\n",
              "\n",
              "        async function convertToInteractive(key) {\n",
              "          const element = document.querySelector('#df-af542553-3cb8-409a-9354-0ddcce059fbe');\n",
              "          const dataTable =\n",
              "            await google.colab.kernel.invokeFunction('convertToInteractive',\n",
              "                                                     [key], {});\n",
              "          if (!dataTable) return;\n",
              "\n",
              "          const docLinkHtml = 'Like what you see? Visit the ' +\n",
              "            '<a target=\"_blank\" href=https://colab.research.google.com/notebooks/data_table.ipynb>data table notebook</a>'\n",
              "            + ' to learn more about interactive tables.';\n",
              "          element.innerHTML = '';\n",
              "          dataTable['output_type'] = 'display_data';\n",
              "          await google.colab.output.renderOutput(dataTable, element);\n",
              "          const docLink = document.createElement('div');\n",
              "          docLink.innerHTML = docLinkHtml;\n",
              "          element.appendChild(docLink);\n",
              "        }\n",
              "      </script>\n",
              "    </div>\n",
              "  </div>\n",
              "  "
            ]
          },
          "metadata": {},
          "execution_count": 6
        }
      ]
    },
    {
      "cell_type": "code",
      "source": [
        "test_1['prop_review_score'].head(2)"
      ],
      "metadata": {
        "colab": {
          "base_uri": "https://localhost:8080/"
        },
        "id": "3m7xdXG5FVTD",
        "outputId": "89c6b979-bee1-415a-ff4d-ff63fa560016"
      },
      "execution_count": null,
      "outputs": [
        {
          "output_type": "execute_result",
          "data": {
            "text/plain": [
              "0    4.5\n",
              "1    4.5\n",
              "Name: prop_review_score, dtype: float64"
            ]
          },
          "metadata": {},
          "execution_count": 7
        }
      ]
    },
    {
      "cell_type": "code",
      "source": [
        "for col in ['prop_review_score', 'prop_location_score2', 'orig_destination_distance']:\n",
        "    median_value = test_1[col].quantile(0.5).compute()\n",
        "    print(median_value)\n",
        "    test_1[col].fillna(median_value)"
      ],
      "metadata": {
        "id": "LvblveD8FUNI"
      },
      "execution_count": null,
      "outputs": []
    },
    {
      "cell_type": "code",
      "source": [
        "all = test_1.isna().sum().compute()\n"
      ],
      "metadata": {
        "id": "tTPPYzgCHlnV"
      },
      "execution_count": null,
      "outputs": []
    },
    {
      "cell_type": "code",
      "source": [
        "all"
      ],
      "metadata": {
        "colab": {
          "base_uri": "https://localhost:8080/"
        },
        "id": "I334pnrlIv_1",
        "outputId": "3051458d-d4b2-4a5d-e2f6-3cc10b999da1"
      },
      "execution_count": null,
      "outputs": [
        {
          "output_type": "execute_result",
          "data": {
            "text/plain": [
              "Unnamed: 0                                                   0\n",
              "srch_id                                                      0\n",
              "date_time                                                    0\n",
              "site_id                                                      0\n",
              "visitor_location_country_id                                  0\n",
              "                                                         ...  \n",
              "srch_destination_id_orig_destination_distance_mean      126870\n",
              "srch_destination_id_orig_destination_distance_median    126870\n",
              "srch_destination_id_orig_destination_distance_std       126870\n",
              "srch_destination_id_orig_destination_distance_min       126870\n",
              "srch_destination_id_orig_destination_distance_max       126870\n",
              "Length: 145, dtype: int64"
            ]
          },
          "metadata": {},
          "execution_count": 17
        }
      ]
    },
    {
      "cell_type": "code",
      "source": [
        "type(all)"
      ],
      "metadata": {
        "colab": {
          "base_uri": "https://localhost:8080/"
        },
        "id": "YXWuDnU0JVES",
        "outputId": "128e32b0-9127-4bd2-c877-8dc019048639"
      },
      "execution_count": null,
      "outputs": [
        {
          "output_type": "execute_result",
          "data": {
            "text/plain": [
              "pandas.core.series.Series"
            ]
          },
          "metadata": {},
          "execution_count": 20
        }
      ]
    },
    {
      "cell_type": "code",
      "source": [
        "all.index[all.values > 0]"
      ],
      "metadata": {
        "colab": {
          "base_uri": "https://localhost:8080/"
        },
        "id": "BYgxI6evI0nY",
        "outputId": "9ba38b1b-10ad-4a19-c841-b3efd0b37642"
      },
      "execution_count": null,
      "outputs": [
        {
          "output_type": "execute_result",
          "data": {
            "text/plain": [
              "Index(['visitor_hist_starrating', 'visitor_hist_adr_usd', 'prop_review_score',\n",
              "       'prop_location_score2', 'srch_query_affinity_score',\n",
              "       'orig_destination_distance', 'comp1_rate', 'comp1_inv',\n",
              "       'comp1_rate_percent_diff', 'comp2_rate', 'comp2_inv',\n",
              "       'comp2_rate_percent_diff', 'comp3_rate', 'comp3_inv',\n",
              "       'comp3_rate_percent_diff', 'comp4_rate', 'comp4_inv',\n",
              "       'comp4_rate_percent_diff', 'comp5_rate', 'comp5_inv',\n",
              "       'comp5_rate_percent_diff', 'comp6_rate', 'comp6_inv',\n",
              "       'comp6_rate_percent_diff', 'comp7_rate', 'comp7_inv',\n",
              "       'comp7_rate_percent_diff', 'comp8_rate', 'comp8_inv',\n",
              "       'comp8_rate_percent_diff', 'srch_id_prop_location_score1_std',\n",
              "       'srch_id_prop_log_historical_price_std',\n",
              "       'srch_id_orig_destination_distance_mean',\n",
              "       'srch_id_orig_destination_distance_median',\n",
              "       'srch_id_orig_destination_distance_std',\n",
              "       'srch_id_orig_destination_distance_min',\n",
              "       'srch_id_orig_destination_distance_max',\n",
              "       'prop_id_prop_location_score1_std',\n",
              "       'prop_id_prop_log_historical_price_std', 'prop_id_price_usd_std',\n",
              "       'prop_id_srch_length_of_stay_std', 'prop_id_srch_booking_window_std',\n",
              "       'prop_id_orig_destination_distance_mean',\n",
              "       'prop_id_orig_destination_distance_median',\n",
              "       'prop_id_orig_destination_distance_std',\n",
              "       'prop_id_orig_destination_distance_min',\n",
              "       'prop_id_orig_destination_distance_max',\n",
              "       'srch_destination_id_prop_location_score1_std',\n",
              "       'srch_destination_id_prop_log_historical_price_std',\n",
              "       'srch_destination_id_orig_destination_distance_mean',\n",
              "       'srch_destination_id_orig_destination_distance_median',\n",
              "       'srch_destination_id_orig_destination_distance_std',\n",
              "       'srch_destination_id_orig_destination_distance_min',\n",
              "       'srch_destination_id_orig_destination_distance_max'],\n",
              "      dtype='object')"
            ]
          },
          "metadata": {},
          "execution_count": 24
        }
      ]
    },
    {
      "cell_type": "code",
      "source": [
        "train = dd.read_csv(\"drive/MyDrive/Raw/training_set_VU_DM.csv\")\n",
        "test = dd.read_csv(\"drive/MyDrive/Raw/test_set_VU_DM.csv\")"
      ],
      "metadata": {
        "id": "nwNJpifErMj_"
      },
      "execution_count": null,
      "outputs": []
    },
    {
      "cell_type": "code",
      "source": [
        "test_1['date_time'] = dd.to_datetime(test_1['date_time'], format='%Y-%m-%d %H:%M:%S')"
      ],
      "metadata": {
        "id": "BppW9XTUBFvP"
      },
      "execution_count": null,
      "outputs": []
    },
    {
      "cell_type": "code",
      "source": [
        "# Current price - average price per Property ID & Average price of a property\n",
        "avg_price_hotel = test_1.groupby(\"prop_id\")[\"price_usd\"].mean().compute()\n",
        "test_1 = test_1.merge(avg_price_hotel.rename(\"avg_price_hotel\").reset_index(), on=\"prop_id\")\n",
        "test_1[\"price_diff\"] = test_1[\"price_usd\"] - test_1[\"avg_price_hotel\"]"
      ],
      "metadata": {
        "id": "JBrXKDDNBbnG",
        "colab": {
          "base_uri": "https://localhost:8080/",
          "height": 503
        },
        "outputId": "ad68f97c-af3a-42b0-c373-8ac18547eb7b"
      },
      "execution_count": null,
      "outputs": [
        {
          "output_type": "error",
          "ename": "KeyError",
          "evalue": "ignored",
          "traceback": [
            "\u001b[0;31m---------------------------------------------------------------------------\u001b[0m",
            "\u001b[0;31mKeyError\u001b[0m                                  Traceback (most recent call last)",
            "\u001b[0;32m/usr/local/lib/python3.10/dist-packages/pandas/core/indexes/base.py\u001b[0m in \u001b[0;36mget_loc\u001b[0;34m(self, key, method, tolerance)\u001b[0m\n\u001b[1;32m   3801\u001b[0m             \u001b[0;32mtry\u001b[0m\u001b[0;34m:\u001b[0m\u001b[0;34m\u001b[0m\u001b[0;34m\u001b[0m\u001b[0m\n\u001b[0;32m-> 3802\u001b[0;31m                 \u001b[0;32mreturn\u001b[0m \u001b[0mself\u001b[0m\u001b[0;34m.\u001b[0m\u001b[0m_engine\u001b[0m\u001b[0;34m.\u001b[0m\u001b[0mget_loc\u001b[0m\u001b[0;34m(\u001b[0m\u001b[0mcasted_key\u001b[0m\u001b[0;34m)\u001b[0m\u001b[0;34m\u001b[0m\u001b[0;34m\u001b[0m\u001b[0m\n\u001b[0m\u001b[1;32m   3803\u001b[0m             \u001b[0;32mexcept\u001b[0m \u001b[0mKeyError\u001b[0m \u001b[0;32mas\u001b[0m \u001b[0merr\u001b[0m\u001b[0;34m:\u001b[0m\u001b[0;34m\u001b[0m\u001b[0;34m\u001b[0m\u001b[0m\n",
            "\u001b[0;32m/usr/local/lib/python3.10/dist-packages/pandas/_libs/index.pyx\u001b[0m in \u001b[0;36mpandas._libs.index.IndexEngine.get_loc\u001b[0;34m()\u001b[0m\n",
            "\u001b[0;32m/usr/local/lib/python3.10/dist-packages/pandas/_libs/index.pyx\u001b[0m in \u001b[0;36mpandas._libs.index.IndexEngine.get_loc\u001b[0;34m()\u001b[0m\n",
            "\u001b[0;32mpandas/_libs/hashtable_class_helper.pxi\u001b[0m in \u001b[0;36mpandas._libs.hashtable.PyObjectHashTable.get_item\u001b[0;34m()\u001b[0m\n",
            "\u001b[0;32mpandas/_libs/hashtable_class_helper.pxi\u001b[0m in \u001b[0;36mpandas._libs.hashtable.PyObjectHashTable.get_item\u001b[0;34m()\u001b[0m\n",
            "\u001b[0;31mKeyError\u001b[0m: 'avg_price_hotel'",
            "\nThe above exception was the direct cause of the following exception:\n",
            "\u001b[0;31mKeyError\u001b[0m                                  Traceback (most recent call last)",
            "\u001b[0;32m<ipython-input-10-0d36191cf516>\u001b[0m in \u001b[0;36m<cell line: 4>\u001b[0;34m()\u001b[0m\n\u001b[1;32m      2\u001b[0m \u001b[0mavg_price_hotel\u001b[0m \u001b[0;34m=\u001b[0m \u001b[0mtest_1\u001b[0m\u001b[0;34m.\u001b[0m\u001b[0mgroupby\u001b[0m\u001b[0;34m(\u001b[0m\u001b[0;34m\"prop_id\"\u001b[0m\u001b[0;34m)\u001b[0m\u001b[0;34m[\u001b[0m\u001b[0;34m\"price_usd\"\u001b[0m\u001b[0;34m]\u001b[0m\u001b[0;34m.\u001b[0m\u001b[0mmean\u001b[0m\u001b[0;34m(\u001b[0m\u001b[0;34m)\u001b[0m\u001b[0;34m.\u001b[0m\u001b[0mcompute\u001b[0m\u001b[0;34m(\u001b[0m\u001b[0;34m)\u001b[0m\u001b[0;34m\u001b[0m\u001b[0;34m\u001b[0m\u001b[0m\n\u001b[1;32m      3\u001b[0m \u001b[0mtest_1\u001b[0m \u001b[0;34m=\u001b[0m \u001b[0mtest_1\u001b[0m\u001b[0;34m.\u001b[0m\u001b[0mmerge\u001b[0m\u001b[0;34m(\u001b[0m\u001b[0mavg_price_hotel\u001b[0m\u001b[0;34m.\u001b[0m\u001b[0mrename\u001b[0m\u001b[0;34m(\u001b[0m\u001b[0;34m\"avg_price_hotel\"\u001b[0m\u001b[0;34m)\u001b[0m\u001b[0;34m.\u001b[0m\u001b[0mreset_index\u001b[0m\u001b[0;34m(\u001b[0m\u001b[0;34m)\u001b[0m\u001b[0;34m,\u001b[0m \u001b[0mon\u001b[0m\u001b[0;34m=\u001b[0m\u001b[0;34m\"prop_id\"\u001b[0m\u001b[0;34m)\u001b[0m\u001b[0;34m\u001b[0m\u001b[0;34m\u001b[0m\u001b[0m\n\u001b[0;32m----> 4\u001b[0;31m \u001b[0mtest_1\u001b[0m\u001b[0;34m[\u001b[0m\u001b[0;34m\"price_diff\"\u001b[0m\u001b[0;34m]\u001b[0m \u001b[0;34m=\u001b[0m \u001b[0mtest_1\u001b[0m\u001b[0;34m[\u001b[0m\u001b[0;34m\"price_usd\"\u001b[0m\u001b[0;34m]\u001b[0m \u001b[0;34m-\u001b[0m \u001b[0mtest_1\u001b[0m\u001b[0;34m[\u001b[0m\u001b[0;34m\"avg_price_hotel\"\u001b[0m\u001b[0;34m]\u001b[0m\u001b[0;34m\u001b[0m\u001b[0;34m\u001b[0m\u001b[0m\n\u001b[0m",
            "\u001b[0;32m/usr/local/lib/python3.10/dist-packages/dask/dataframe/core.py\u001b[0m in \u001b[0;36m__getitem__\u001b[0;34m(self, key)\u001b[0m\n\u001b[1;32m   4587\u001b[0m \u001b[0;34m\u001b[0m\u001b[0m\n\u001b[1;32m   4588\u001b[0m             \u001b[0;31m# error is raised from pandas\u001b[0m\u001b[0;34m\u001b[0m\u001b[0;34m\u001b[0m\u001b[0m\n\u001b[0;32m-> 4589\u001b[0;31m             \u001b[0mmeta\u001b[0m \u001b[0;34m=\u001b[0m \u001b[0mself\u001b[0m\u001b[0;34m.\u001b[0m\u001b[0m_meta\u001b[0m\u001b[0;34m[\u001b[0m\u001b[0m_extract_meta\u001b[0m\u001b[0;34m(\u001b[0m\u001b[0mkey\u001b[0m\u001b[0;34m)\u001b[0m\u001b[0;34m]\u001b[0m\u001b[0;34m\u001b[0m\u001b[0;34m\u001b[0m\u001b[0m\n\u001b[0m\u001b[1;32m   4590\u001b[0m             \u001b[0mdsk\u001b[0m \u001b[0;34m=\u001b[0m \u001b[0mpartitionwise_graph\u001b[0m\u001b[0;34m(\u001b[0m\u001b[0moperator\u001b[0m\u001b[0;34m.\u001b[0m\u001b[0mgetitem\u001b[0m\u001b[0;34m,\u001b[0m \u001b[0mname\u001b[0m\u001b[0;34m,\u001b[0m \u001b[0mself\u001b[0m\u001b[0;34m,\u001b[0m \u001b[0mkey\u001b[0m\u001b[0;34m)\u001b[0m\u001b[0;34m\u001b[0m\u001b[0;34m\u001b[0m\u001b[0m\n\u001b[1;32m   4591\u001b[0m             \u001b[0mgraph\u001b[0m \u001b[0;34m=\u001b[0m \u001b[0mHighLevelGraph\u001b[0m\u001b[0;34m.\u001b[0m\u001b[0mfrom_collections\u001b[0m\u001b[0;34m(\u001b[0m\u001b[0mname\u001b[0m\u001b[0;34m,\u001b[0m \u001b[0mdsk\u001b[0m\u001b[0;34m,\u001b[0m \u001b[0mdependencies\u001b[0m\u001b[0;34m=\u001b[0m\u001b[0;34m[\u001b[0m\u001b[0mself\u001b[0m\u001b[0;34m]\u001b[0m\u001b[0;34m)\u001b[0m\u001b[0;34m\u001b[0m\u001b[0;34m\u001b[0m\u001b[0m\n",
            "\u001b[0;32m/usr/local/lib/python3.10/dist-packages/pandas/core/frame.py\u001b[0m in \u001b[0;36m__getitem__\u001b[0;34m(self, key)\u001b[0m\n\u001b[1;32m   3805\u001b[0m             \u001b[0;32mif\u001b[0m \u001b[0mself\u001b[0m\u001b[0;34m.\u001b[0m\u001b[0mcolumns\u001b[0m\u001b[0;34m.\u001b[0m\u001b[0mnlevels\u001b[0m \u001b[0;34m>\u001b[0m \u001b[0;36m1\u001b[0m\u001b[0;34m:\u001b[0m\u001b[0;34m\u001b[0m\u001b[0;34m\u001b[0m\u001b[0m\n\u001b[1;32m   3806\u001b[0m                 \u001b[0;32mreturn\u001b[0m \u001b[0mself\u001b[0m\u001b[0;34m.\u001b[0m\u001b[0m_getitem_multilevel\u001b[0m\u001b[0;34m(\u001b[0m\u001b[0mkey\u001b[0m\u001b[0;34m)\u001b[0m\u001b[0;34m\u001b[0m\u001b[0;34m\u001b[0m\u001b[0m\n\u001b[0;32m-> 3807\u001b[0;31m             \u001b[0mindexer\u001b[0m \u001b[0;34m=\u001b[0m \u001b[0mself\u001b[0m\u001b[0;34m.\u001b[0m\u001b[0mcolumns\u001b[0m\u001b[0;34m.\u001b[0m\u001b[0mget_loc\u001b[0m\u001b[0;34m(\u001b[0m\u001b[0mkey\u001b[0m\u001b[0;34m)\u001b[0m\u001b[0;34m\u001b[0m\u001b[0;34m\u001b[0m\u001b[0m\n\u001b[0m\u001b[1;32m   3808\u001b[0m             \u001b[0;32mif\u001b[0m \u001b[0mis_integer\u001b[0m\u001b[0;34m(\u001b[0m\u001b[0mindexer\u001b[0m\u001b[0;34m)\u001b[0m\u001b[0;34m:\u001b[0m\u001b[0;34m\u001b[0m\u001b[0;34m\u001b[0m\u001b[0m\n\u001b[1;32m   3809\u001b[0m                 \u001b[0mindexer\u001b[0m \u001b[0;34m=\u001b[0m \u001b[0;34m[\u001b[0m\u001b[0mindexer\u001b[0m\u001b[0;34m]\u001b[0m\u001b[0;34m\u001b[0m\u001b[0;34m\u001b[0m\u001b[0m\n",
            "\u001b[0;32m/usr/local/lib/python3.10/dist-packages/pandas/core/indexes/base.py\u001b[0m in \u001b[0;36mget_loc\u001b[0;34m(self, key, method, tolerance)\u001b[0m\n\u001b[1;32m   3802\u001b[0m                 \u001b[0;32mreturn\u001b[0m \u001b[0mself\u001b[0m\u001b[0;34m.\u001b[0m\u001b[0m_engine\u001b[0m\u001b[0;34m.\u001b[0m\u001b[0mget_loc\u001b[0m\u001b[0;34m(\u001b[0m\u001b[0mcasted_key\u001b[0m\u001b[0;34m)\u001b[0m\u001b[0;34m\u001b[0m\u001b[0;34m\u001b[0m\u001b[0m\n\u001b[1;32m   3803\u001b[0m             \u001b[0;32mexcept\u001b[0m \u001b[0mKeyError\u001b[0m \u001b[0;32mas\u001b[0m \u001b[0merr\u001b[0m\u001b[0;34m:\u001b[0m\u001b[0;34m\u001b[0m\u001b[0;34m\u001b[0m\u001b[0m\n\u001b[0;32m-> 3804\u001b[0;31m                 \u001b[0;32mraise\u001b[0m \u001b[0mKeyError\u001b[0m\u001b[0;34m(\u001b[0m\u001b[0mkey\u001b[0m\u001b[0;34m)\u001b[0m \u001b[0;32mfrom\u001b[0m \u001b[0merr\u001b[0m\u001b[0;34m\u001b[0m\u001b[0;34m\u001b[0m\u001b[0m\n\u001b[0m\u001b[1;32m   3805\u001b[0m             \u001b[0;32mexcept\u001b[0m \u001b[0mTypeError\u001b[0m\u001b[0;34m:\u001b[0m\u001b[0;34m\u001b[0m\u001b[0;34m\u001b[0m\u001b[0m\n\u001b[1;32m   3806\u001b[0m                 \u001b[0;31m# If we have a listlike key, _check_indexing_error will raise\u001b[0m\u001b[0;34m\u001b[0m\u001b[0;34m\u001b[0m\u001b[0m\n",
            "\u001b[0;31mKeyError\u001b[0m: 'avg_price_hotel'"
          ]
        }
      ]
    },
    {
      "cell_type": "code",
      "source": [
        "test_1[\"price_diff\"] = test_1[\"price_usd\"] - test_1[\"avg_price_hotel_y\"]"
      ],
      "metadata": {
        "id": "nn7XqmKNRFed"
      },
      "execution_count": null,
      "outputs": []
    },
    {
      "cell_type": "code",
      "source": [
        "train1 = dd.read_csv(\"drive/MyDrive/Raw/train1.csv\")"
      ],
      "metadata": {
        "id": "YTL6rHVwSTN7"
      },
      "execution_count": null,
      "outputs": []
    },
    {
      "cell_type": "code",
      "source": [
        "test_1 = test_1.rename(columns={'avg_price_hotel_y': 'avg_price_hotel'})"
      ],
      "metadata": {
        "id": "sB8zvrQjS3DW"
      },
      "execution_count": null,
      "outputs": []
    },
    {
      "cell_type": "code",
      "source": [
        "test_1.columns"
      ],
      "metadata": {
        "id": "OoJ3VhHATSRW",
        "outputId": "736933b0-3e80-4a05-cc1c-ce9ee6875ee3",
        "colab": {
          "base_uri": "https://localhost:8080/"
        }
      },
      "execution_count": null,
      "outputs": [
        {
          "output_type": "execute_result",
          "data": {
            "text/plain": [
              "Index(['Unnamed: 0', 'srch_id', 'date_time', 'site_id',\n",
              "       'visitor_location_country_id', 'visitor_hist_starrating',\n",
              "       'visitor_hist_adr_usd', 'prop_country_id', 'prop_id', 'prop_starrating',\n",
              "       ...\n",
              "       'srch_destination_id_srch_booking_window_median',\n",
              "       'srch_destination_id_srch_booking_window_std',\n",
              "       'srch_destination_id_srch_booking_window_min',\n",
              "       'srch_destination_id_srch_booking_window_max',\n",
              "       'srch_destination_id_orig_destination_distance_mean',\n",
              "       'srch_destination_id_orig_destination_distance_median',\n",
              "       'srch_destination_id_orig_destination_distance_std',\n",
              "       'srch_destination_id_orig_destination_distance_min',\n",
              "       'srch_destination_id_orig_destination_distance_max', 'avg_price_hotel'],\n",
              "      dtype='object', length=146)"
            ]
          },
          "metadata": {},
          "execution_count": 32
        }
      ]
    },
    {
      "cell_type": "code",
      "source": [
        "missing_columns = [col for col in test_1.columns if col not in train1.columns]"
      ],
      "metadata": {
        "id": "vToJpmuJSKyn"
      },
      "execution_count": null,
      "outputs": []
    },
    {
      "cell_type": "code",
      "source": [
        "missing_columns2 = [col for col in train1.columns if col not in test_1.columns]"
      ],
      "metadata": {
        "id": "9DXkTshySmzb"
      },
      "execution_count": null,
      "outputs": []
    },
    {
      "cell_type": "code",
      "source": [
        "print(missing_columns)"
      ],
      "metadata": {
        "id": "uCE58ttKSbvU",
        "outputId": "1f814952-28ab-4245-8ed5-b12731561aed",
        "colab": {
          "base_uri": "https://localhost:8080/"
        }
      },
      "execution_count": null,
      "outputs": [
        {
          "output_type": "stream",
          "name": "stdout",
          "text": [
            "['srch_destination_id_price_usd_mean', 'srch_destination_id_price_usd_median', 'srch_destination_id_srch_length_of_stay_mean', 'srch_destination_id_srch_length_of_stay_median', 'srch_destination_id_srch_booking_window_mean', 'srch_destination_id_srch_booking_window_median', 'srch_destination_id_orig_destination_distance_mean', 'srch_destination_id_orig_destination_distance_median']\n"
          ]
        }
      ]
    },
    {
      "cell_type": "code",
      "source": [
        "test_1 = test_1.drop(columns=['visitor_hist_starrating', 'visitor_hist_adr_usd', 'srch_query_affinity_score', 'comp1_rate', 'comp1_inv', 'comp1_rate_percent_diff', 'comp2_rate', 'comp2_inv', 'comp2_rate_percent_diff', 'comp3_rate', 'comp3_inv', 'comp3_rate_percent_diff', 'comp4_rate','comp4_inv', 'comp4_rate_percent_diff', 'comp5_rate', 'comp5_inv', 'comp5_rate_percent_diff', 'comp6_rate', 'comp6_inv', 'comp6_rate_percent_diff', 'comp7_rate', 'comp7_inv', 'comp7_rate_percent_diff', 'comp8_rate', 'comp8_inv', 'comp8_rate_percent_diff', 'avg_price_hotel_x'])"
      ],
      "metadata": {
        "id": "_x_xDv7MUN7N"
      },
      "execution_count": null,
      "outputs": []
    },
    {
      "cell_type": "code",
      "source": [
        "# Month and year\n",
        "test_1[\"month\"] = test_1[\"date_time\"].dt.month\n",
        "test_1[\"day_of_week\"] = test_1[\"date_time\"].dt.day_name()"
      ],
      "metadata": {
        "id": "MQHzl7_lSS5F"
      },
      "execution_count": null,
      "outputs": []
    },
    {
      "cell_type": "code",
      "source": [
        "weekday = {'Monday': 1, 'Tuesday': 2, 'Wednesday': 3, 'Thursday': 4, 'Friday': 5, 'Saturday': 6, 'Sunday': 7}\n",
        "\n",
        "# Use the map function to transform the weekday column\n",
        "test_1[\"day_of_week\"] = test_1[\"day_of_week\"].map(weekday, meta=('day_of_week', 'int'))"
      ],
      "metadata": {
        "id": "TqcQkHv0X6oz"
      },
      "execution_count": null,
      "outputs": []
    },
    {
      "cell_type": "code",
      "source": [
        "month_map = {\n",
        "    'January': 1,\n",
        "    'February': 2,\n",
        "    'March': 3,\n",
        "    'April': 4,\n",
        "    'May': 5,\n",
        "    'June': 6,\n",
        "    'July': 7,\n",
        "    'August': 8,\n",
        "    'September': 9,\n",
        "    'October': 10,\n",
        "    'November': 11,\n",
        "    'December': 12\n",
        "}\n",
        "\n",
        "test_1['month'] = test_1['month'].map(month_map)"
      ],
      "metadata": {
        "id": "pnYH-wg8bUni"
      },
      "execution_count": null,
      "outputs": []
    },
    {
      "cell_type": "code",
      "source": [
        "import joblib"
      ],
      "metadata": {
        "id": "19yX6jHiJK9-"
      },
      "execution_count": null,
      "outputs": []
    },
    {
      "cell_type": "code",
      "source": [
        "model_trainned = joblib.load('drive/MyDrive/Raw/trained_model.pkl')\n"
      ],
      "metadata": {
        "id": "URUSmnPOU7CD"
      },
      "execution_count": null,
      "outputs": []
    },
    {
      "cell_type": "code",
      "source": [
        "predictions = model_trainned.predict(test_1)"
      ],
      "metadata": {
        "id": "TcIhBHYZU7_A",
        "outputId": "c8ef32e6-14b0-4d8f-b86d-0fc0a40eaa23",
        "colab": {
          "base_uri": "https://localhost:8080/"
        }
      },
      "execution_count": null,
      "outputs": [
        {
          "output_type": "stream",
          "name": "stderr",
          "text": [
            "/usr/local/lib/python3.10/dist-packages/lightgbm/basic.py:859: UserWarning: Converting data to scipy sparse matrix.\n",
            "  _log_warning('Converting data to scipy sparse matrix.')\n"
          ]
        }
      ]
    },
    {
      "cell_type": "code",
      "source": [
        "# Output the test data with rankings\n",
        "test_data_ranked = test_1[['srch_id', 'prop_id']]\n",
        "test_data_ranked['ranking'] = predictions\n",
        "test_data_ranked = test_data_ranked.sort_values(['srch_id', 'ranking'], ascending=[True, False])\n",
        "test_data_ranked = test_data_ranked[['srch_id', 'prop_id']]\n",
        "test_data_ranked.to_csv('test_data_ranked.csv', index=False)"
      ],
      "metadata": {
        "id": "oN4Ppj45f7SJ"
      },
      "execution_count": null,
      "outputs": []
    },
    {
      "cell_type": "markdown",
      "metadata": {
        "id": "W--hlm6Hq0wj"
      },
      "source": [
        "# Inspect Train Data"
      ]
    },
    {
      "cell_type": "code",
      "execution_count": null,
      "metadata": {
        "colab": {
          "base_uri": "https://localhost:8080/"
        },
        "id": "KBa_6bh6q0wk",
        "outputId": "82f3f141-f888-44ca-c7f7-93af38a72887"
      },
      "outputs": [
        {
          "output_type": "execute_result",
          "data": {
            "text/plain": [
              "Index(['srch_id', 'date_time', 'site_id', 'visitor_location_country_id',\n",
              "       'visitor_hist_starrating', 'visitor_hist_adr_usd', 'prop_country_id',\n",
              "       'prop_id', 'prop_starrating', 'prop_review_score', 'prop_brand_bool',\n",
              "       'prop_location_score1', 'prop_location_score2',\n",
              "       'prop_log_historical_price', 'position', 'price_usd', 'promotion_flag',\n",
              "       'srch_destination_id', 'srch_length_of_stay', 'srch_booking_window',\n",
              "       'srch_adults_count', 'srch_children_count', 'srch_room_count',\n",
              "       'srch_saturday_night_bool', 'srch_query_affinity_score',\n",
              "       'orig_destination_distance', 'random_bool', 'comp1_rate', 'comp1_inv',\n",
              "       'comp1_rate_percent_diff', 'comp2_rate', 'comp2_inv',\n",
              "       'comp2_rate_percent_diff', 'comp3_rate', 'comp3_inv',\n",
              "       'comp3_rate_percent_diff', 'comp4_rate', 'comp4_inv',\n",
              "       'comp4_rate_percent_diff', 'comp5_rate', 'comp5_inv',\n",
              "       'comp5_rate_percent_diff', 'comp6_rate', 'comp6_inv',\n",
              "       'comp6_rate_percent_diff', 'comp7_rate', 'comp7_inv',\n",
              "       'comp7_rate_percent_diff', 'comp8_rate', 'comp8_inv',\n",
              "       'comp8_rate_percent_diff', 'click_bool', 'gross_bookings_usd',\n",
              "       'booking_bool'],\n",
              "      dtype='object')"
            ]
          },
          "metadata": {},
          "execution_count": 9
        }
      ],
      "source": [
        "train.columns"
      ]
    },
    {
      "cell_type": "code",
      "source": [
        "train.head(1)"
      ],
      "metadata": {
        "id": "SV6_pqK2oPRl",
        "outputId": "8e3f69c5-acbf-4d9b-ca22-f37c34913e6a",
        "colab": {
          "base_uri": "https://localhost:8080/",
          "height": 191
        }
      },
      "execution_count": null,
      "outputs": [
        {
          "output_type": "execute_result",
          "data": {
            "text/plain": [
              "   srch_id            date_time  site_id  visitor_location_country_id  \\\n",
              "0        1  2013-04-04 08:32:15       12                          187   \n",
              "\n",
              "   visitor_hist_starrating  visitor_hist_adr_usd  prop_country_id  prop_id  \\\n",
              "0                      NaN                   NaN              219      893   \n",
              "\n",
              "   prop_starrating  prop_review_score  ...  comp6_rate_percent_diff  \\\n",
              "0                3                3.5  ...                      NaN   \n",
              "\n",
              "   comp7_rate  comp7_inv  comp7_rate_percent_diff  comp8_rate  comp8_inv  \\\n",
              "0         NaN        NaN                      NaN         0.0        0.0   \n",
              "\n",
              "   comp8_rate_percent_diff  click_bool  gross_bookings_usd  booking_bool  \n",
              "0                      NaN           0                 NaN             0  \n",
              "\n",
              "[1 rows x 54 columns]"
            ],
            "text/html": [
              "\n",
              "  <div id=\"df-8221d99a-1821-4608-91d9-5514fe9f13a5\">\n",
              "    <div class=\"colab-df-container\">\n",
              "      <div>\n",
              "<style scoped>\n",
              "    .dataframe tbody tr th:only-of-type {\n",
              "        vertical-align: middle;\n",
              "    }\n",
              "\n",
              "    .dataframe tbody tr th {\n",
              "        vertical-align: top;\n",
              "    }\n",
              "\n",
              "    .dataframe thead th {\n",
              "        text-align: right;\n",
              "    }\n",
              "</style>\n",
              "<table border=\"1\" class=\"dataframe\">\n",
              "  <thead>\n",
              "    <tr style=\"text-align: right;\">\n",
              "      <th></th>\n",
              "      <th>srch_id</th>\n",
              "      <th>date_time</th>\n",
              "      <th>site_id</th>\n",
              "      <th>visitor_location_country_id</th>\n",
              "      <th>visitor_hist_starrating</th>\n",
              "      <th>visitor_hist_adr_usd</th>\n",
              "      <th>prop_country_id</th>\n",
              "      <th>prop_id</th>\n",
              "      <th>prop_starrating</th>\n",
              "      <th>prop_review_score</th>\n",
              "      <th>...</th>\n",
              "      <th>comp6_rate_percent_diff</th>\n",
              "      <th>comp7_rate</th>\n",
              "      <th>comp7_inv</th>\n",
              "      <th>comp7_rate_percent_diff</th>\n",
              "      <th>comp8_rate</th>\n",
              "      <th>comp8_inv</th>\n",
              "      <th>comp8_rate_percent_diff</th>\n",
              "      <th>click_bool</th>\n",
              "      <th>gross_bookings_usd</th>\n",
              "      <th>booking_bool</th>\n",
              "    </tr>\n",
              "  </thead>\n",
              "  <tbody>\n",
              "    <tr>\n",
              "      <th>0</th>\n",
              "      <td>1</td>\n",
              "      <td>2013-04-04 08:32:15</td>\n",
              "      <td>12</td>\n",
              "      <td>187</td>\n",
              "      <td>NaN</td>\n",
              "      <td>NaN</td>\n",
              "      <td>219</td>\n",
              "      <td>893</td>\n",
              "      <td>3</td>\n",
              "      <td>3.5</td>\n",
              "      <td>...</td>\n",
              "      <td>NaN</td>\n",
              "      <td>NaN</td>\n",
              "      <td>NaN</td>\n",
              "      <td>NaN</td>\n",
              "      <td>0.0</td>\n",
              "      <td>0.0</td>\n",
              "      <td>NaN</td>\n",
              "      <td>0</td>\n",
              "      <td>NaN</td>\n",
              "      <td>0</td>\n",
              "    </tr>\n",
              "  </tbody>\n",
              "</table>\n",
              "<p>1 rows × 54 columns</p>\n",
              "</div>\n",
              "      <button class=\"colab-df-convert\" onclick=\"convertToInteractive('df-8221d99a-1821-4608-91d9-5514fe9f13a5')\"\n",
              "              title=\"Convert this dataframe to an interactive table.\"\n",
              "              style=\"display:none;\">\n",
              "        \n",
              "  <svg xmlns=\"http://www.w3.org/2000/svg\" height=\"24px\"viewBox=\"0 0 24 24\"\n",
              "       width=\"24px\">\n",
              "    <path d=\"M0 0h24v24H0V0z\" fill=\"none\"/>\n",
              "    <path d=\"M18.56 5.44l.94 2.06.94-2.06 2.06-.94-2.06-.94-.94-2.06-.94 2.06-2.06.94zm-11 1L8.5 8.5l.94-2.06 2.06-.94-2.06-.94L8.5 2.5l-.94 2.06-2.06.94zm10 10l.94 2.06.94-2.06 2.06-.94-2.06-.94-.94-2.06-.94 2.06-2.06.94z\"/><path d=\"M17.41 7.96l-1.37-1.37c-.4-.4-.92-.59-1.43-.59-.52 0-1.04.2-1.43.59L10.3 9.45l-7.72 7.72c-.78.78-.78 2.05 0 2.83L4 21.41c.39.39.9.59 1.41.59.51 0 1.02-.2 1.41-.59l7.78-7.78 2.81-2.81c.8-.78.8-2.07 0-2.86zM5.41 20L4 18.59l7.72-7.72 1.47 1.35L5.41 20z\"/>\n",
              "  </svg>\n",
              "      </button>\n",
              "      \n",
              "  <style>\n",
              "    .colab-df-container {\n",
              "      display:flex;\n",
              "      flex-wrap:wrap;\n",
              "      gap: 12px;\n",
              "    }\n",
              "\n",
              "    .colab-df-convert {\n",
              "      background-color: #E8F0FE;\n",
              "      border: none;\n",
              "      border-radius: 50%;\n",
              "      cursor: pointer;\n",
              "      display: none;\n",
              "      fill: #1967D2;\n",
              "      height: 32px;\n",
              "      padding: 0 0 0 0;\n",
              "      width: 32px;\n",
              "    }\n",
              "\n",
              "    .colab-df-convert:hover {\n",
              "      background-color: #E2EBFA;\n",
              "      box-shadow: 0px 1px 2px rgba(60, 64, 67, 0.3), 0px 1px 3px 1px rgba(60, 64, 67, 0.15);\n",
              "      fill: #174EA6;\n",
              "    }\n",
              "\n",
              "    [theme=dark] .colab-df-convert {\n",
              "      background-color: #3B4455;\n",
              "      fill: #D2E3FC;\n",
              "    }\n",
              "\n",
              "    [theme=dark] .colab-df-convert:hover {\n",
              "      background-color: #434B5C;\n",
              "      box-shadow: 0px 1px 3px 1px rgba(0, 0, 0, 0.15);\n",
              "      filter: drop-shadow(0px 1px 2px rgba(0, 0, 0, 0.3));\n",
              "      fill: #FFFFFF;\n",
              "    }\n",
              "  </style>\n",
              "\n",
              "      <script>\n",
              "        const buttonEl =\n",
              "          document.querySelector('#df-8221d99a-1821-4608-91d9-5514fe9f13a5 button.colab-df-convert');\n",
              "        buttonEl.style.display =\n",
              "          google.colab.kernel.accessAllowed ? 'block' : 'none';\n",
              "\n",
              "        async function convertToInteractive(key) {\n",
              "          const element = document.querySelector('#df-8221d99a-1821-4608-91d9-5514fe9f13a5');\n",
              "          const dataTable =\n",
              "            await google.colab.kernel.invokeFunction('convertToInteractive',\n",
              "                                                     [key], {});\n",
              "          if (!dataTable) return;\n",
              "\n",
              "          const docLinkHtml = 'Like what you see? Visit the ' +\n",
              "            '<a target=\"_blank\" href=https://colab.research.google.com/notebooks/data_table.ipynb>data table notebook</a>'\n",
              "            + ' to learn more about interactive tables.';\n",
              "          element.innerHTML = '';\n",
              "          dataTable['output_type'] = 'display_data';\n",
              "          await google.colab.output.renderOutput(dataTable, element);\n",
              "          const docLink = document.createElement('div');\n",
              "          docLink.innerHTML = docLinkHtml;\n",
              "          element.appendChild(docLink);\n",
              "        }\n",
              "      </script>\n",
              "    </div>\n",
              "  </div>\n",
              "  "
            ]
          },
          "metadata": {},
          "execution_count": 22
        }
      ]
    },
    {
      "cell_type": "code",
      "source": [
        "# Total Records:\n",
        "len(train)"
      ],
      "metadata": {
        "colab": {
          "base_uri": "https://localhost:8080/"
        },
        "id": "K0Dj055Tulva",
        "outputId": "c0e826e2-146d-4d39-a89e-a98c60d703a7"
      },
      "execution_count": null,
      "outputs": [
        {
          "output_type": "execute_result",
          "data": {
            "text/plain": [
              "4958347"
            ]
          },
          "metadata": {},
          "execution_count": 19
        }
      ]
    },
    {
      "cell_type": "code",
      "source": [
        "# Total searches\n",
        "len(train[\"srch_id\"].unique())"
      ],
      "metadata": {
        "colab": {
          "base_uri": "https://localhost:8080/"
        },
        "id": "ciVmyiSvulzA",
        "outputId": "9bb78865-3544-468a-a0b6-b546ec6b3de7"
      },
      "execution_count": null,
      "outputs": [
        {
          "output_type": "execute_result",
          "data": {
            "text/plain": [
              "199795"
            ]
          },
          "metadata": {},
          "execution_count": 20
        }
      ]
    },
    {
      "cell_type": "code",
      "source": [
        "# Total records clicked (%)\n",
        "len(train[train[\"click_bool\"]==1])/len(train)"
      ],
      "metadata": {
        "colab": {
          "base_uri": "https://localhost:8080/"
        },
        "id": "yFQbSyCGzszr",
        "outputId": "74ef3c4b-1f72-4fa5-d4e8-b50e75ec374c"
      },
      "execution_count": null,
      "outputs": [
        {
          "output_type": "execute_result",
          "data": {
            "text/plain": [
              "0.04474858254172207"
            ]
          },
          "metadata": {},
          "execution_count": 21
        }
      ]
    },
    {
      "cell_type": "code",
      "source": [
        "# Total records booked (%)\n",
        "len(train[train[\"booking_bool\"]==1])/len(train)"
      ],
      "metadata": {
        "colab": {
          "base_uri": "https://localhost:8080/"
        },
        "id": "TPlb4aDEz-BZ",
        "outputId": "b729771c-b307-4a0f-ad8c-f0cec9a16dc5"
      },
      "execution_count": null,
      "outputs": [
        {
          "output_type": "execute_result",
          "data": {
            "text/plain": [
              "0.027910511305481445"
            ]
          },
          "metadata": {},
          "execution_count": 22
        }
      ]
    },
    {
      "cell_type": "code",
      "source": [
        "# Searches with no clicks\n",
        "df = train[[\"srch_id\",\"click_bool\"]].groupby('srch_id').max().compute()\n",
        "len(df[df[\"click_bool\"]==0])/len(df)"
      ],
      "metadata": {
        "colab": {
          "base_uri": "https://localhost:8080/"
        },
        "id": "7tlqXKraz-N9",
        "outputId": "d3050af0-45de-4876-cc8b-0c34c7651c97"
      },
      "execution_count": null,
      "outputs": [
        {
          "output_type": "execute_result",
          "data": {
            "text/plain": [
              "0.0"
            ]
          },
          "metadata": {},
          "execution_count": 50
        }
      ]
    },
    {
      "cell_type": "code",
      "source": [
        "# Searches with no bookings\n",
        "df = train[[\"srch_id\",\"booking_bool\"]].groupby('srch_id').max().compute()\n",
        "len(df[df[\"booking_bool\"]==0])/len(df)"
      ],
      "metadata": {
        "colab": {
          "base_uri": "https://localhost:8080/"
        },
        "id": "DtHvkv8254f0",
        "outputId": "5a680ec7-857d-4dcf-e840-0f8661f67b85"
      },
      "execution_count": null,
      "outputs": [
        {
          "output_type": "execute_result",
          "data": {
            "text/plain": [
              "0.3073400235241122"
            ]
          },
          "metadata": {},
          "execution_count": 49
        }
      ]
    },
    {
      "cell_type": "code",
      "source": [
        "# Minimum properties displayed for each srch_id\n",
        "train.groupby('srch_id').size().min().compute()"
      ],
      "metadata": {
        "colab": {
          "base_uri": "https://localhost:8080/"
        },
        "id": "LTyZ0S4e0fOW",
        "outputId": "33c69a79-52c7-49a2-ef6a-42dae2630031"
      },
      "execution_count": null,
      "outputs": [
        {
          "output_type": "execute_result",
          "data": {
            "text/plain": [
              "5"
            ]
          },
          "metadata": {},
          "execution_count": 30
        }
      ]
    },
    {
      "cell_type": "code",
      "source": [
        "# Maximum properties displayed for each srch_id\n",
        "train.groupby('srch_id').size().max().compute()"
      ],
      "metadata": {
        "colab": {
          "base_uri": "https://localhost:8080/"
        },
        "id": "DvCqGoiw1a4q",
        "outputId": "f1a4974a-1809-4b5c-9316-702c409c984c"
      },
      "execution_count": null,
      "outputs": [
        {
          "output_type": "execute_result",
          "data": {
            "text/plain": [
              "38"
            ]
          },
          "metadata": {},
          "execution_count": 31
        }
      ]
    },
    {
      "cell_type": "code",
      "source": [
        "# Mean properties displayed for each srch_id\n",
        "train.groupby('srch_id').size().mean().compute()"
      ],
      "metadata": {
        "colab": {
          "base_uri": "https://localhost:8080/"
        },
        "id": "dh-sHed-z-bP",
        "outputId": "a25fe106-aba5-48da-c7ab-ad9093517bdf"
      },
      "execution_count": null,
      "outputs": [
        {
          "output_type": "execute_result",
          "data": {
            "text/plain": [
              "24.817172601916965"
            ]
          },
          "metadata": {},
          "execution_count": 32
        }
      ]
    },
    {
      "cell_type": "code",
      "source": [
        "# Mean number of clicks for each srch_id\n",
        "df = train[[\"srch_id\",\"click_bool\"]].groupby('srch_id').sum().compute()\n",
        "df[\"click_bool\"].mean()"
      ],
      "metadata": {
        "colab": {
          "base_uri": "https://localhost:8080/"
        },
        "id": "wNi1rbSE1j-D",
        "outputId": "a1e00050-839c-459e-aa1d-9cd240f3af07"
      },
      "execution_count": null,
      "outputs": [
        {
          "output_type": "execute_result",
          "data": {
            "text/plain": [
              "1.1105332966290449"
            ]
          },
          "metadata": {},
          "execution_count": 53
        }
      ]
    },
    {
      "cell_type": "code",
      "source": [
        "# Mean number of bookings for each srch_id\n",
        "df = train[[\"srch_id\",\"booking_bool\"]].groupby('srch_id').sum().compute()\n",
        "df[\"booking_bool\"].mean()"
      ],
      "metadata": {
        "colab": {
          "base_uri": "https://localhost:8080/"
        },
        "id": "WLNznFfL1kCb",
        "outputId": "7437837c-8872-4c96-ced7-e4e6b686ba97"
      },
      "execution_count": null,
      "outputs": [
        {
          "output_type": "execute_result",
          "data": {
            "text/plain": [
              "0.6926599764758878"
            ]
          },
          "metadata": {},
          "execution_count": 51
        }
      ]
    },
    {
      "cell_type": "code",
      "source": [
        "# Maximum number of bookings per srch_id\n",
        "df = train[[\"srch_id\",\"booking_bool\"]].groupby('srch_id').sum().compute()\n",
        "df[\"booking_bool\"].max()"
      ],
      "metadata": {
        "colab": {
          "base_uri": "https://localhost:8080/"
        },
        "id": "lOJkJmzm9Biy",
        "outputId": "c53f9159-3036-4531-8d47-2eefb583ef87"
      },
      "execution_count": null,
      "outputs": [
        {
          "output_type": "execute_result",
          "data": {
            "text/plain": [
              "1"
            ]
          },
          "metadata": {},
          "execution_count": 52
        }
      ]
    },
    {
      "cell_type": "markdown",
      "source": [
        "#### Diagrams"
      ],
      "metadata": {
        "id": "qgDtJA1-7HHF"
      }
    },
    {
      "cell_type": "code",
      "source": [
        "# Probability of clicking based on position (with all data)\n",
        "df = train[[\"position\",\"click_bool\"]].groupby('position').sum().compute()\n",
        "df1 = train[[\"position\",\"click_bool\"]].groupby('position').size().compute()"
      ],
      "metadata": {
        "id": "350TJ3pk5NE1"
      },
      "execution_count": null,
      "outputs": []
    },
    {
      "cell_type": "code",
      "source": [
        "data = df['click_bool']/df1\n",
        "#plt.plot(data.index, data)\n",
        "data.plot(kind='bar', legend=None)\n",
        "plt.grid()\n",
        "plt.xlabel(\"Position\")\n",
        "plt.ylabel(\"Probability of Clicking\")\n",
        "plt.show()\n"
      ],
      "metadata": {
        "colab": {
          "base_uri": "https://localhost:8080/",
          "height": 455
        },
        "id": "LTXOs3AX4wQc",
        "outputId": "c94ca1d5-c57a-4479-98ca-a5990f100105"
      },
      "execution_count": null,
      "outputs": [
        {
          "output_type": "display_data",
          "data": {
            "text/plain": [
              "<Figure size 640x480 with 1 Axes>"
            ],
            "image/png": "[encoded data removed]"
          },
          "metadata": {}
        }
      ]
    },
    {
      "cell_type": "code",
      "source": [
        "# Probability of clicking based on position (just the randomized position data)\n",
        "df = train[train[\"random_bool\"] == 1][[\"position\",\"click_bool\"]].groupby('position').sum().compute()\n",
        "df1 = train[train[\"random_bool\"] == 1][[\"position\",\"click_bool\"]].groupby('position').size().compute()"
      ],
      "metadata": {
        "id": "-2c0KCHd_e2w"
      },
      "execution_count": null,
      "outputs": []
    },
    {
      "cell_type": "code",
      "source": [
        "data = df['click_bool']/df1\n",
        "data.plot(kind='bar', legend=None)\n",
        "plt.grid()\n",
        "plt.xlabel(\"Position\")\n",
        "plt.ylabel(\"Probability of Clicking\")\n",
        "plt.show()"
      ],
      "metadata": {
        "colab": {
          "base_uri": "https://localhost:8080/",
          "height": 453
        },
        "id": "3_eNYa23CInB",
        "outputId": "f41f752f-fdc9-40b2-fa91-6ce36d4ff261"
      },
      "execution_count": null,
      "outputs": [
        {
          "output_type": "display_data",
          "data": {
            "text/plain": [
              "<Figure size 640x480 with 1 Axes>"
            ],
            "image/png": "[encoded data removed]"
          },
          "metadata": {}
        }
      ]
    },
    {
      "cell_type": "code",
      "source": [
        "# Probability of clicking based on position (with all data)\n",
        "df = train[[\"position\",\"booking_bool\"]].groupby('position').sum().compute()\n",
        "df1 = train[[\"position\",\"booking_bool\"]].groupby('position').size().compute()"
      ],
      "metadata": {
        "id": "MRTLu_JCRmAl"
      },
      "execution_count": null,
      "outputs": []
    },
    {
      "cell_type": "code",
      "source": [
        "data = df['booking_bool']/df1\n",
        "#plt.plot(data.index, data)\n",
        "data.plot(kind='bar', legend=None)\n",
        "plt.grid()\n",
        "plt.xlabel(\"Position\")\n",
        "plt.ylabel(\"Probability of Clicking\")\n",
        "plt.show()"
      ],
      "metadata": {
        "colab": {
          "base_uri": "https://localhost:8080/",
          "height": 453
        },
        "id": "RbF4OProRtZm",
        "outputId": "3da2adc6-ff4e-4af6-b20b-e4cc8b0562b7"
      },
      "execution_count": null,
      "outputs": [
        {
          "output_type": "display_data",
          "data": {
            "text/plain": [
              "<Figure size 640x480 with 1 Axes>"
            ],
            "image/png": "[encoded data removed]"
          },
          "metadata": {}
        }
      ]
    },
    {
      "cell_type": "code",
      "source": [
        "# Probability of clicking based on position (just the randomized position data)\n",
        "df = train[train[\"random_bool\"] == 1][[\"position\",\"booking_bool\"]].groupby('position').sum().compute()\n",
        "df1 = train[train[\"random_bool\"] == 1][[\"position\",\"booking_bool\"]].groupby('position').size().compute()"
      ],
      "metadata": {
        "id": "Y58l5f6nRv1x"
      },
      "execution_count": null,
      "outputs": []
    },
    {
      "cell_type": "code",
      "source": [
        "data = df['booking_bool']/df1\n",
        "#plt.plot(data.index, data)\n",
        "data.plot(kind='bar', legend=None)\n",
        "plt.grid()\n",
        "plt.xlabel(\"Position\")\n",
        "plt.ylabel(\"Probability of Clicking\")\n",
        "plt.show()"
      ],
      "metadata": {
        "colab": {
          "base_uri": "https://localhost:8080/",
          "height": 453
        },
        "id": "ClDHtfcPSEF6",
        "outputId": "0376ab04-0d6d-4f8d-f4d6-ec493108f2f4"
      },
      "execution_count": null,
      "outputs": [
        {
          "output_type": "display_data",
          "data": {
            "text/plain": [
              "<Figure size 640x480 with 1 Axes>"
            ],
            "image/png": "[encoded data removed]"
          },
          "metadata": {}
        }
      ]
    },
    {
      "cell_type": "code",
      "source": [
        "# TODO: FOR BOOKING + REPORT THAT PRICES ARE BOOKED LESS WHEN THEY ARE MORE EXPENSIVE\n"
      ],
      "metadata": {
        "id": "CoXz3ksl1kL1"
      },
      "execution_count": null,
      "outputs": []
    },
    {
      "cell_type": "markdown",
      "source": [
        "### Data Cleaning"
      ],
      "metadata": {
        "id": "m9fpSBvASTb9"
      }
    },
    {
      "cell_type": "markdown",
      "source": [
        "#### 1. Merge competitors availability values\n",
        "We tried merging the competitors data, but more than 50% of it has all nan values."
      ],
      "metadata": {
        "id": "e8m_nANYXlUf"
      }
    },
    {
      "cell_type": "code",
      "source": [
        "comp_cols = [col for col in train.columns if \"comp\" in col]\n",
        "df = train[comp_cols]\n",
        "df_dropped = df.dropna(how=\"all\").compute()"
      ],
      "metadata": {
        "id": "F7VVA5FqajAB"
      },
      "execution_count": null,
      "outputs": []
    },
    {
      "cell_type": "code",
      "source": [
        "len(df_dropped) / len(df)"
      ],
      "metadata": {
        "colab": {
          "base_uri": "https://localhost:8080/"
        },
        "id": "1d45e9zncBgE",
        "outputId": "ef7d92bd-4e58-485d-81e8-355df1ab7fad"
      },
      "execution_count": null,
      "outputs": [
        {
          "output_type": "execute_result",
          "data": {
            "text/plain": [
              "0.6761071784608863"
            ]
          },
          "metadata": {},
          "execution_count": 53
        }
      ]
    },
    {
      "cell_type": "markdown",
      "source": [
        "#### 2. Dropping: NaN threshold"
      ],
      "metadata": {
        "id": "HJmPISgGXWlv"
      }
    },
    {
      "cell_type": "code",
      "execution_count": null,
      "metadata": {
        "id": "j48M-ZpJq0wn"
      },
      "outputs": [],
      "source": [
        "# Get distributions of nans\n",
        "isnans = train.isna().sum().compute()"
      ]
    },
    {
      "cell_type": "code",
      "execution_count": null,
      "metadata": {
        "colab": {
          "base_uri": "https://localhost:8080/"
        },
        "id": "zw_0ux_qq0wn",
        "outputId": "ec5aa9d1-014c-496e-b0bf-5e833db3224b"
      },
      "outputs": [
        {
          "output_type": "execute_result",
          "data": {
            "text/plain": [
              "srch_id                              0\n",
              "date_time                            0\n",
              "site_id                              0\n",
              "visitor_location_country_id          0\n",
              "visitor_hist_starrating        4706481\n",
              "visitor_hist_adr_usd           4705359\n",
              "prop_country_id                      0\n",
              "prop_id                              0\n",
              "prop_starrating                      0\n",
              "prop_review_score                 7364\n",
              "prop_brand_bool                      0\n",
              "prop_location_score1                 0\n",
              "prop_location_score2           1090348\n",
              "prop_log_historical_price            0\n",
              "position                             0\n",
              "price_usd                            0\n",
              "promotion_flag                       0\n",
              "srch_destination_id                  0\n",
              "srch_length_of_stay                  0\n",
              "srch_booking_window                  0\n",
              "srch_adults_count                    0\n",
              "srch_children_count                  0\n",
              "srch_room_count                      0\n",
              "srch_saturday_night_bool             0\n",
              "srch_query_affinity_score      4640941\n",
              "orig_destination_distance      1607782\n",
              "random_bool                          0\n",
              "comp1_rate                     4838417\n",
              "comp1_inv                      4828788\n",
              "comp1_rate_percent_diff        4863908\n",
              "comp2_rate                     2933675\n",
              "comp2_inv                      2828078\n",
              "comp2_rate_percent_diff        4402109\n",
              "comp3_rate                     3424059\n",
              "comp3_inv                      3307357\n",
              "comp3_rate_percent_diff        4485550\n",
              "comp4_rate                     4650969\n",
              "comp4_inv                      4614684\n",
              "comp4_rate_percent_diff        4827261\n",
              "comp5_rate                     2735974\n",
              "comp5_inv                      2598327\n",
              "comp5_rate_percent_diff        4117248\n",
              "comp6_rate                     4718190\n",
              "comp6_inv                      4697371\n",
              "comp6_rate_percent_diff        4862173\n",
              "comp7_rate                     4642999\n",
              "comp7_inv                      4601925\n",
              "comp7_rate_percent_diff        4819832\n",
              "comp8_rate                     3041693\n",
              "comp8_inv                      2970844\n",
              "comp8_rate_percent_diff        4343617\n",
              "click_bool                           0\n",
              "gross_bookings_usd             4819957\n",
              "booking_bool                         0\n",
              "dtype: int64"
            ]
          },
          "metadata": {},
          "execution_count": 81
        }
      ],
      "source": [
        "isnans"
      ]
    },
    {
      "cell_type": "code",
      "source": [
        "# Drop columns with more than 50% nan\n",
        "nan_percentage = train.isna().sum().compute() / len(train)\n",
        "columns_to_drop = nan_percentage[nan_percentage > 0.5].index.tolist()\n",
        "train = train.drop(columns_to_drop, axis=1)"
      ],
      "metadata": {
        "id": "SLy1SMwiRwAj"
      },
      "execution_count": null,
      "outputs": []
    },
    {
      "cell_type": "markdown",
      "source": [
        "#### 3. Data Imputation on the new train_fe dataset"
      ],
      "metadata": {
        "id": "HXM5REsJgiv1"
      }
    },
    {
      "cell_type": "code",
      "source": [
        "train1 = train.copy()"
      ],
      "metadata": {
        "id": "XhGL-1Hlo3Yu"
      },
      "execution_count": null,
      "outputs": []
    },
    {
      "cell_type": "code",
      "source": [
        "with_nan = train.columns[train.isnull().any()].tolist()"
      ],
      "metadata": {
        "id": "Oh9PODI1k_JR"
      },
      "execution_count": null,
      "outputs": []
    },
    {
      "cell_type": "code",
      "source": [
        "with_nan"
      ],
      "metadata": {
        "colab": {
          "base_uri": "https://localhost:8080/"
        },
        "id": "8JKezdYHlRbW",
        "outputId": "1782c868-1d26-41b3-ebf0-849f96ba1eaf"
      },
      "execution_count": null,
      "outputs": [
        {
          "output_type": "execute_result",
          "data": {
            "text/plain": [
              "['prop_review_score', 'prop_location_score2', 'orig_destination_distance']"
            ]
          },
          "metadata": {},
          "execution_count": 141
        }
      ]
    },
    {
      "cell_type": "code",
      "source": [
        "train1.groupby(\"prop_country_id\")[\"prop_review_score\"].head(10)"
      ],
      "metadata": {
        "id": "PdvYgxQqvSjr"
      },
      "execution_count": null,
      "outputs": []
    },
    {
      "cell_type": "code",
      "source": [
        "# TODO : FIX THIS PART\n",
        "# Compute first quartile by prop_country_id\n",
        "for col in ['prop_review_score', 'prop_location_score2', 'orig_destination_distance']:\n",
        "  first_quartile_by_prop_country_and_col = train1.groupby(\"prop_country_id\")[col].apply(lambda x: x.quantile(0.25))\n",
        "  \n",
        "  for country, first_quartile in first_quartile_by_prop_country_and_col.iteritems():\n",
        "    train1[train1[\"prop_country_id\"] == country][col] = train1[train1[\"prop_country_id\"] == country][col].fillna(first_quartile)"
      ],
      "metadata": {
        "colab": {
          "base_uri": "https://localhost:8080/"
        },
        "id": "GfHvgkj0hqZy",
        "outputId": "6a611fdc-fa23-4db2-ecae-049404fd01e6"
      },
      "execution_count": null,
      "outputs": [
        {
          "output_type": "stream",
          "name": "stderr",
          "text": [
            "<ipython-input-162-7602e94087a4>:3: UserWarning: `meta` is not specified, inferred from partial data. Please provide `meta` if the result is unexpected.\n",
            "  Before: .apply(func)\n",
            "  After:  .apply(func, meta={'x': 'f8', 'y': 'f8'}) for dataframe result\n",
            "  or:     .apply(func, meta=('x', 'f8'))            for series result\n",
            "  first_quartile_by_prop_country_and_col = train1.groupby(\"prop_country_id\")[col].apply(lambda x: x.quantile(0.25))\n",
            "/usr/local/lib/python3.10/dist-packages/dask/dataframe/core.py:3766: FutureWarning: iteritems is deprecated and will be removed in a future version. Use .items instead.\n",
            "  warnings.warn(\n"
          ]
        }
      ]
    },
    {
      "cell_type": "code",
      "source": [
        "train1.isna().sum().compute()"
      ],
      "metadata": {
        "colab": {
          "base_uri": "https://localhost:8080/"
        },
        "id": "JJmLZMCbvxNX",
        "outputId": "cc978d18-bdb5-4545-9088-4d3903bc728a"
      },
      "execution_count": null,
      "outputs": [
        {
          "output_type": "execute_result",
          "data": {
            "text/plain": [
              "srch_id                              0\n",
              "date_time                            0\n",
              "site_id                              0\n",
              "visitor_location_country_id          0\n",
              "prop_country_id                      0\n",
              "prop_id                              0\n",
              "prop_starrating                      0\n",
              "prop_review_score                 7364\n",
              "prop_brand_bool                      0\n",
              "prop_location_score1                 0\n",
              "prop_location_score2           1090348\n",
              "prop_log_historical_price            0\n",
              "position                             0\n",
              "price_usd                            0\n",
              "promotion_flag                       0\n",
              "srch_destination_id                  0\n",
              "srch_length_of_stay                  0\n",
              "srch_booking_window                  0\n",
              "srch_adults_count                    0\n",
              "srch_children_count                  0\n",
              "srch_room_count                      0\n",
              "srch_saturday_night_bool             0\n",
              "orig_destination_distance      1607782\n",
              "random_bool                          0\n",
              "click_bool                           0\n",
              "booking_bool                         0\n",
              "dtype: int64"
            ]
          },
          "metadata": {},
          "execution_count": 163
        }
      ]
    },
    {
      "cell_type": "code",
      "source": [
        "train1.head()"
      ],
      "metadata": {
        "colab": {
          "base_uri": "https://localhost:8080/",
          "height": 386
        },
        "id": "SPm6_4uBsS5G",
        "outputId": "23cedda9-e3d7-432d-efc8-4fee7f499eda"
      },
      "execution_count": null,
      "outputs": [
        {
          "output_type": "execute_result",
          "data": {
            "text/plain": [
              "   srch_id            date_time  site_id  visitor_location_country_id  \\\n",
              "0        1  2013-04-04 08:32:15       12                          187   \n",
              "1        1  2013-04-04 08:32:15       12                          187   \n",
              "2        1  2013-04-04 08:32:15       12                          187   \n",
              "3        1  2013-04-04 08:32:15       12                          187   \n",
              "4        1  2013-04-04 08:32:15       12                          187   \n",
              "\n",
              "   prop_country_id  prop_id  prop_starrating  prop_review_score  \\\n",
              "0              219      893                3                3.5   \n",
              "1              219    10404                4                4.0   \n",
              "2              219    21315                3                4.0   \n",
              "3              219    27348                2                3.5   \n",
              "4              219    29604                4                4.0   \n",
              "\n",
              "   prop_brand_bool  prop_location_score1  ...  srch_length_of_stay  \\\n",
              "0                1                  2.83  ...                    1   \n",
              "1                1                  2.20  ...                    1   \n",
              "2                1                  2.20  ...                    1   \n",
              "3                1                  2.83  ...                    1   \n",
              "4                1                  2.64  ...                    1   \n",
              "\n",
              "   srch_booking_window  srch_adults_count  srch_children_count  \\\n",
              "0                    0                  4                    0   \n",
              "1                    0                  4                    0   \n",
              "2                    0                  4                    0   \n",
              "3                    0                  4                    0   \n",
              "4                    0                  4                    0   \n",
              "\n",
              "   srch_room_count  srch_saturday_night_bool  orig_destination_distance  \\\n",
              "0                1                         1                   338.9175   \n",
              "1                1                         1                   338.9175   \n",
              "2                1                         1                   338.9175   \n",
              "3                1                         1                   338.9175   \n",
              "4                1                         1                   338.9175   \n",
              "\n",
              "   random_bool  click_bool  booking_bool  \n",
              "0            1           0             0  \n",
              "1            1           0             0  \n",
              "2            1           0             0  \n",
              "3            1           0             0  \n",
              "4            1           0             0  \n",
              "\n",
              "[5 rows x 26 columns]"
            ],
            "text/html": [
              "\n",
              "  <div id=\"df-5ad4d732-abc9-4d20-839e-e1c315a36fcf\">\n",
              "    <div class=\"colab-df-container\">\n",
              "      <div>\n",
              "<style scoped>\n",
              "    .dataframe tbody tr th:only-of-type {\n",
              "        vertical-align: middle;\n",
              "    }\n",
              "\n",
              "    .dataframe tbody tr th {\n",
              "        vertical-align: top;\n",
              "    }\n",
              "\n",
              "    .dataframe thead th {\n",
              "        text-align: right;\n",
              "    }\n",
              "</style>\n",
              "<table border=\"1\" class=\"dataframe\">\n",
              "  <thead>\n",
              "    <tr style=\"text-align: right;\">\n",
              "      <th></th>\n",
              "      <th>srch_id</th>\n",
              "      <th>date_time</th>\n",
              "      <th>site_id</th>\n",
              "      <th>visitor_location_country_id</th>\n",
              "      <th>prop_country_id</th>\n",
              "      <th>prop_id</th>\n",
              "      <th>prop_starrating</th>\n",
              "      <th>prop_review_score</th>\n",
              "      <th>prop_brand_bool</th>\n",
              "      <th>prop_location_score1</th>\n",
              "      <th>...</th>\n",
              "      <th>srch_length_of_stay</th>\n",
              "      <th>srch_booking_window</th>\n",
              "      <th>srch_adults_count</th>\n",
              "      <th>srch_children_count</th>\n",
              "      <th>srch_room_count</th>\n",
              "      <th>srch_saturday_night_bool</th>\n",
              "      <th>orig_destination_distance</th>\n",
              "      <th>random_bool</th>\n",
              "      <th>click_bool</th>\n",
              "      <th>booking_bool</th>\n",
              "    </tr>\n",
              "  </thead>\n",
              "  <tbody>\n",
              "    <tr>\n",
              "      <th>0</th>\n",
              "      <td>1</td>\n",
              "      <td>2013-04-04 08:32:15</td>\n",
              "      <td>12</td>\n",
              "      <td>187</td>\n",
              "      <td>219</td>\n",
              "      <td>893</td>\n",
              "      <td>3</td>\n",
              "      <td>3.5</td>\n",
              "      <td>1</td>\n",
              "      <td>2.83</td>\n",
              "      <td>...</td>\n",
              "      <td>1</td>\n",
              "      <td>0</td>\n",
              "      <td>4</td>\n",
              "      <td>0</td>\n",
              "      <td>1</td>\n",
              "      <td>1</td>\n",
              "      <td>338.9175</td>\n",
              "      <td>1</td>\n",
              "      <td>0</td>\n",
              "      <td>0</td>\n",
              "    </tr>\n",
              "    <tr>\n",
              "      <th>1</th>\n",
              "      <td>1</td>\n",
              "      <td>2013-04-04 08:32:15</td>\n",
              "      <td>12</td>\n",
              "      <td>187</td>\n",
              "      <td>219</td>\n",
              "      <td>10404</td>\n",
              "      <td>4</td>\n",
              "      <td>4.0</td>\n",
              "      <td>1</td>\n",
              "      <td>2.20</td>\n",
              "      <td>...</td>\n",
              "      <td>1</td>\n",
              "      <td>0</td>\n",
              "      <td>4</td>\n",
              "      <td>0</td>\n",
              "      <td>1</td>\n",
              "      <td>1</td>\n",
              "      <td>338.9175</td>\n",
              "      <td>1</td>\n",
              "      <td>0</td>\n",
              "      <td>0</td>\n",
              "    </tr>\n",
              "    <tr>\n",
              "      <th>2</th>\n",
              "      <td>1</td>\n",
              "      <td>2013-04-04 08:32:15</td>\n",
              "      <td>12</td>\n",
              "      <td>187</td>\n",
              "      <td>219</td>\n",
              "      <td>21315</td>\n",
              "      <td>3</td>\n",
              "      <td>4.0</td>\n",
              "      <td>1</td>\n",
              "      <td>2.20</td>\n",
              "      <td>...</td>\n",
              "      <td>1</td>\n",
              "      <td>0</td>\n",
              "      <td>4</td>\n",
              "      <td>0</td>\n",
              "      <td>1</td>\n",
              "      <td>1</td>\n",
              "      <td>338.9175</td>\n",
              "      <td>1</td>\n",
              "      <td>0</td>\n",
              "      <td>0</td>\n",
              "    </tr>\n",
              "    <tr>\n",
              "      <th>3</th>\n",
              "      <td>1</td>\n",
              "      <td>2013-04-04 08:32:15</td>\n",
              "      <td>12</td>\n",
              "      <td>187</td>\n",
              "      <td>219</td>\n",
              "      <td>27348</td>\n",
              "      <td>2</td>\n",
              "      <td>3.5</td>\n",
              "      <td>1</td>\n",
              "      <td>2.83</td>\n",
              "      <td>...</td>\n",
              "      <td>1</td>\n",
              "      <td>0</td>\n",
              "      <td>4</td>\n",
              "      <td>0</td>\n",
              "      <td>1</td>\n",
              "      <td>1</td>\n",
              "      <td>338.9175</td>\n",
              "      <td>1</td>\n",
              "      <td>0</td>\n",
              "      <td>0</td>\n",
              "    </tr>\n",
              "    <tr>\n",
              "      <th>4</th>\n",
              "      <td>1</td>\n",
              "      <td>2013-04-04 08:32:15</td>\n",
              "      <td>12</td>\n",
              "      <td>187</td>\n",
              "      <td>219</td>\n",
              "      <td>29604</td>\n",
              "      <td>4</td>\n",
              "      <td>4.0</td>\n",
              "      <td>1</td>\n",
              "      <td>2.64</td>\n",
              "      <td>...</td>\n",
              "      <td>1</td>\n",
              "      <td>0</td>\n",
              "      <td>4</td>\n",
              "      <td>0</td>\n",
              "      <td>1</td>\n",
              "      <td>1</td>\n",
              "      <td>338.9175</td>\n",
              "      <td>1</td>\n",
              "      <td>0</td>\n",
              "      <td>0</td>\n",
              "    </tr>\n",
              "  </tbody>\n",
              "</table>\n",
              "<p>5 rows × 26 columns</p>\n",
              "</div>\n",
              "      <button class=\"colab-df-convert\" onclick=\"convertToInteractive('df-5ad4d732-abc9-4d20-839e-e1c315a36fcf')\"\n",
              "              title=\"Convert this dataframe to an interactive table.\"\n",
              "              style=\"display:none;\">\n",
              "        \n",
              "  <svg xmlns=\"http://www.w3.org/2000/svg\" height=\"24px\"viewBox=\"0 0 24 24\"\n",
              "       width=\"24px\">\n",
              "    <path d=\"M0 0h24v24H0V0z\" fill=\"none\"/>\n",
              "    <path d=\"M18.56 5.44l.94 2.06.94-2.06 2.06-.94-2.06-.94-.94-2.06-.94 2.06-2.06.94zm-11 1L8.5 8.5l.94-2.06 2.06-.94-2.06-.94L8.5 2.5l-.94 2.06-2.06.94zm10 10l.94 2.06.94-2.06 2.06-.94-2.06-.94-.94-2.06-.94 2.06-2.06.94z\"/><path d=\"M17.41 7.96l-1.37-1.37c-.4-.4-.92-.59-1.43-.59-.52 0-1.04.2-1.43.59L10.3 9.45l-7.72 7.72c-.78.78-.78 2.05 0 2.83L4 21.41c.39.39.9.59 1.41.59.51 0 1.02-.2 1.41-.59l7.78-7.78 2.81-2.81c.8-.78.8-2.07 0-2.86zM5.41 20L4 18.59l7.72-7.72 1.47 1.35L5.41 20z\"/>\n",
              "  </svg>\n",
              "      </button>\n",
              "      \n",
              "  <style>\n",
              "    .colab-df-container {\n",
              "      display:flex;\n",
              "      flex-wrap:wrap;\n",
              "      gap: 12px;\n",
              "    }\n",
              "\n",
              "    .colab-df-convert {\n",
              "      background-color: #E8F0FE;\n",
              "      border: none;\n",
              "      border-radius: 50%;\n",
              "      cursor: pointer;\n",
              "      display: none;\n",
              "      fill: #1967D2;\n",
              "      height: 32px;\n",
              "      padding: 0 0 0 0;\n",
              "      width: 32px;\n",
              "    }\n",
              "\n",
              "    .colab-df-convert:hover {\n",
              "      background-color: #E2EBFA;\n",
              "      box-shadow: 0px 1px 2px rgba(60, 64, 67, 0.3), 0px 1px 3px 1px rgba(60, 64, 67, 0.15);\n",
              "      fill: #174EA6;\n",
              "    }\n",
              "\n",
              "    [theme=dark] .colab-df-convert {\n",
              "      background-color: #3B4455;\n",
              "      fill: #D2E3FC;\n",
              "    }\n",
              "\n",
              "    [theme=dark] .colab-df-convert:hover {\n",
              "      background-color: #434B5C;\n",
              "      box-shadow: 0px 1px 3px 1px rgba(0, 0, 0, 0.15);\n",
              "      filter: drop-shadow(0px 1px 2px rgba(0, 0, 0, 0.3));\n",
              "      fill: #FFFFFF;\n",
              "    }\n",
              "  </style>\n",
              "\n",
              "      <script>\n",
              "        const buttonEl =\n",
              "          document.querySelector('#df-5ad4d732-abc9-4d20-839e-e1c315a36fcf button.colab-df-convert');\n",
              "        buttonEl.style.display =\n",
              "          google.colab.kernel.accessAllowed ? 'block' : 'none';\n",
              "\n",
              "        async function convertToInteractive(key) {\n",
              "          const element = document.querySelector('#df-5ad4d732-abc9-4d20-839e-e1c315a36fcf');\n",
              "          const dataTable =\n",
              "            await google.colab.kernel.invokeFunction('convertToInteractive',\n",
              "                                                     [key], {});\n",
              "          if (!dataTable) return;\n",
              "\n",
              "          const docLinkHtml = 'Like what you see? Visit the ' +\n",
              "            '<a target=\"_blank\" href=https://colab.research.google.com/notebooks/data_table.ipynb>data table notebook</a>'\n",
              "            + ' to learn more about interactive tables.';\n",
              "          element.innerHTML = '';\n",
              "          dataTable['output_type'] = 'display_data';\n",
              "          await google.colab.output.renderOutput(dataTable, element);\n",
              "          const docLink = document.createElement('div');\n",
              "          docLink.innerHTML = docLinkHtml;\n",
              "          element.appendChild(docLink);\n",
              "        }\n",
              "      </script>\n",
              "    </div>\n",
              "  </div>\n",
              "  "
            ]
          },
          "metadata": {},
          "execution_count": 116
        }
      ]
    },
    {
      "cell_type": "markdown",
      "source": [
        "#### 4. Create new features"
      ],
      "metadata": {
        "id": "c1eQGpAFg3gC"
      }
    },
    {
      "cell_type": "code",
      "source": [],
      "metadata": {
        "id": "RypE1qSTP8q7"
      },
      "execution_count": null,
      "outputs": []
    },
    {
      "cell_type": "code",
      "source": [
        "from tqdm import tqdm"
      ],
      "metadata": {
        "id": "IaicRouiLggI"
      },
      "execution_count": null,
      "outputs": []
    },
    {
      "cell_type": "code",
      "source": [
        "# TODO: prop_location_score2 as it still had missing values\n",
        "# Categorical features\n",
        "features = ['prop_location_score1', 'prop_log_historical_price','price_usd', 'srch_length_of_stay', 'srch_booking_window', 'orig_destination_distance']\n",
        "\n",
        "# Aggregation functions\n",
        "agg_functions = ['mean', 'median', 'std', 'min', 'max']\n",
        "\n",
        "for x in tqdm(['srch_id', 'prop_id', 'srch_destination_id']): \n",
        "  for y in tqdm(features): \n",
        "    for z in agg_functions: \n",
        "      grouped_test = test.groupby(x)[[y]].agg(z, shuffle='tasks').compute()\n",
        "      grouped_test.rename(columns={y: '{}_{}_{}'.format(x, y, z)}, inplace=True)\n",
        "      test = test.merge(grouped_test, on=x)"
      ],
      "metadata": {
        "id": "fiYMRQtZFtCH",
        "colab": {
          "base_uri": "https://localhost:8080/"
        },
        "outputId": "9218fc52-2fa2-4d03-ad28-cb1fede4623b"
      },
      "execution_count": null,
      "outputs": [
        {
          "output_type": "stream",
          "name": "stderr",
          "text": [
            "  0%|          | 0/3 [00:00<?, ?it/s]\n",
            "  0%|          | 0/6 [00:00<?, ?it/s]\u001b[A\n",
            " 17%|█▋        | 1/6 [03:58<19:53, 238.62s/it]\u001b[A\n",
            " 33%|███▎      | 2/6 [08:41<17:39, 264.95s/it]\u001b[A\n",
            " 50%|█████     | 3/6 [14:31<15:10, 303.41s/it]\u001b[A\n",
            " 67%|██████▋   | 4/6 [21:26<11:35, 347.70s/it]\u001b[A\n",
            " 83%|████████▎ | 5/6 [29:41<06:40, 400.59s/it]\u001b[A\n",
            "100%|██████████| 6/6 [39:22<00:00, 393.77s/it]\n",
            " 33%|███▎      | 1/3 [39:22<1:18:45, 2362.63s/it]\n",
            "  0%|          | 0/6 [00:00<?, ?it/s]\u001b[A\n",
            " 17%|█▋        | 1/6 [10:42<53:34, 642.84s/it]\u001b[A\n",
            " 33%|███▎      | 2/6 [23:03<46:40, 700.11s/it]\u001b[A\n",
            " 50%|█████     | 3/6 [37:14<38:27, 769.23s/it]\u001b[A\n",
            " 67%|██████▋   | 4/6 [52:52<27:51, 835.99s/it]\u001b[A\n",
            " 83%|████████▎ | 5/6 [1:10:05<15:06, 906.84s/it]\u001b[A\n",
            "100%|██████████| 6/6 [1:29:11<00:00, 891.93s/it]\n",
            " 67%|██████▋   | 2/3 [2:08:34<1:08:40, 4120.84s/it]\n",
            "  0%|          | 0/6 [00:00<?, ?it/s]\u001b[A\n",
            " 17%|█▋        | 1/6 [20:59<1:44:56, 1259.22s/it]\u001b[A\n",
            " 33%|███▎      | 2/6 [43:20<1:27:09, 1307.42s/it]\u001b[A\n",
            " 50%|█████     | 3/6 [1:07:40<1:08:51, 1377.00s/it]\u001b[A\n",
            " 67%|██████▋   | 4/6 [1:33:27<48:08, 1444.37s/it]  \u001b[A\n",
            " 83%|████████▎ | 5/6 [2:00:51<25:16, 1516.41s/it]\u001b[A\n",
            "100%|██████████| 6/6 [2:29:55<00:00, 1499.32s/it]\n",
            "100%|██████████| 3/3 [4:38:30<00:00, 5570.05s/it]\n"
          ]
        }
      ]
    },
    {
      "cell_type": "code",
      "source": [
        "test.to_csv(\"drive/MyDrive/Raw/test.csv\", single_file=True) "
      ],
      "metadata": {
        "colab": {
          "base_uri": "https://localhost:8080/",
          "height": 166
        },
        "id": "MJ6MXZepL0BP",
        "outputId": "f2a46cc4-e2be-47af-8910-ad645e3d36ec"
      },
      "execution_count": null,
      "outputs": [
        {
          "output_type": "error",
          "ename": "NameError",
          "evalue": "ignored",
          "traceback": [
            "\u001b[0;31m---------------------------------------------------------------------------\u001b[0m",
            "\u001b[0;31mNameError\u001b[0m                                 Traceback (most recent call last)",
            "\u001b[0;32m<ipython-input-1-077c2b6ea360>\u001b[0m in \u001b[0;36m<cell line: 1>\u001b[0;34m()\u001b[0m\n\u001b[0;32m----> 1\u001b[0;31m \u001b[0mtest\u001b[0m\u001b[0;34m.\u001b[0m\u001b[0mto_csv\u001b[0m\u001b[0;34m(\u001b[0m\u001b[0;34m\"drive/MyDrive/Raw/test.csv\"\u001b[0m\u001b[0;34m,\u001b[0m \u001b[0msingle_file\u001b[0m\u001b[0;34m=\u001b[0m\u001b[0;32mTrue\u001b[0m\u001b[0;34m)\u001b[0m\u001b[0;34m\u001b[0m\u001b[0;34m\u001b[0m\u001b[0m\n\u001b[0m",
            "\u001b[0;31mNameError\u001b[0m: name 'test' is not defined"
          ]
        }
      ]
    },
    {
      "cell_type": "code",
      "source": [
        "test.head(5)"
      ],
      "metadata": {
        "id": "IyON9DRtRXlR",
        "outputId": "669ac218-0a38-4c27-c0c1-5e0398a3a268",
        "colab": {
          "base_uri": "https://localhost:8080/",
          "height": 386
        }
      },
      "execution_count": null,
      "outputs": [
        {
          "output_type": "execute_result",
          "data": {
            "text/plain": [
              "   srch_id           date_time  site_id  visitor_location_country_id  \\\n",
              "0        1 2013-02-02 15:27:40       24                          216   \n",
              "1     5883 2012-12-07 06:01:55        5                          219   \n",
              "2     9502 2013-02-19 13:41:39        5                          219   \n",
              "3    12537 2012-12-06 11:44:41        5                          219   \n",
              "4    14954 2013-03-09 10:47:29        5                          219   \n",
              "\n",
              "   visitor_hist_starrating  visitor_hist_adr_usd  prop_country_id  prop_id  \\\n",
              "0                      NaN                   NaN              219     3180   \n",
              "1                      NaN                   NaN              219     3180   \n",
              "2                      NaN                   NaN              219     3180   \n",
              "3                      NaN                   NaN              219     3180   \n",
              "4                      NaN                   NaN              219     3180   \n",
              "\n",
              "   prop_starrating  prop_review_score  ...  \\\n",
              "0                3                4.5  ...   \n",
              "1                3                4.5  ...   \n",
              "2                3                4.5  ...   \n",
              "3                3                4.5  ...   \n",
              "4                3                4.5  ...   \n",
              "\n",
              "   srch_destination_id_srch_booking_window_mean  \\\n",
              "0                                     21.522428   \n",
              "1                                     21.522428   \n",
              "2                                     21.522428   \n",
              "3                                     21.522428   \n",
              "4                                     21.522428   \n",
              "\n",
              "   srch_destination_id_srch_booking_window_median  \\\n",
              "0                                            10.0   \n",
              "1                                            10.0   \n",
              "2                                            10.0   \n",
              "3                                            10.0   \n",
              "4                                            10.0   \n",
              "\n",
              "   srch_destination_id_srch_booking_window_std  \\\n",
              "0                                    35.988685   \n",
              "1                                    35.988685   \n",
              "2                                    35.988685   \n",
              "3                                    35.988685   \n",
              "4                                    35.988685   \n",
              "\n",
              "   srch_destination_id_srch_booking_window_min  \\\n",
              "0                                            0   \n",
              "1                                            0   \n",
              "2                                            0   \n",
              "3                                            0   \n",
              "4                                            0   \n",
              "\n",
              "   srch_destination_id_srch_booking_window_max  \\\n",
              "0                                          229   \n",
              "1                                          229   \n",
              "2                                          229   \n",
              "3                                          229   \n",
              "4                                          229   \n",
              "\n",
              "   srch_destination_id_orig_destination_distance_mean  \\\n",
              "0                                         710.258866    \n",
              "1                                         710.258866    \n",
              "2                                         710.258866    \n",
              "3                                         710.258866    \n",
              "4                                         710.258866    \n",
              "\n",
              "   srch_destination_id_orig_destination_distance_median  \\\n",
              "0                                            162.725      \n",
              "1                                            162.725      \n",
              "2                                            162.725      \n",
              "3                                            162.725      \n",
              "4                                            162.725      \n",
              "\n",
              "   srch_destination_id_orig_destination_distance_std  \\\n",
              "0                                         884.619076   \n",
              "1                                         884.619076   \n",
              "2                                         884.619076   \n",
              "3                                         884.619076   \n",
              "4                                         884.619076   \n",
              "\n",
              "   srch_destination_id_orig_destination_distance_min  \\\n",
              "0                                               0.75   \n",
              "1                                               0.75   \n",
              "2                                               0.75   \n",
              "3                                               0.75   \n",
              "4                                               0.75   \n",
              "\n",
              "   srch_destination_id_orig_destination_distance_max  \n",
              "0                                            2606.14  \n",
              "1                                            2606.14  \n",
              "2                                            2606.14  \n",
              "3                                            2606.14  \n",
              "4                                            2606.14  \n",
              "\n",
              "[5 rows x 144 columns]"
            ],
            "text/html": [
              "\n",
              "  <div id=\"df-f49bef81-0cf1-4723-ad66-6fd6e71de254\">\n",
              "    <div class=\"colab-df-container\">\n",
              "      <div>\n",
              "<style scoped>\n",
              "    .dataframe tbody tr th:only-of-type {\n",
              "        vertical-align: middle;\n",
              "    }\n",
              "\n",
              "    .dataframe tbody tr th {\n",
              "        vertical-align: top;\n",
              "    }\n",
              "\n",
              "    .dataframe thead th {\n",
              "        text-align: right;\n",
              "    }\n",
              "</style>\n",
              "<table border=\"1\" class=\"dataframe\">\n",
              "  <thead>\n",
              "    <tr style=\"text-align: right;\">\n",
              "      <th></th>\n",
              "      <th>srch_id</th>\n",
              "      <th>date_time</th>\n",
              "      <th>site_id</th>\n",
              "      <th>visitor_location_country_id</th>\n",
              "      <th>visitor_hist_starrating</th>\n",
              "      <th>visitor_hist_adr_usd</th>\n",
              "      <th>prop_country_id</th>\n",
              "      <th>prop_id</th>\n",
              "      <th>prop_starrating</th>\n",
              "      <th>prop_review_score</th>\n",
              "      <th>...</th>\n",
              "      <th>srch_destination_id_srch_booking_window_mean</th>\n",
              "      <th>srch_destination_id_srch_booking_window_median</th>\n",
              "      <th>srch_destination_id_srch_booking_window_std</th>\n",
              "      <th>srch_destination_id_srch_booking_window_min</th>\n",
              "      <th>srch_destination_id_srch_booking_window_max</th>\n",
              "      <th>srch_destination_id_orig_destination_distance_mean</th>\n",
              "      <th>srch_destination_id_orig_destination_distance_median</th>\n",
              "      <th>srch_destination_id_orig_destination_distance_std</th>\n",
              "      <th>srch_destination_id_orig_destination_distance_min</th>\n",
              "      <th>srch_destination_id_orig_destination_distance_max</th>\n",
              "    </tr>\n",
              "  </thead>\n",
              "  <tbody>\n",
              "    <tr>\n",
              "      <th>0</th>\n",
              "      <td>1</td>\n",
              "      <td>2013-02-02 15:27:40</td>\n",
              "      <td>24</td>\n",
              "      <td>216</td>\n",
              "      <td>NaN</td>\n",
              "      <td>NaN</td>\n",
              "      <td>219</td>\n",
              "      <td>3180</td>\n",
              "      <td>3</td>\n",
              "      <td>4.5</td>\n",
              "      <td>...</td>\n",
              "      <td>21.522428</td>\n",
              "      <td>10.0</td>\n",
              "      <td>35.988685</td>\n",
              "      <td>0</td>\n",
              "      <td>229</td>\n",
              "      <td>710.258866</td>\n",
              "      <td>162.725</td>\n",
              "      <td>884.619076</td>\n",
              "      <td>0.75</td>\n",
              "      <td>2606.14</td>\n",
              "    </tr>\n",
              "    <tr>\n",
              "      <th>1</th>\n",
              "      <td>5883</td>\n",
              "      <td>2012-12-07 06:01:55</td>\n",
              "      <td>5</td>\n",
              "      <td>219</td>\n",
              "      <td>NaN</td>\n",
              "      <td>NaN</td>\n",
              "      <td>219</td>\n",
              "      <td>3180</td>\n",
              "      <td>3</td>\n",
              "      <td>4.5</td>\n",
              "      <td>...</td>\n",
              "      <td>21.522428</td>\n",
              "      <td>10.0</td>\n",
              "      <td>35.988685</td>\n",
              "      <td>0</td>\n",
              "      <td>229</td>\n",
              "      <td>710.258866</td>\n",
              "      <td>162.725</td>\n",
              "      <td>884.619076</td>\n",
              "      <td>0.75</td>\n",
              "      <td>2606.14</td>\n",
              "    </tr>\n",
              "    <tr>\n",
              "      <th>2</th>\n",
              "      <td>9502</td>\n",
              "      <td>2013-02-19 13:41:39</td>\n",
              "      <td>5</td>\n",
              "      <td>219</td>\n",
              "      <td>NaN</td>\n",
              "      <td>NaN</td>\n",
              "      <td>219</td>\n",
              "      <td>3180</td>\n",
              "      <td>3</td>\n",
              "      <td>4.5</td>\n",
              "      <td>...</td>\n",
              "      <td>21.522428</td>\n",
              "      <td>10.0</td>\n",
              "      <td>35.988685</td>\n",
              "      <td>0</td>\n",
              "      <td>229</td>\n",
              "      <td>710.258866</td>\n",
              "      <td>162.725</td>\n",
              "      <td>884.619076</td>\n",
              "      <td>0.75</td>\n",
              "      <td>2606.14</td>\n",
              "    </tr>\n",
              "    <tr>\n",
              "      <th>3</th>\n",
              "      <td>12537</td>\n",
              "      <td>2012-12-06 11:44:41</td>\n",
              "      <td>5</td>\n",
              "      <td>219</td>\n",
              "      <td>NaN</td>\n",
              "      <td>NaN</td>\n",
              "      <td>219</td>\n",
              "      <td>3180</td>\n",
              "      <td>3</td>\n",
              "      <td>4.5</td>\n",
              "      <td>...</td>\n",
              "      <td>21.522428</td>\n",
              "      <td>10.0</td>\n",
              "      <td>35.988685</td>\n",
              "      <td>0</td>\n",
              "      <td>229</td>\n",
              "      <td>710.258866</td>\n",
              "      <td>162.725</td>\n",
              "      <td>884.619076</td>\n",
              "      <td>0.75</td>\n",
              "      <td>2606.14</td>\n",
              "    </tr>\n",
              "    <tr>\n",
              "      <th>4</th>\n",
              "      <td>14954</td>\n",
              "      <td>2013-03-09 10:47:29</td>\n",
              "      <td>5</td>\n",
              "      <td>219</td>\n",
              "      <td>NaN</td>\n",
              "      <td>NaN</td>\n",
              "      <td>219</td>\n",
              "      <td>3180</td>\n",
              "      <td>3</td>\n",
              "      <td>4.5</td>\n",
              "      <td>...</td>\n",
              "      <td>21.522428</td>\n",
              "      <td>10.0</td>\n",
              "      <td>35.988685</td>\n",
              "      <td>0</td>\n",
              "      <td>229</td>\n",
              "      <td>710.258866</td>\n",
              "      <td>162.725</td>\n",
              "      <td>884.619076</td>\n",
              "      <td>0.75</td>\n",
              "      <td>2606.14</td>\n",
              "    </tr>\n",
              "  </tbody>\n",
              "</table>\n",
              "<p>5 rows × 144 columns</p>\n",
              "</div>\n",
              "      <button class=\"colab-df-convert\" onclick=\"convertToInteractive('df-f49bef81-0cf1-4723-ad66-6fd6e71de254')\"\n",
              "              title=\"Convert this dataframe to an interactive table.\"\n",
              "              style=\"display:none;\">\n",
              "        \n",
              "  <svg xmlns=\"http://www.w3.org/2000/svg\" height=\"24px\"viewBox=\"0 0 24 24\"\n",
              "       width=\"24px\">\n",
              "    <path d=\"M0 0h24v24H0V0z\" fill=\"none\"/>\n",
              "    <path d=\"M18.56 5.44l.94 2.06.94-2.06 2.06-.94-2.06-.94-.94-2.06-.94 2.06-2.06.94zm-11 1L8.5 8.5l.94-2.06 2.06-.94-2.06-.94L8.5 2.5l-.94 2.06-2.06.94zm10 10l.94 2.06.94-2.06 2.06-.94-2.06-.94-.94-2.06-.94 2.06-2.06.94z\"/><path d=\"M17.41 7.96l-1.37-1.37c-.4-.4-.92-.59-1.43-.59-.52 0-1.04.2-1.43.59L10.3 9.45l-7.72 7.72c-.78.78-.78 2.05 0 2.83L4 21.41c.39.39.9.59 1.41.59.51 0 1.02-.2 1.41-.59l7.78-7.78 2.81-2.81c.8-.78.8-2.07 0-2.86zM5.41 20L4 18.59l7.72-7.72 1.47 1.35L5.41 20z\"/>\n",
              "  </svg>\n",
              "      </button>\n",
              "      \n",
              "  <style>\n",
              "    .colab-df-container {\n",
              "      display:flex;\n",
              "      flex-wrap:wrap;\n",
              "      gap: 12px;\n",
              "    }\n",
              "\n",
              "    .colab-df-convert {\n",
              "      background-color: #E8F0FE;\n",
              "      border: none;\n",
              "      border-radius: 50%;\n",
              "      cursor: pointer;\n",
              "      display: none;\n",
              "      fill: #1967D2;\n",
              "      height: 32px;\n",
              "      padding: 0 0 0 0;\n",
              "      width: 32px;\n",
              "    }\n",
              "\n",
              "    .colab-df-convert:hover {\n",
              "      background-color: #E2EBFA;\n",
              "      box-shadow: 0px 1px 2px rgba(60, 64, 67, 0.3), 0px 1px 3px 1px rgba(60, 64, 67, 0.15);\n",
              "      fill: #174EA6;\n",
              "    }\n",
              "\n",
              "    [theme=dark] .colab-df-convert {\n",
              "      background-color: #3B4455;\n",
              "      fill: #D2E3FC;\n",
              "    }\n",
              "\n",
              "    [theme=dark] .colab-df-convert:hover {\n",
              "      background-color: #434B5C;\n",
              "      box-shadow: 0px 1px 3px 1px rgba(0, 0, 0, 0.15);\n",
              "      filter: drop-shadow(0px 1px 2px rgba(0, 0, 0, 0.3));\n",
              "      fill: #FFFFFF;\n",
              "    }\n",
              "  </style>\n",
              "\n",
              "      <script>\n",
              "        const buttonEl =\n",
              "          document.querySelector('#df-f49bef81-0cf1-4723-ad66-6fd6e71de254 button.colab-df-convert');\n",
              "        buttonEl.style.display =\n",
              "          google.colab.kernel.accessAllowed ? 'block' : 'none';\n",
              "\n",
              "        async function convertToInteractive(key) {\n",
              "          const element = document.querySelector('#df-f49bef81-0cf1-4723-ad66-6fd6e71de254');\n",
              "          const dataTable =\n",
              "            await google.colab.kernel.invokeFunction('convertToInteractive',\n",
              "                                                     [key], {});\n",
              "          if (!dataTable) return;\n",
              "\n",
              "          const docLinkHtml = 'Like what you see? Visit the ' +\n",
              "            '<a target=\"_blank\" href=https://colab.research.google.com/notebooks/data_table.ipynb>data table notebook</a>'\n",
              "            + ' to learn more about interactive tables.';\n",
              "          element.innerHTML = '';\n",
              "          dataTable['output_type'] = 'display_data';\n",
              "          await google.colab.output.renderOutput(dataTable, element);\n",
              "          const docLink = document.createElement('div');\n",
              "          docLink.innerHTML = docLinkHtml;\n",
              "          element.appendChild(docLink);\n",
              "        }\n",
              "      </script>\n",
              "    </div>\n",
              "  </div>\n",
              "  "
            ]
          },
          "metadata": {},
          "execution_count": 15
        }
      ]
    },
    {
      "cell_type": "code",
      "source": [
        "#train1.to_csv(\"drive/MyDrive/Raw/train1.csv\", single_file=True)"
      ],
      "metadata": {
        "colab": {
          "base_uri": "https://localhost:8080/"
        },
        "id": "F5ASGhmWxN3n",
        "outputId": "3137eca1-bdf7-41d1-be6d-405d48b13406"
      },
      "execution_count": null,
      "outputs": [
        {
          "output_type": "execute_result",
          "data": {
            "text/plain": [
              "['/content/drive/MyDrive/Raw/train1.csv']"
            ]
          },
          "metadata": {},
          "execution_count": 52
        }
      ]
    },
    {
      "cell_type": "code",
      "source": [
        "#train1.columns"
      ],
      "metadata": {
        "id": "lv6Rpa_ZGSSa",
        "outputId": "83568759-4e25-4d27-e1a9-75e3bdfbb9da",
        "colab": {
          "base_uri": "https://localhost:8080/"
        }
      },
      "execution_count": null,
      "outputs": [
        {
          "output_type": "execute_result",
          "data": {
            "text/plain": [
              "Index(['srch_id', 'date_time', 'site_id', 'visitor_location_country_id',\n",
              "       'prop_country_id', 'prop_id', 'prop_starrating', 'prop_review_score',\n",
              "       'prop_brand_bool', 'prop_location_score1',\n",
              "       ...\n",
              "       'srch_destination_id_price_usd_max',\n",
              "       'srch_destination_id_srch_length_of_stay_std',\n",
              "       'srch_destination_id_srch_length_of_stay_min',\n",
              "       'srch_destination_id_srch_length_of_stay_max',\n",
              "       'srch_destination_id_srch_booking_window_std',\n",
              "       'srch_destination_id_srch_booking_window_min',\n",
              "       'srch_destination_id_srch_booking_window_max',\n",
              "       'srch_destination_id_orig_destination_distance_std',\n",
              "       'srch_destination_id_orig_destination_distance_min',\n",
              "       'srch_destination_id_orig_destination_distance_max'],\n",
              "      dtype='object', length=112)"
            ]
          },
          "metadata": {},
          "execution_count": 50
        }
      ]
    },
    {
      "cell_type": "markdown",
      "source": [
        "#### 5. Load the data after initial feature engineering"
      ],
      "metadata": {
        "id": "ivTv5yiIdRyF"
      }
    },
    {
      "cell_type": "code",
      "source": [
        "# TODO: Estimated positioning\n",
        "\n",
        "# TODO: The average price of hotels in the same region as the property being considered (during the same dates?)\n",
        "# The standard deviation of hotel prices in the same region as the property being considered\n",
        "# The difference between the price of the property being considered and the average price of hotels in the same region for the same dates\n",
        "\n",
        "# TODO: Mean, median, std, min, max - for data imputation variables\n",
        "# 0,1,2 - GBM_target (gradient boosted machine)\n",
        "  # Group numerical by search_id, prop-id, destination id"
      ],
      "metadata": {
        "id": "3P2h5hQbSSyK"
      },
      "execution_count": null,
      "outputs": []
    },
    {
      "cell_type": "code",
      "source": [
        "# TODO: VERIFY IF THESE WILL BE NEEDED: srch_adults_count, srch_children_count, srch_room_count    "
      ],
      "metadata": {
        "id": "fEfyfOHxDTmd"
      },
      "execution_count": null,
      "outputs": []
    },
    {
      "cell_type": "code",
      "source": [
        "train_fe = dd.read_csv(\"drive/MyDrive/Raw/train1.csv\")"
      ],
      "metadata": {
        "id": "U6bRg9oWc6Fg"
      },
      "execution_count": null,
      "outputs": []
    },
    {
      "cell_type": "code",
      "source": [
        "# Month and year\n",
        "train_fe[\"month\"] = train_fe[\"date_time\"].dt.month\n",
        "train_fe[\"day_of_week\"] = train_fe[\"date_time\"].dt.day_name()\n",
        "\n",
        "weekday = {'Monday': 1, 'Tuesday': 2, 'Wednesday': 3, 'Thursday': 4, 'Friday': 5, 'Saturday': 6, 'Sunday': 7}\n",
        "\n",
        "# Use the map function to transform the weekday column\n",
        "train_fe[\"day_of_week\"] = train_fe[\"day_of_week\"].map(weekday, meta=('day_of_week', 'int'))\n",
        "\n",
        "\n",
        "month_map = {\n",
        "    'January': 1,\n",
        "    'February': 2,\n",
        "    'March': 3,\n",
        "    'April': 4,\n",
        "    'May': 5,\n",
        "    'June': 6,\n",
        "    'July': 7,\n",
        "    'August': 8,\n",
        "    'September': 9,\n",
        "    'October': 10,\n",
        "    'November': 11,\n",
        "    'December': 12\n",
        "}\n",
        "\n",
        "train_fe['month'] = train_fe['month'].map(month_map)"
      ],
      "metadata": {
        "colab": {
          "base_uri": "https://localhost:8080/",
          "height": 346
        },
        "id": "LLwwEqmG6cdu",
        "outputId": "4ab1e7de-79af-431d-8983-6391f63ca187"
      },
      "execution_count": null,
      "outputs": [
        {
          "output_type": "error",
          "ename": "AttributeError",
          "evalue": "ignored",
          "traceback": [
            "\u001b[0;31m---------------------------------------------------------------------------\u001b[0m",
            "\u001b[0;31mAttributeError\u001b[0m                            Traceback (most recent call last)",
            "\u001b[0;32m<ipython-input-58-98ef1afef2c3>\u001b[0m in \u001b[0;36m<cell line: 2>\u001b[0;34m()\u001b[0m\n\u001b[1;32m      1\u001b[0m \u001b[0;31m# Month and year\u001b[0m\u001b[0;34m\u001b[0m\u001b[0;34m\u001b[0m\u001b[0m\n\u001b[0;32m----> 2\u001b[0;31m \u001b[0mtrain_fe\u001b[0m\u001b[0;34m[\u001b[0m\u001b[0;34m\"month\"\u001b[0m\u001b[0;34m]\u001b[0m \u001b[0;34m=\u001b[0m \u001b[0mtrain_fe\u001b[0m\u001b[0;34m[\u001b[0m\u001b[0;34m\"date_time\"\u001b[0m\u001b[0;34m]\u001b[0m\u001b[0;34m.\u001b[0m\u001b[0mdt\u001b[0m\u001b[0;34m.\u001b[0m\u001b[0mmonth\u001b[0m\u001b[0;34m\u001b[0m\u001b[0;34m\u001b[0m\u001b[0m\n\u001b[0m\u001b[1;32m      3\u001b[0m \u001b[0mtrain_fe\u001b[0m\u001b[0;34m[\u001b[0m\u001b[0;34m\"day_of_week\"\u001b[0m\u001b[0;34m]\u001b[0m \u001b[0;34m=\u001b[0m \u001b[0mtrain_fe\u001b[0m\u001b[0;34m[\u001b[0m\u001b[0;34m\"date_time\"\u001b[0m\u001b[0;34m]\u001b[0m\u001b[0;34m.\u001b[0m\u001b[0mdt\u001b[0m\u001b[0;34m.\u001b[0m\u001b[0mday_name\u001b[0m\u001b[0;34m(\u001b[0m\u001b[0;34m)\u001b[0m\u001b[0;34m\u001b[0m\u001b[0;34m\u001b[0m\u001b[0m\n\u001b[1;32m      4\u001b[0m \u001b[0;34m\u001b[0m\u001b[0m\n\u001b[1;32m      5\u001b[0m \u001b[0mweekday\u001b[0m \u001b[0;34m=\u001b[0m \u001b[0;34m{\u001b[0m\u001b[0;34m'Monday'\u001b[0m\u001b[0;34m:\u001b[0m \u001b[0;36m1\u001b[0m\u001b[0;34m,\u001b[0m \u001b[0;34m'Tuesday'\u001b[0m\u001b[0;34m:\u001b[0m \u001b[0;36m2\u001b[0m\u001b[0;34m,\u001b[0m \u001b[0;34m'Wednesday'\u001b[0m\u001b[0;34m:\u001b[0m \u001b[0;36m3\u001b[0m\u001b[0;34m,\u001b[0m \u001b[0;34m'Thursday'\u001b[0m\u001b[0;34m:\u001b[0m \u001b[0;36m4\u001b[0m\u001b[0;34m,\u001b[0m \u001b[0;34m'Friday'\u001b[0m\u001b[0;34m:\u001b[0m \u001b[0;36m5\u001b[0m\u001b[0;34m,\u001b[0m \u001b[0;34m'Saturday'\u001b[0m\u001b[0;34m:\u001b[0m \u001b[0;36m6\u001b[0m\u001b[0;34m,\u001b[0m \u001b[0;34m'Sunday'\u001b[0m\u001b[0;34m:\u001b[0m \u001b[0;36m7\u001b[0m\u001b[0;34m}\u001b[0m\u001b[0;34m\u001b[0m\u001b[0;34m\u001b[0m\u001b[0m\n",
            "\u001b[0;32m/usr/local/lib/python3.10/dist-packages/dask/dataframe/accessor.py\u001b[0m in \u001b[0;36m__get__\u001b[0;34m(self, obj, cls)\u001b[0m\n\u001b[1;32m    357\u001b[0m             \u001b[0;31m# we're accessing the attribute of the class, i.e., Dataset.geo\u001b[0m\u001b[0;34m\u001b[0m\u001b[0;34m\u001b[0m\u001b[0m\n\u001b[1;32m    358\u001b[0m             \u001b[0;32mreturn\u001b[0m \u001b[0mself\u001b[0m\u001b[0;34m.\u001b[0m\u001b[0m_accessor\u001b[0m\u001b[0;34m\u001b[0m\u001b[0;34m\u001b[0m\u001b[0m\n\u001b[0;32m--> 359\u001b[0;31m         \u001b[0maccessor_obj\u001b[0m \u001b[0;34m=\u001b[0m \u001b[0mself\u001b[0m\u001b[0;34m.\u001b[0m\u001b[0m_accessor\u001b[0m\u001b[0;34m(\u001b[0m\u001b[0mobj\u001b[0m\u001b[0;34m)\u001b[0m\u001b[0;34m\u001b[0m\u001b[0;34m\u001b[0m\u001b[0m\n\u001b[0m\u001b[1;32m    360\u001b[0m         \u001b[0;31m# Replace the property with the accessor object. Inspired by:\u001b[0m\u001b[0;34m\u001b[0m\u001b[0;34m\u001b[0m\u001b[0m\n\u001b[1;32m    361\u001b[0m         \u001b[0;31m# http://www.pydanny.com/cached-property.html\u001b[0m\u001b[0;34m\u001b[0m\u001b[0;34m\u001b[0m\u001b[0m\n",
            "\u001b[0;32m/usr/local/lib/python3.10/dist-packages/dask/dataframe/accessor.py\u001b[0m in \u001b[0;36m__init__\u001b[0;34m(self, series)\u001b[0m\n\u001b[1;32m     62\u001b[0m         \u001b[0;32mif\u001b[0m \u001b[0mhasattr\u001b[0m\u001b[0;34m(\u001b[0m\u001b[0mseries_meta\u001b[0m\u001b[0;34m,\u001b[0m \u001b[0;34m\"to_series\"\u001b[0m\u001b[0;34m)\u001b[0m\u001b[0;34m:\u001b[0m  \u001b[0;31m# is index-like\u001b[0m\u001b[0;34m\u001b[0m\u001b[0;34m\u001b[0m\u001b[0m\n\u001b[1;32m     63\u001b[0m             \u001b[0mseries_meta\u001b[0m \u001b[0;34m=\u001b[0m \u001b[0mseries_meta\u001b[0m\u001b[0;34m.\u001b[0m\u001b[0mto_series\u001b[0m\u001b[0;34m(\u001b[0m\u001b[0;34m)\u001b[0m\u001b[0;34m\u001b[0m\u001b[0;34m\u001b[0m\u001b[0m\n\u001b[0;32m---> 64\u001b[0;31m         \u001b[0mmeta\u001b[0m \u001b[0;34m=\u001b[0m \u001b[0mgetattr\u001b[0m\u001b[0;34m(\u001b[0m\u001b[0mseries_meta\u001b[0m\u001b[0;34m,\u001b[0m \u001b[0mself\u001b[0m\u001b[0;34m.\u001b[0m\u001b[0m_accessor_name\u001b[0m\u001b[0;34m)\u001b[0m\u001b[0;34m\u001b[0m\u001b[0;34m\u001b[0m\u001b[0m\n\u001b[0m\u001b[1;32m     65\u001b[0m \u001b[0;34m\u001b[0m\u001b[0m\n\u001b[1;32m     66\u001b[0m         \u001b[0mself\u001b[0m\u001b[0;34m.\u001b[0m\u001b[0m_meta\u001b[0m \u001b[0;34m=\u001b[0m \u001b[0mmeta\u001b[0m\u001b[0;34m\u001b[0m\u001b[0;34m\u001b[0m\u001b[0m\n",
            "\u001b[0;32m/usr/local/lib/python3.10/dist-packages/pandas/core/generic.py\u001b[0m in \u001b[0;36m__getattr__\u001b[0;34m(self, name)\u001b[0m\n\u001b[1;32m   5900\u001b[0m         ):\n\u001b[1;32m   5901\u001b[0m             \u001b[0;32mreturn\u001b[0m \u001b[0mself\u001b[0m\u001b[0;34m[\u001b[0m\u001b[0mname\u001b[0m\u001b[0;34m]\u001b[0m\u001b[0;34m\u001b[0m\u001b[0;34m\u001b[0m\u001b[0m\n\u001b[0;32m-> 5902\u001b[0;31m         \u001b[0;32mreturn\u001b[0m \u001b[0mobject\u001b[0m\u001b[0;34m.\u001b[0m\u001b[0m__getattribute__\u001b[0m\u001b[0;34m(\u001b[0m\u001b[0mself\u001b[0m\u001b[0;34m,\u001b[0m \u001b[0mname\u001b[0m\u001b[0;34m)\u001b[0m\u001b[0;34m\u001b[0m\u001b[0;34m\u001b[0m\u001b[0m\n\u001b[0m\u001b[1;32m   5903\u001b[0m \u001b[0;34m\u001b[0m\u001b[0m\n\u001b[1;32m   5904\u001b[0m     \u001b[0;32mdef\u001b[0m \u001b[0m__setattr__\u001b[0m\u001b[0;34m(\u001b[0m\u001b[0mself\u001b[0m\u001b[0;34m,\u001b[0m \u001b[0mname\u001b[0m\u001b[0;34m:\u001b[0m \u001b[0mstr\u001b[0m\u001b[0;34m,\u001b[0m \u001b[0mvalue\u001b[0m\u001b[0;34m)\u001b[0m \u001b[0;34m->\u001b[0m \u001b[0;32mNone\u001b[0m\u001b[0;34m:\u001b[0m\u001b[0;34m\u001b[0m\u001b[0;34m\u001b[0m\u001b[0m\n",
            "\u001b[0;32m/usr/local/lib/python3.10/dist-packages/pandas/core/accessor.py\u001b[0m in \u001b[0;36m__get__\u001b[0;34m(self, obj, cls)\u001b[0m\n\u001b[1;32m    180\u001b[0m             \u001b[0;31m# we're accessing the attribute of the class, i.e., Dataset.geo\u001b[0m\u001b[0;34m\u001b[0m\u001b[0;34m\u001b[0m\u001b[0m\n\u001b[1;32m    181\u001b[0m             \u001b[0;32mreturn\u001b[0m \u001b[0mself\u001b[0m\u001b[0;34m.\u001b[0m\u001b[0m_accessor\u001b[0m\u001b[0;34m\u001b[0m\u001b[0;34m\u001b[0m\u001b[0m\n\u001b[0;32m--> 182\u001b[0;31m         \u001b[0maccessor_obj\u001b[0m \u001b[0;34m=\u001b[0m \u001b[0mself\u001b[0m\u001b[0;34m.\u001b[0m\u001b[0m_accessor\u001b[0m\u001b[0;34m(\u001b[0m\u001b[0mobj\u001b[0m\u001b[0;34m)\u001b[0m\u001b[0;34m\u001b[0m\u001b[0;34m\u001b[0m\u001b[0m\n\u001b[0m\u001b[1;32m    183\u001b[0m         \u001b[0;31m# Replace the property with the accessor object. Inspired by:\u001b[0m\u001b[0;34m\u001b[0m\u001b[0;34m\u001b[0m\u001b[0m\n\u001b[1;32m    184\u001b[0m         \u001b[0;31m# https://www.pydanny.com/cached-property.html\u001b[0m\u001b[0;34m\u001b[0m\u001b[0;34m\u001b[0m\u001b[0m\n",
            "\u001b[0;32m/usr/local/lib/python3.10/dist-packages/pandas/core/indexes/accessors.py\u001b[0m in \u001b[0;36m__new__\u001b[0;34m(cls, data)\u001b[0m\n\u001b[1;32m    510\u001b[0m             \u001b[0;32mreturn\u001b[0m \u001b[0mPeriodProperties\u001b[0m\u001b[0;34m(\u001b[0m\u001b[0mdata\u001b[0m\u001b[0;34m,\u001b[0m \u001b[0morig\u001b[0m\u001b[0;34m)\u001b[0m\u001b[0;34m\u001b[0m\u001b[0;34m\u001b[0m\u001b[0m\n\u001b[1;32m    511\u001b[0m \u001b[0;34m\u001b[0m\u001b[0m\n\u001b[0;32m--> 512\u001b[0;31m         \u001b[0;32mraise\u001b[0m \u001b[0mAttributeError\u001b[0m\u001b[0;34m(\u001b[0m\u001b[0;34m\"Can only use .dt accessor with datetimelike values\"\u001b[0m\u001b[0;34m)\u001b[0m\u001b[0;34m\u001b[0m\u001b[0;34m\u001b[0m\u001b[0m\n\u001b[0m",
            "\u001b[0;31mAttributeError\u001b[0m: Can only use .dt accessor with datetimelike values"
          ]
        }
      ]
    },
    {
      "cell_type": "code",
      "source": [
        "train_fe.head(5)"
      ],
      "metadata": {
        "id": "aueFyB4kd8tC",
        "outputId": "1085f4fc-325b-41cd-8cb5-35a642000b55",
        "colab": {
          "base_uri": "https://localhost:8080/",
          "height": 404
        }
      },
      "execution_count": null,
      "outputs": [
        {
          "output_type": "execute_result",
          "data": {
            "text/plain": [
              "   Unnamed: 0  srch_id            date_time  site_id  \\\n",
              "0           0        1  2013-04-04 08:32:15       12   \n",
              "1           1      896  2013-05-09 22:14:57        5   \n",
              "2           2     1495  2013-04-24 02:24:02        5   \n",
              "3           3     2052  2013-01-11 08:10:27        5   \n",
              "4           4     2056  2013-03-07 23:19:22        5   \n",
              "\n",
              "   visitor_location_country_id  prop_country_id  prop_id  prop_starrating  \\\n",
              "0                          187              219      893                3   \n",
              "1                            2              219      893                3   \n",
              "2                          219              219      893                3   \n",
              "3                          219              219      893                3   \n",
              "4                          219              219      893                3   \n",
              "\n",
              "   prop_review_score  prop_brand_bool  ...  srch_destination_id_price_usd_max  \\\n",
              "0                3.5                1  ...                            2094.59   \n",
              "1                3.5                1  ...                            2094.59   \n",
              "2                3.5                1  ...                            2094.59   \n",
              "3                3.5                1  ...                            2094.59   \n",
              "4                3.5                1  ...                            2094.59   \n",
              "\n",
              "   srch_destination_id_srch_length_of_stay_std  \\\n",
              "0                                     1.205435   \n",
              "1                                     1.205435   \n",
              "2                                     1.205435   \n",
              "3                                     1.205435   \n",
              "4                                     1.205435   \n",
              "\n",
              "   srch_destination_id_srch_length_of_stay_min  \\\n",
              "0                                            1   \n",
              "1                                            1   \n",
              "2                                            1   \n",
              "3                                            1   \n",
              "4                                            1   \n",
              "\n",
              "   srch_destination_id_srch_length_of_stay_max  \\\n",
              "0                                           16   \n",
              "1                                           16   \n",
              "2                                           16   \n",
              "3                                           16   \n",
              "4                                           16   \n",
              "\n",
              "   srch_destination_id_srch_booking_window_std  \\\n",
              "0                                    41.431273   \n",
              "1                                    41.431273   \n",
              "2                                    41.431273   \n",
              "3                                    41.431273   \n",
              "4                                    41.431273   \n",
              "\n",
              "   srch_destination_id_srch_booking_window_min  \\\n",
              "0                                            0   \n",
              "1                                            0   \n",
              "2                                            0   \n",
              "3                                            0   \n",
              "4                                            0   \n",
              "\n",
              "   srch_destination_id_srch_booking_window_max  \\\n",
              "0                                          276   \n",
              "1                                          276   \n",
              "2                                          276   \n",
              "3                                          276   \n",
              "4                                          276   \n",
              "\n",
              "   srch_destination_id_orig_destination_distance_std  \\\n",
              "0                                        2152.666612   \n",
              "1                                        2152.666612   \n",
              "2                                        2152.666612   \n",
              "3                                        2152.666612   \n",
              "4                                        2152.666612   \n",
              "\n",
              "   srch_destination_id_orig_destination_distance_min  \\\n",
              "0                                               0.01   \n",
              "1                                               0.01   \n",
              "2                                               0.01   \n",
              "3                                               0.01   \n",
              "4                                               0.01   \n",
              "\n",
              "   srch_destination_id_orig_destination_distance_max  \n",
              "0                                            9359.52  \n",
              "1                                            9359.52  \n",
              "2                                            9359.52  \n",
              "3                                            9359.52  \n",
              "4                                            9359.52  \n",
              "\n",
              "[5 rows x 113 columns]"
            ],
            "text/html": [
              "\n",
              "  <div id=\"df-93eeb706-6d1e-4c69-8efc-3b1bb4e97c40\">\n",
              "    <div class=\"colab-df-container\">\n",
              "      <div>\n",
              "<style scoped>\n",
              "    .dataframe tbody tr th:only-of-type {\n",
              "        vertical-align: middle;\n",
              "    }\n",
              "\n",
              "    .dataframe tbody tr th {\n",
              "        vertical-align: top;\n",
              "    }\n",
              "\n",
              "    .dataframe thead th {\n",
              "        text-align: right;\n",
              "    }\n",
              "</style>\n",
              "<table border=\"1\" class=\"dataframe\">\n",
              "  <thead>\n",
              "    <tr style=\"text-align: right;\">\n",
              "      <th></th>\n",
              "      <th>Unnamed: 0</th>\n",
              "      <th>srch_id</th>\n",
              "      <th>date_time</th>\n",
              "      <th>site_id</th>\n",
              "      <th>visitor_location_country_id</th>\n",
              "      <th>prop_country_id</th>\n",
              "      <th>prop_id</th>\n",
              "      <th>prop_starrating</th>\n",
              "      <th>prop_review_score</th>\n",
              "      <th>prop_brand_bool</th>\n",
              "      <th>...</th>\n",
              "      <th>srch_destination_id_price_usd_max</th>\n",
              "      <th>srch_destination_id_srch_length_of_stay_std</th>\n",
              "      <th>srch_destination_id_srch_length_of_stay_min</th>\n",
              "      <th>srch_destination_id_srch_length_of_stay_max</th>\n",
              "      <th>srch_destination_id_srch_booking_window_std</th>\n",
              "      <th>srch_destination_id_srch_booking_window_min</th>\n",
              "      <th>srch_destination_id_srch_booking_window_max</th>\n",
              "      <th>srch_destination_id_orig_destination_distance_std</th>\n",
              "      <th>srch_destination_id_orig_destination_distance_min</th>\n",
              "      <th>srch_destination_id_orig_destination_distance_max</th>\n",
              "    </tr>\n",
              "  </thead>\n",
              "  <tbody>\n",
              "    <tr>\n",
              "      <th>0</th>\n",
              "      <td>0</td>\n",
              "      <td>1</td>\n",
              "      <td>2013-04-04 08:32:15</td>\n",
              "      <td>12</td>\n",
              "      <td>187</td>\n",
              "      <td>219</td>\n",
              "      <td>893</td>\n",
              "      <td>3</td>\n",
              "      <td>3.5</td>\n",
              "      <td>1</td>\n",
              "      <td>...</td>\n",
              "      <td>2094.59</td>\n",
              "      <td>1.205435</td>\n",
              "      <td>1</td>\n",
              "      <td>16</td>\n",
              "      <td>41.431273</td>\n",
              "      <td>0</td>\n",
              "      <td>276</td>\n",
              "      <td>2152.666612</td>\n",
              "      <td>0.01</td>\n",
              "      <td>9359.52</td>\n",
              "    </tr>\n",
              "    <tr>\n",
              "      <th>1</th>\n",
              "      <td>1</td>\n",
              "      <td>896</td>\n",
              "      <td>2013-05-09 22:14:57</td>\n",
              "      <td>5</td>\n",
              "      <td>2</td>\n",
              "      <td>219</td>\n",
              "      <td>893</td>\n",
              "      <td>3</td>\n",
              "      <td>3.5</td>\n",
              "      <td>1</td>\n",
              "      <td>...</td>\n",
              "      <td>2094.59</td>\n",
              "      <td>1.205435</td>\n",
              "      <td>1</td>\n",
              "      <td>16</td>\n",
              "      <td>41.431273</td>\n",
              "      <td>0</td>\n",
              "      <td>276</td>\n",
              "      <td>2152.666612</td>\n",
              "      <td>0.01</td>\n",
              "      <td>9359.52</td>\n",
              "    </tr>\n",
              "    <tr>\n",
              "      <th>2</th>\n",
              "      <td>2</td>\n",
              "      <td>1495</td>\n",
              "      <td>2013-04-24 02:24:02</td>\n",
              "      <td>5</td>\n",
              "      <td>219</td>\n",
              "      <td>219</td>\n",
              "      <td>893</td>\n",
              "      <td>3</td>\n",
              "      <td>3.5</td>\n",
              "      <td>1</td>\n",
              "      <td>...</td>\n",
              "      <td>2094.59</td>\n",
              "      <td>1.205435</td>\n",
              "      <td>1</td>\n",
              "      <td>16</td>\n",
              "      <td>41.431273</td>\n",
              "      <td>0</td>\n",
              "      <td>276</td>\n",
              "      <td>2152.666612</td>\n",
              "      <td>0.01</td>\n",
              "      <td>9359.52</td>\n",
              "    </tr>\n",
              "    <tr>\n",
              "      <th>3</th>\n",
              "      <td>3</td>\n",
              "      <td>2052</td>\n",
              "      <td>2013-01-11 08:10:27</td>\n",
              "      <td>5</td>\n",
              "      <td>219</td>\n",
              "      <td>219</td>\n",
              "      <td>893</td>\n",
              "      <td>3</td>\n",
              "      <td>3.5</td>\n",
              "      <td>1</td>\n",
              "      <td>...</td>\n",
              "      <td>2094.59</td>\n",
              "      <td>1.205435</td>\n",
              "      <td>1</td>\n",
              "      <td>16</td>\n",
              "      <td>41.431273</td>\n",
              "      <td>0</td>\n",
              "      <td>276</td>\n",
              "      <td>2152.666612</td>\n",
              "      <td>0.01</td>\n",
              "      <td>9359.52</td>\n",
              "    </tr>\n",
              "    <tr>\n",
              "      <th>4</th>\n",
              "      <td>4</td>\n",
              "      <td>2056</td>\n",
              "      <td>2013-03-07 23:19:22</td>\n",
              "      <td>5</td>\n",
              "      <td>219</td>\n",
              "      <td>219</td>\n",
              "      <td>893</td>\n",
              "      <td>3</td>\n",
              "      <td>3.5</td>\n",
              "      <td>1</td>\n",
              "      <td>...</td>\n",
              "      <td>2094.59</td>\n",
              "      <td>1.205435</td>\n",
              "      <td>1</td>\n",
              "      <td>16</td>\n",
              "      <td>41.431273</td>\n",
              "      <td>0</td>\n",
              "      <td>276</td>\n",
              "      <td>2152.666612</td>\n",
              "      <td>0.01</td>\n",
              "      <td>9359.52</td>\n",
              "    </tr>\n",
              "  </tbody>\n",
              "</table>\n",
              "<p>5 rows × 113 columns</p>\n",
              "</div>\n",
              "      <button class=\"colab-df-convert\" onclick=\"convertToInteractive('df-93eeb706-6d1e-4c69-8efc-3b1bb4e97c40')\"\n",
              "              title=\"Convert this dataframe to an interactive table.\"\n",
              "              style=\"display:none;\">\n",
              "        \n",
              "  <svg xmlns=\"http://www.w3.org/2000/svg\" height=\"24px\"viewBox=\"0 0 24 24\"\n",
              "       width=\"24px\">\n",
              "    <path d=\"M0 0h24v24H0V0z\" fill=\"none\"/>\n",
              "    <path d=\"M18.56 5.44l.94 2.06.94-2.06 2.06-.94-2.06-.94-.94-2.06-.94 2.06-2.06.94zm-11 1L8.5 8.5l.94-2.06 2.06-.94-2.06-.94L8.5 2.5l-.94 2.06-2.06.94zm10 10l.94 2.06.94-2.06 2.06-.94-2.06-.94-.94-2.06-.94 2.06-2.06.94z\"/><path d=\"M17.41 7.96l-1.37-1.37c-.4-.4-.92-.59-1.43-.59-.52 0-1.04.2-1.43.59L10.3 9.45l-7.72 7.72c-.78.78-.78 2.05 0 2.83L4 21.41c.39.39.9.59 1.41.59.51 0 1.02-.2 1.41-.59l7.78-7.78 2.81-2.81c.8-.78.8-2.07 0-2.86zM5.41 20L4 18.59l7.72-7.72 1.47 1.35L5.41 20z\"/>\n",
              "  </svg>\n",
              "      </button>\n",
              "      \n",
              "  <style>\n",
              "    .colab-df-container {\n",
              "      display:flex;\n",
              "      flex-wrap:wrap;\n",
              "      gap: 12px;\n",
              "    }\n",
              "\n",
              "    .colab-df-convert {\n",
              "      background-color: #E8F0FE;\n",
              "      border: none;\n",
              "      border-radius: 50%;\n",
              "      cursor: pointer;\n",
              "      display: none;\n",
              "      fill: #1967D2;\n",
              "      height: 32px;\n",
              "      padding: 0 0 0 0;\n",
              "      width: 32px;\n",
              "    }\n",
              "\n",
              "    .colab-df-convert:hover {\n",
              "      background-color: #E2EBFA;\n",
              "      box-shadow: 0px 1px 2px rgba(60, 64, 67, 0.3), 0px 1px 3px 1px rgba(60, 64, 67, 0.15);\n",
              "      fill: #174EA6;\n",
              "    }\n",
              "\n",
              "    [theme=dark] .colab-df-convert {\n",
              "      background-color: #3B4455;\n",
              "      fill: #D2E3FC;\n",
              "    }\n",
              "\n",
              "    [theme=dark] .colab-df-convert:hover {\n",
              "      background-color: #434B5C;\n",
              "      box-shadow: 0px 1px 3px 1px rgba(0, 0, 0, 0.15);\n",
              "      filter: drop-shadow(0px 1px 2px rgba(0, 0, 0, 0.3));\n",
              "      fill: #FFFFFF;\n",
              "    }\n",
              "  </style>\n",
              "\n",
              "      <script>\n",
              "        const buttonEl =\n",
              "          document.querySelector('#df-93eeb706-6d1e-4c69-8efc-3b1bb4e97c40 button.colab-df-convert');\n",
              "        buttonEl.style.display =\n",
              "          google.colab.kernel.accessAllowed ? 'block' : 'none';\n",
              "\n",
              "        async function convertToInteractive(key) {\n",
              "          const element = document.querySelector('#df-93eeb706-6d1e-4c69-8efc-3b1bb4e97c40');\n",
              "          const dataTable =\n",
              "            await google.colab.kernel.invokeFunction('convertToInteractive',\n",
              "                                                     [key], {});\n",
              "          if (!dataTable) return;\n",
              "\n",
              "          const docLinkHtml = 'Like what you see? Visit the ' +\n",
              "            '<a target=\"_blank\" href=https://colab.research.google.com/notebooks/data_table.ipynb>data table notebook</a>'\n",
              "            + ' to learn more about interactive tables.';\n",
              "          element.innerHTML = '';\n",
              "          dataTable['output_type'] = 'display_data';\n",
              "          await google.colab.output.renderOutput(dataTable, element);\n",
              "          const docLink = document.createElement('div');\n",
              "          docLink.innerHTML = docLinkHtml;\n",
              "          element.appendChild(docLink);\n",
              "        }\n",
              "      </script>\n",
              "    </div>\n",
              "  </div>\n",
              "  "
            ]
          },
          "metadata": {},
          "execution_count": 19
        }
      ]
    },
    {
      "cell_type": "code",
      "source": [
        "train_fe = train_fe.assign(GBM_target=(train_fe['booking_bool']*5 + ((1-train_fe['booking_bool'])*train_fe['click_bool'])))"
      ],
      "metadata": {
        "id": "u8C2xCCD5ZRQ"
      },
      "execution_count": null,
      "outputs": []
    },
    {
      "cell_type": "code",
      "source": [
        "# Take 10% of the training data\n",
        "data_lightgbm = train_fe.sample(frac=0.1, random_state=42)"
      ],
      "metadata": {
        "id": "ytDNBf5kDtT0"
      },
      "execution_count": null,
      "outputs": []
    },
    {
      "cell_type": "code",
      "source": [
        "# Assign the target variable\n",
        "cols_to_drop = [\"Unnamed: 0\", \"GBM_target\",\"date_time\", \"click_bool\", \"booking_bool\", \"random_bool\", \"position\", \"prop_review_score\", \"prop_location_score2\", \"orig_destination_distance\"]\n",
        "X = data_lightgbm.drop(cols_to_drop, axis=1).reset_index(drop=True).compute()\n",
        "y = data_lightgbm[\"GBM_target\"].values.compute()"
      ],
      "metadata": {
        "id": "zdxeY5XMd8xA"
      },
      "execution_count": null,
      "outputs": []
    },
    {
      "cell_type": "code",
      "source": [
        "print(X.columns)"
      ],
      "metadata": {
        "id": "J8iwPQX7GZ_d",
        "colab": {
          "base_uri": "https://localhost:8080/"
        },
        "outputId": "272c0c30-a25d-4988-8d67-08cd99f047bb"
      },
      "execution_count": null,
      "outputs": [
        {
          "output_type": "stream",
          "name": "stdout",
          "text": [
            "Index(['srch_id', 'site_id', 'visitor_location_country_id', 'prop_country_id',\n",
            "       'prop_id', 'prop_starrating', 'prop_brand_bool', 'prop_location_score1',\n",
            "       'prop_log_historical_price', 'price_usd',\n",
            "       ...\n",
            "       'srch_destination_id_price_usd_max',\n",
            "       'srch_destination_id_srch_length_of_stay_std',\n",
            "       'srch_destination_id_srch_length_of_stay_min',\n",
            "       'srch_destination_id_srch_length_of_stay_max',\n",
            "       'srch_destination_id_srch_booking_window_std',\n",
            "       'srch_destination_id_srch_booking_window_min',\n",
            "       'srch_destination_id_srch_booking_window_max',\n",
            "       'srch_destination_id_orig_destination_distance_std',\n",
            "       'srch_destination_id_orig_destination_distance_min',\n",
            "       'srch_destination_id_orig_destination_distance_max'],\n",
            "      dtype='object', length=104)\n"
          ]
        }
      ]
    },
    {
      "cell_type": "markdown",
      "source": [
        "#### 5. Data Normalisation"
      ],
      "metadata": {
        "id": "s9AP3c8WhB60"
      }
    },
    {
      "cell_type": "code",
      "source": [
        "# Z scores. standdard scaler from skilearn"
      ],
      "metadata": {
        "id": "op58clMGSS-1"
      },
      "execution_count": null,
      "outputs": []
    },
    {
      "cell_type": "code",
      "source": [
        "# Transform day_week and month into numbers"
      ],
      "metadata": {
        "id": "AugTYgeHI0CN"
      },
      "execution_count": null,
      "outputs": []
    },
    {
      "cell_type": "markdown",
      "source": [
        "### Data Modelling"
      ],
      "metadata": {
        "id": "7HVgIiDI_jTL"
      }
    },
    {
      "cell_type": "code",
      "source": [
        "from sklearn.model_selection import GroupShuffleSplit\n",
        "\n",
        "# Split the data into train and test sets\n",
        "idx_train, idx_test = next(GroupShuffleSplit(test_size=.40, n_splits=1, random_state = 7).split(X, groups=X['srch_id']))\n",
        "\n",
        "X_train = X.iloc[idx_train]\n",
        "X_test = X.iloc[idx_test]\n",
        "y_train = y[idx_train]\n",
        "y_test = y[idx_test]"
      ],
      "metadata": {
        "id": "7KxEwoRF-OpV"
      },
      "execution_count": null,
      "outputs": []
    },
    {
      "cell_type": "markdown",
      "source": [
        "### CatBoost"
      ],
      "metadata": {
        "id": "2nBmRfJY2ErR"
      }
    },
    {
      "cell_type": "code",
      "source": [
        "pip install catboost"
      ],
      "metadata": {
        "colab": {
          "base_uri": "https://localhost:8080/"
        },
        "id": "NVC8tWpT2aBl",
        "outputId": "5f79bc9e-a9da-4890-f943-3b9c67c98236"
      },
      "execution_count": null,
      "outputs": [
        {
          "output_type": "stream",
          "name": "stdout",
          "text": [
            "Looking in indexes: https://pypi.org/simple, https://us-python.pkg.dev/colab-wheels/public/simple/\n",
            "Collecting catboost\n",
            "  Downloading catboost-1.2-cp310-cp310-manylinux2014_x86_64.whl (98.6 MB)\n",
            "\u001b[2K     \u001b[90m━━━━━━━━━━━━━━━━━━━━━━━━━━━━━━━━━━━━━━━━\u001b[0m \u001b[32m98.6/98.6 MB\u001b[0m \u001b[31m11.6 MB/s\u001b[0m eta \u001b[36m0:00:00\u001b[0m\n",
            "\u001b[?25hRequirement already satisfied: graphviz in /usr/local/lib/python3.10/dist-packages (from catboost) (0.20.1)\n",
            "Requirement already satisfied: matplotlib in /usr/local/lib/python3.10/dist-packages (from catboost) (3.7.1)\n",
            "Requirement already satisfied: numpy>=1.16.0 in /usr/local/lib/python3.10/dist-packages (from catboost) (1.22.4)\n",
            "Requirement already satisfied: pandas>=0.24 in /usr/local/lib/python3.10/dist-packages (from catboost) (1.5.3)\n",
            "Requirement already satisfied: scipy in /usr/local/lib/python3.10/dist-packages (from catboost) (1.10.1)\n",
            "Requirement already satisfied: plotly in /usr/local/lib/python3.10/dist-packages (from catboost) (5.13.1)\n",
            "Requirement already satisfied: six in /usr/local/lib/python3.10/dist-packages (from catboost) (1.16.0)\n",
            "Requirement already satisfied: python-dateutil>=2.8.1 in /usr/local/lib/python3.10/dist-packages (from pandas>=0.24->catboost) (2.8.2)\n",
            "Requirement already satisfied: pytz>=2020.1 in /usr/local/lib/python3.10/dist-packages (from pandas>=0.24->catboost) (2022.7.1)\n",
            "Requirement already satisfied: contourpy>=1.0.1 in /usr/local/lib/python3.10/dist-packages (from matplotlib->catboost) (1.0.7)\n",
            "Requirement already satisfied: cycler>=0.10 in /usr/local/lib/python3.10/dist-packages (from matplotlib->catboost) (0.11.0)\n",
            "Requirement already satisfied: fonttools>=4.22.0 in /usr/local/lib/python3.10/dist-packages (from matplotlib->catboost) (4.39.3)\n",
            "Requirement already satisfied: kiwisolver>=1.0.1 in /usr/local/lib/python3.10/dist-packages (from matplotlib->catboost) (1.4.4)\n",
            "Requirement already satisfied: packaging>=20.0 in /usr/local/lib/python3.10/dist-packages (from matplotlib->catboost) (23.1)\n",
            "Requirement already satisfied: pillow>=6.2.0 in /usr/local/lib/python3.10/dist-packages (from matplotlib->catboost) (8.4.0)\n",
            "Requirement already satisfied: pyparsing>=2.3.1 in /usr/local/lib/python3.10/dist-packages (from matplotlib->catboost) (3.0.9)\n",
            "Requirement already satisfied: tenacity>=6.2.0 in /usr/local/lib/python3.10/dist-packages (from plotly->catboost) (8.2.2)\n",
            "Installing collected packages: catboost\n",
            "Successfully installed catboost-1.2\n"
          ]
        }
      ]
    },
    {
      "cell_type": "code",
      "source": [
        "from catboost import CatBoostRanker\n",
        "from sklearn.model_selection import GridSearchCV"
      ],
      "metadata": {
        "id": "Ts53eVlAhuXP"
      },
      "execution_count": null,
      "outputs": []
    },
    {
      "cell_type": "code",
      "source": [
        "# Define the CatBoost ranking model\n",
        "model_cat = CatBoostRanker(\n",
        "    iterations=100,\n",
        "    learning_rate=0.1,\n",
        "    depth=6,\n",
        "    l2_leaf_reg=3,\n",
        "    loss_function='YetiRank',\n",
        "    random_seed=42,\n",
        "    custom_metric=['NDCG']\n",
        ")"
      ],
      "metadata": {
        "id": "opKqGCRe2S8k"
      },
      "execution_count": null,
      "outputs": []
    },
    {
      "cell_type": "code",
      "source": [
        "model_cat.fit(\n",
        "    X_train,\n",
        "    y_train,\n",
        "    group_id=np.array(X_train.groupby(\"srch_id\").size()),\n",
        "    eval_set=(X_test, y_test),\n",
        "    use_best_model=True,\n",
        "    verbose=10\n",
        ")"
      ],
      "metadata": {
        "colab": {
          "base_uri": "https://localhost:8080/",
          "height": 381
        },
        "id": "O-fhuKOH2uoR",
        "outputId": "0d605520-cee3-4c81-9298-1649cebff229"
      },
      "execution_count": null,
      "outputs": [
        {
          "output_type": "error",
          "ename": "CatBoostError",
          "evalue": "ignored",
          "traceback": [
            "\u001b[0;31m---------------------------------------------------------------------------\u001b[0m",
            "\u001b[0;31mCatBoostError\u001b[0m                             Traceback (most recent call last)",
            "\u001b[0;32m<ipython-input-56-f5d43c63ef91>\u001b[0m in \u001b[0;36m<cell line: 1>\u001b[0;34m()\u001b[0m\n\u001b[0;32m----> 1\u001b[0;31m model_cat.fit(\n\u001b[0m\u001b[1;32m      2\u001b[0m     \u001b[0mX_train\u001b[0m\u001b[0;34m,\u001b[0m\u001b[0;34m\u001b[0m\u001b[0;34m\u001b[0m\u001b[0m\n\u001b[1;32m      3\u001b[0m     \u001b[0my_train\u001b[0m\u001b[0;34m,\u001b[0m\u001b[0;34m\u001b[0m\u001b[0;34m\u001b[0m\u001b[0m\n\u001b[1;32m      4\u001b[0m     \u001b[0mgroup_id\u001b[0m\u001b[0;34m=\u001b[0m\u001b[0mnp\u001b[0m\u001b[0;34m.\u001b[0m\u001b[0marray\u001b[0m\u001b[0;34m(\u001b[0m\u001b[0;34m[\u001b[0m\u001b[0mlen\u001b[0m\u001b[0;34m(\u001b[0m\u001b[0mX_train\u001b[0m\u001b[0;34m)\u001b[0m\u001b[0;34m]\u001b[0m\u001b[0;34m)\u001b[0m\u001b[0;34m,\u001b[0m\u001b[0;34m\u001b[0m\u001b[0;34m\u001b[0m\u001b[0m\n\u001b[1;32m      5\u001b[0m     \u001b[0meval_set\u001b[0m\u001b[0;34m=\u001b[0m\u001b[0;34m(\u001b[0m\u001b[0mX_test\u001b[0m\u001b[0;34m,\u001b[0m \u001b[0my_test\u001b[0m\u001b[0;34m)\u001b[0m\u001b[0;34m,\u001b[0m\u001b[0;34m\u001b[0m\u001b[0;34m\u001b[0m\u001b[0m\n",
            "\u001b[0;32m/usr/local/lib/python3.10/dist-packages/catboost/core.py\u001b[0m in \u001b[0;36mfit\u001b[0;34m(self, X, y, group_id, cat_features, text_features, embedding_features, pairs, sample_weight, group_weight, subgroup_id, pairs_weight, baseline, use_best_model, eval_set, verbose, logging_level, plot, plot_file, column_description, verbose_eval, metric_period, silent, early_stopping_rounds, save_snapshot, snapshot_file, snapshot_interval, init_model, callbacks, log_cout, log_cerr)\u001b[0m\n\u001b[1;32m   6123\u001b[0m             \u001b[0mCatBoostRanker\u001b[0m\u001b[0;34m.\u001b[0m\u001b[0m_check_is_compatible_loss\u001b[0m\u001b[0;34m(\u001b[0m\u001b[0mparams\u001b[0m\u001b[0;34m[\u001b[0m\u001b[0;34m'loss_function'\u001b[0m\u001b[0;34m]\u001b[0m\u001b[0;34m)\u001b[0m\u001b[0;34m\u001b[0m\u001b[0;34m\u001b[0m\u001b[0m\n\u001b[1;32m   6124\u001b[0m \u001b[0;34m\u001b[0m\u001b[0m\n\u001b[0;32m-> 6125\u001b[0;31m         self._fit(X, y, cat_features, text_features, embedding_features, pairs,\n\u001b[0m\u001b[1;32m   6126\u001b[0m                   \u001b[0msample_weight\u001b[0m\u001b[0;34m,\u001b[0m \u001b[0mgroup_id\u001b[0m\u001b[0;34m,\u001b[0m \u001b[0mgroup_weight\u001b[0m\u001b[0;34m,\u001b[0m \u001b[0msubgroup_id\u001b[0m\u001b[0;34m,\u001b[0m \u001b[0mpairs_weight\u001b[0m\u001b[0;34m,\u001b[0m \u001b[0mbaseline\u001b[0m\u001b[0;34m,\u001b[0m \u001b[0muse_best_model\u001b[0m\u001b[0;34m,\u001b[0m\u001b[0;34m\u001b[0m\u001b[0;34m\u001b[0m\u001b[0m\n\u001b[1;32m   6127\u001b[0m                   \u001b[0meval_set\u001b[0m\u001b[0;34m,\u001b[0m \u001b[0mverbose\u001b[0m\u001b[0;34m,\u001b[0m \u001b[0mlogging_level\u001b[0m\u001b[0;34m,\u001b[0m \u001b[0mplot\u001b[0m\u001b[0;34m,\u001b[0m \u001b[0mplot_file\u001b[0m\u001b[0;34m,\u001b[0m \u001b[0mcolumn_description\u001b[0m\u001b[0;34m,\u001b[0m \u001b[0mverbose_eval\u001b[0m\u001b[0;34m,\u001b[0m \u001b[0mmetric_period\u001b[0m\u001b[0;34m,\u001b[0m\u001b[0;34m\u001b[0m\u001b[0;34m\u001b[0m\u001b[0m\n",
            "\u001b[0;32m/usr/local/lib/python3.10/dist-packages/catboost/core.py\u001b[0m in \u001b[0;36m_fit\u001b[0;34m(self, X, y, cat_features, text_features, embedding_features, pairs, sample_weight, group_id, group_weight, subgroup_id, pairs_weight, baseline, use_best_model, eval_set, verbose, logging_level, plot, plot_file, column_description, verbose_eval, metric_period, silent, early_stopping_rounds, save_snapshot, snapshot_file, snapshot_interval, init_model, callbacks, log_cout, log_cerr)\u001b[0m\n\u001b[1;32m   2339\u001b[0m             \u001b[0;32mraise\u001b[0m \u001b[0mCatBoostError\u001b[0m\u001b[0;34m(\u001b[0m\u001b[0;34m\"y may be None only when X is an instance of catboost.Pool or string\"\u001b[0m\u001b[0;34m)\u001b[0m\u001b[0;34m\u001b[0m\u001b[0;34m\u001b[0m\u001b[0m\n\u001b[1;32m   2340\u001b[0m \u001b[0;34m\u001b[0m\u001b[0m\n\u001b[0;32m-> 2341\u001b[0;31m         train_params = self._prepare_train_params(\n\u001b[0m\u001b[1;32m   2342\u001b[0m             \u001b[0mX\u001b[0m\u001b[0;34m=\u001b[0m\u001b[0mX\u001b[0m\u001b[0;34m,\u001b[0m \u001b[0my\u001b[0m\u001b[0;34m=\u001b[0m\u001b[0my\u001b[0m\u001b[0;34m,\u001b[0m \u001b[0mcat_features\u001b[0m\u001b[0;34m=\u001b[0m\u001b[0mcat_features\u001b[0m\u001b[0;34m,\u001b[0m \u001b[0mtext_features\u001b[0m\u001b[0;34m=\u001b[0m\u001b[0mtext_features\u001b[0m\u001b[0;34m,\u001b[0m \u001b[0membedding_features\u001b[0m\u001b[0;34m=\u001b[0m\u001b[0membedding_features\u001b[0m\u001b[0;34m,\u001b[0m\u001b[0;34m\u001b[0m\u001b[0;34m\u001b[0m\u001b[0m\n\u001b[1;32m   2343\u001b[0m             \u001b[0mpairs\u001b[0m\u001b[0;34m=\u001b[0m\u001b[0mpairs\u001b[0m\u001b[0;34m,\u001b[0m \u001b[0msample_weight\u001b[0m\u001b[0;34m=\u001b[0m\u001b[0msample_weight\u001b[0m\u001b[0;34m,\u001b[0m \u001b[0mgroup_id\u001b[0m\u001b[0;34m=\u001b[0m\u001b[0mgroup_id\u001b[0m\u001b[0;34m,\u001b[0m \u001b[0mgroup_weight\u001b[0m\u001b[0;34m=\u001b[0m\u001b[0mgroup_weight\u001b[0m\u001b[0;34m,\u001b[0m\u001b[0;34m\u001b[0m\u001b[0;34m\u001b[0m\u001b[0m\n",
            "\u001b[0;32m/usr/local/lib/python3.10/dist-packages/catboost/core.py\u001b[0m in \u001b[0;36m_prepare_train_params\u001b[0;34m(self, X, y, cat_features, text_features, embedding_features, pairs, sample_weight, group_id, group_weight, subgroup_id, pairs_weight, baseline, use_best_model, eval_set, verbose, logging_level, plot, plot_file, column_description, verbose_eval, metric_period, silent, early_stopping_rounds, save_snapshot, snapshot_file, snapshot_interval, init_model, callbacks)\u001b[0m\n\u001b[1;32m   2220\u001b[0m         \u001b[0membedding_features\u001b[0m \u001b[0;34m=\u001b[0m \u001b[0m_process_feature_indices\u001b[0m\u001b[0;34m(\u001b[0m\u001b[0membedding_features\u001b[0m\u001b[0;34m,\u001b[0m \u001b[0mX\u001b[0m\u001b[0;34m,\u001b[0m \u001b[0mparams\u001b[0m\u001b[0;34m,\u001b[0m \u001b[0;34m'embedding_features'\u001b[0m\u001b[0;34m)\u001b[0m\u001b[0;34m\u001b[0m\u001b[0;34m\u001b[0m\u001b[0m\n\u001b[1;32m   2221\u001b[0m \u001b[0;34m\u001b[0m\u001b[0m\n\u001b[0;32m-> 2222\u001b[0;31m         train_pool = _build_train_pool(X, y, cat_features, text_features, embedding_features, pairs,\n\u001b[0m\u001b[1;32m   2223\u001b[0m                                        \u001b[0msample_weight\u001b[0m\u001b[0;34m,\u001b[0m \u001b[0mgroup_id\u001b[0m\u001b[0;34m,\u001b[0m \u001b[0mgroup_weight\u001b[0m\u001b[0;34m,\u001b[0m \u001b[0msubgroup_id\u001b[0m\u001b[0;34m,\u001b[0m \u001b[0mpairs_weight\u001b[0m\u001b[0;34m,\u001b[0m\u001b[0;34m\u001b[0m\u001b[0;34m\u001b[0m\u001b[0m\n\u001b[1;32m   2224\u001b[0m                                        baseline, column_description)\n",
            "\u001b[0;32m/usr/local/lib/python3.10/dist-packages/catboost/core.py\u001b[0m in \u001b[0;36m_build_train_pool\u001b[0;34m(X, y, cat_features, text_features, embedding_features, pairs, sample_weight, group_id, group_weight, subgroup_id, pairs_weight, baseline, column_description)\u001b[0m\n\u001b[1;32m   1436\u001b[0m         \u001b[0;32mif\u001b[0m \u001b[0my\u001b[0m \u001b[0;32mis\u001b[0m \u001b[0;32mNone\u001b[0m\u001b[0;34m:\u001b[0m\u001b[0;34m\u001b[0m\u001b[0;34m\u001b[0m\u001b[0m\n\u001b[1;32m   1437\u001b[0m             \u001b[0;32mraise\u001b[0m \u001b[0mCatBoostError\u001b[0m\u001b[0;34m(\u001b[0m\u001b[0;34m\"y has not initialized in fit(): X is not catboost.Pool object, y must be not None in fit().\"\u001b[0m\u001b[0;34m)\u001b[0m\u001b[0;34m\u001b[0m\u001b[0;34m\u001b[0m\u001b[0m\n\u001b[0;32m-> 1438\u001b[0;31m         train_pool = Pool(X, y, cat_features=cat_features, text_features=text_features, embedding_features=embedding_features, pairs=pairs, weight=sample_weight, group_id=group_id,\n\u001b[0m\u001b[1;32m   1439\u001b[0m                           group_weight=group_weight, subgroup_id=subgroup_id, pairs_weight=pairs_weight, baseline=baseline)\n\u001b[1;32m   1440\u001b[0m     \u001b[0;32mreturn\u001b[0m \u001b[0mtrain_pool\u001b[0m\u001b[0;34m\u001b[0m\u001b[0;34m\u001b[0m\u001b[0m\n",
            "\u001b[0;32m/usr/local/lib/python3.10/dist-packages/catboost/core.py\u001b[0m in \u001b[0;36m__init__\u001b[0;34m(self, data, label, cat_features, text_features, embedding_features, embedding_features_data, column_description, pairs, delimiter, has_header, ignore_csv_quoting, weight, group_id, group_weight, subgroup_id, pairs_weight, baseline, timestamp, feature_names, feature_tags, thread_count, log_cout, log_cerr)\u001b[0m\n\u001b[1;32m    790\u001b[0m                     )\n\u001b[1;32m    791\u001b[0m \u001b[0;34m\u001b[0m\u001b[0m\n\u001b[0;32m--> 792\u001b[0;31m                 self._init(data, label, cat_features, text_features, embedding_features, embedding_features_data, pairs, weight,\n\u001b[0m\u001b[1;32m    793\u001b[0m                            group_id, group_weight, subgroup_id, pairs_weight, baseline, timestamp, feature_names, feature_tags, thread_count)\n\u001b[1;32m    794\u001b[0m         \u001b[0msuper\u001b[0m\u001b[0;34m(\u001b[0m\u001b[0mPool\u001b[0m\u001b[0;34m,\u001b[0m \u001b[0mself\u001b[0m\u001b[0;34m)\u001b[0m\u001b[0;34m.\u001b[0m\u001b[0m__init__\u001b[0m\u001b[0;34m(\u001b[0m\u001b[0;34m)\u001b[0m\u001b[0;34m\u001b[0m\u001b[0;34m\u001b[0m\u001b[0m\n",
            "\u001b[0;32m/usr/local/lib/python3.10/dist-packages/catboost/core.py\u001b[0m in \u001b[0;36m_init\u001b[0;34m(self, data, label, cat_features, text_features, embedding_features, embedding_features_data, pairs, weight, group_id, group_weight, subgroup_id, pairs_weight, baseline, timestamp, feature_names, feature_tags, thread_count)\u001b[0m\n\u001b[1;32m   1393\u001b[0m             \u001b[0mself\u001b[0m\u001b[0;34m.\u001b[0m\u001b[0m_check_group_id_type\u001b[0m\u001b[0;34m(\u001b[0m\u001b[0mgroup_id\u001b[0m\u001b[0;34m)\u001b[0m\u001b[0;34m\u001b[0m\u001b[0;34m\u001b[0m\u001b[0m\n\u001b[1;32m   1394\u001b[0m             \u001b[0mgroup_id\u001b[0m \u001b[0;34m=\u001b[0m \u001b[0mself\u001b[0m\u001b[0;34m.\u001b[0m\u001b[0m_if_pandas_to_numpy\u001b[0m\u001b[0;34m(\u001b[0m\u001b[0mgroup_id\u001b[0m\u001b[0;34m)\u001b[0m\u001b[0;34m\u001b[0m\u001b[0;34m\u001b[0m\u001b[0m\n\u001b[0;32m-> 1395\u001b[0;31m             \u001b[0mself\u001b[0m\u001b[0;34m.\u001b[0m\u001b[0m_check_group_id_shape\u001b[0m\u001b[0;34m(\u001b[0m\u001b[0mgroup_id\u001b[0m\u001b[0;34m,\u001b[0m \u001b[0msamples_count\u001b[0m\u001b[0;34m)\u001b[0m\u001b[0;34m\u001b[0m\u001b[0;34m\u001b[0m\u001b[0m\n\u001b[0m\u001b[1;32m   1396\u001b[0m         \u001b[0;32mif\u001b[0m \u001b[0mgroup_weight\u001b[0m \u001b[0;32mis\u001b[0m \u001b[0;32mnot\u001b[0m \u001b[0;32mNone\u001b[0m\u001b[0;34m:\u001b[0m\u001b[0;34m\u001b[0m\u001b[0;34m\u001b[0m\u001b[0m\n\u001b[1;32m   1397\u001b[0m             \u001b[0mself\u001b[0m\u001b[0;34m.\u001b[0m\u001b[0m_check_group_weight_type\u001b[0m\u001b[0;34m(\u001b[0m\u001b[0mgroup_weight\u001b[0m\u001b[0;34m)\u001b[0m\u001b[0;34m\u001b[0m\u001b[0;34m\u001b[0m\u001b[0m\n",
            "\u001b[0;32m/usr/local/lib/python3.10/dist-packages/catboost/core.py\u001b[0m in \u001b[0;36m_check_group_id_shape\u001b[0;34m(self, group_id, samples_count)\u001b[0m\n\u001b[1;32m    957\u001b[0m         \"\"\"\n\u001b[1;32m    958\u001b[0m         \u001b[0;32mif\u001b[0m \u001b[0mlen\u001b[0m\u001b[0;34m(\u001b[0m\u001b[0mgroup_id\u001b[0m\u001b[0;34m)\u001b[0m \u001b[0;34m!=\u001b[0m \u001b[0msamples_count\u001b[0m\u001b[0;34m:\u001b[0m\u001b[0;34m\u001b[0m\u001b[0;34m\u001b[0m\u001b[0m\n\u001b[0;32m--> 959\u001b[0;31m             \u001b[0;32mraise\u001b[0m \u001b[0mCatBoostError\u001b[0m\u001b[0;34m(\u001b[0m\u001b[0;34m\"Length of group_id={} and length of data={} are different.\"\u001b[0m\u001b[0;34m.\u001b[0m\u001b[0mformat\u001b[0m\u001b[0;34m(\u001b[0m\u001b[0mlen\u001b[0m\u001b[0;34m(\u001b[0m\u001b[0mgroup_id\u001b[0m\u001b[0;34m)\u001b[0m\u001b[0;34m,\u001b[0m \u001b[0msamples_count\u001b[0m\u001b[0;34m)\u001b[0m\u001b[0;34m)\u001b[0m\u001b[0;34m\u001b[0m\u001b[0;34m\u001b[0m\u001b[0m\n\u001b[0m\u001b[1;32m    960\u001b[0m \u001b[0;34m\u001b[0m\u001b[0m\n\u001b[1;32m    961\u001b[0m     \u001b[0;32mdef\u001b[0m \u001b[0m_check_group_weight_type\u001b[0m\u001b[0;34m(\u001b[0m\u001b[0mself\u001b[0m\u001b[0;34m,\u001b[0m \u001b[0mgroup_weight\u001b[0m\u001b[0;34m)\u001b[0m\u001b[0;34m:\u001b[0m\u001b[0;34m\u001b[0m\u001b[0;34m\u001b[0m\u001b[0m\n",
            "\u001b[0;31mCatBoostError\u001b[0m: Length of group_id=1 and length of data=297506 are different."
          ]
        }
      ]
    },
    {
      "cell_type": "code",
      "source": [
        "y_pred = best_model.predict(X_test)"
      ],
      "metadata": {
        "id": "HSlQuWxz33Eq"
      },
      "execution_count": null,
      "outputs": []
    },
    {
      "cell_type": "code",
      "source": [
        "joblib.dump(model_cat, 'drive/MyDrive/Raw/model_cat.pkl')"
      ],
      "metadata": {
        "id": "9-25uygh34zV"
      },
      "execution_count": null,
      "outputs": []
    },
    {
      "cell_type": "code",
      "source": [],
      "metadata": {
        "id": "tu-387jA22Lm"
      },
      "execution_count": null,
      "outputs": []
    },
    {
      "cell_type": "markdown",
      "source": [
        "### XGBoost"
      ],
      "metadata": {
        "id": "9sf-f2yfhNYt"
      }
    },
    {
      "cell_type": "code",
      "source": [
        "import xgboost as xgb"
      ],
      "metadata": {
        "id": "wk5Vbe7bhRKL"
      },
      "execution_count": null,
      "outputs": []
    },
    {
      "cell_type": "code",
      "source": [
        "param_grid = {\n",
        "    'learning_rate': [0.1, 0.05, 0.01],\n",
        "    'max_depth': [4, 6, 8],\n",
        "    'n_estimators': [100, 200, 300],\n",
        "    'subsample': [0.5, 0.75, 1.0],\n",
        "    'colsample_bytree': [0.7, 0.9, 1.0]\n",
        "}"
      ],
      "metadata": {
        "id": "KZuhzJJWks4s"
      },
      "execution_count": null,
      "outputs": []
    },
    {
      "cell_type": "code",
      "source": [
        "xgb_model = xgb.XGBRanker(\n",
        "    tree_method='gpu_hist',\n",
        "    booster='gbtree',\n",
        "    objective='rank:ndcg',\n",
        "    random_state=42,\n",
        "    learning_rate=0.1,\n",
        "    colsample_bytree=0.9, \n",
        "    eta=0.05, \n",
        "    max_depth=6, \n",
        "    n_estimators=110, \n",
        "    subsample=0.75 \n",
        ")"
      ],
      "metadata": {
        "id": "Ixgp6DVPkuTS"
      },
      "execution_count": null,
      "outputs": []
    },
    {
      "cell_type": "code",
      "source": [
        "xgb_model.fit(X_train, y_train, group=X_train.groupby(\"srch_id\").size(), verbose=True, eval_metric = \"ndcg\")"
      ],
      "metadata": {
        "colab": {
          "base_uri": "https://localhost:8080/",
          "height": 286
        },
        "id": "FUKf9OfIjmFg",
        "outputId": "8ba9195d-0d9f-4154-cc8f-0a3be1d8629b"
      },
      "execution_count": null,
      "outputs": [
        {
          "output_type": "stream",
          "name": "stderr",
          "text": [
            "/usr/local/lib/python3.10/dist-packages/xgboost/sklearn.py:835: UserWarning: `eval_metric` in `fit` method is deprecated for better compatibility with scikit-learn, use `eval_metric` in constructor or`set_params` instead.\n",
            "  warnings.warn(\n"
          ]
        },
        {
          "output_type": "execute_result",
          "data": {
            "text/plain": [
              "XGBRanker(base_score=None, booster='gbtree', callbacks=None,\n",
              "          colsample_bylevel=None, colsample_bynode=None, colsample_bytree=0.9,\n",
              "          early_stopping_rounds=None, enable_categorical=False, eta=0.05,\n",
              "          eval_metric=None, feature_types=None, gamma=None, gpu_id=None,\n",
              "          grow_policy=None, importance_type=None, interaction_constraints=None,\n",
              "          learning_rate=0.1, max_bin=None, max_cat_threshold=None,\n",
              "          max_cat_to_onehot=None, max_delta_step=None, max_depth=6,\n",
              "          max_leaves=None, min_child_weight=None, missing=nan,\n",
              "          monotone_constraints=None, n_estimators=110, n_jobs=None,\n",
              "          num_parallel_tree=None, objective='rank:ndcg', ...)"
            ],
            "text/html": [
              "<style>#sk-container-id-1 {color: black;background-color: white;}#sk-container-id-1 pre{padding: 0;}#sk-container-id-1 div.sk-toggleable {background-color: white;}#sk-container-id-1 label.sk-toggleable__label {cursor: pointer;display: block;width: 100%;margin-bottom: 0;padding: 0.3em;box-sizing: border-box;text-align: center;}#sk-container-id-1 label.sk-toggleable__label-arrow:before {content: \"▸\";float: left;margin-right: 0.25em;color: #696969;}#sk-container-id-1 label.sk-toggleable__label-arrow:hover:before {color: black;}#sk-container-id-1 div.sk-estimator:hover label.sk-toggleable__label-arrow:before {color: black;}#sk-container-id-1 div.sk-toggleable__content {max-height: 0;max-width: 0;overflow: hidden;text-align: left;background-color: #f0f8ff;}#sk-container-id-1 div.sk-toggleable__content pre {margin: 0.2em;color: black;border-radius: 0.25em;background-color: #f0f8ff;}#sk-container-id-1 input.sk-toggleable__control:checked~div.sk-toggleable__content {max-height: 200px;max-width: 100%;overflow: auto;}#sk-container-id-1 input.sk-toggleable__control:checked~label.sk-toggleable__label-arrow:before {content: \"▾\";}#sk-container-id-1 div.sk-estimator input.sk-toggleable__control:checked~label.sk-toggleable__label {background-color: #d4ebff;}#sk-container-id-1 div.sk-label input.sk-toggleable__control:checked~label.sk-toggleable__label {background-color: #d4ebff;}#sk-container-id-1 input.sk-hidden--visually {border: 0;clip: rect(1px 1px 1px 1px);clip: rect(1px, 1px, 1px, 1px);height: 1px;margin: -1px;overflow: hidden;padding: 0;position: absolute;width: 1px;}#sk-container-id-1 div.sk-estimator {font-family: monospace;background-color: #f0f8ff;border: 1px dotted black;border-radius: 0.25em;box-sizing: border-box;margin-bottom: 0.5em;}#sk-container-id-1 div.sk-estimator:hover {background-color: #d4ebff;}#sk-container-id-1 div.sk-parallel-item::after {content: \"\";width: 100%;border-bottom: 1px solid gray;flex-grow: 1;}#sk-container-id-1 div.sk-label:hover label.sk-toggleable__label {background-color: #d4ebff;}#sk-container-id-1 div.sk-serial::before {content: \"\";position: absolute;border-left: 1px solid gray;box-sizing: border-box;top: 0;bottom: 0;left: 50%;z-index: 0;}#sk-container-id-1 div.sk-serial {display: flex;flex-direction: column;align-items: center;background-color: white;padding-right: 0.2em;padding-left: 0.2em;position: relative;}#sk-container-id-1 div.sk-item {position: relative;z-index: 1;}#sk-container-id-1 div.sk-parallel {display: flex;align-items: stretch;justify-content: center;background-color: white;position: relative;}#sk-container-id-1 div.sk-item::before, #sk-container-id-1 div.sk-parallel-item::before {content: \"\";position: absolute;border-left: 1px solid gray;box-sizing: border-box;top: 0;bottom: 0;left: 50%;z-index: -1;}#sk-container-id-1 div.sk-parallel-item {display: flex;flex-direction: column;z-index: 1;position: relative;background-color: white;}#sk-container-id-1 div.sk-parallel-item:first-child::after {align-self: flex-end;width: 50%;}#sk-container-id-1 div.sk-parallel-item:last-child::after {align-self: flex-start;width: 50%;}#sk-container-id-1 div.sk-parallel-item:only-child::after {width: 0;}#sk-container-id-1 div.sk-dashed-wrapped {border: 1px dashed gray;margin: 0 0.4em 0.5em 0.4em;box-sizing: border-box;padding-bottom: 0.4em;background-color: white;}#sk-container-id-1 div.sk-label label {font-family: monospace;font-weight: bold;display: inline-block;line-height: 1.2em;}#sk-container-id-1 div.sk-label-container {text-align: center;}#sk-container-id-1 div.sk-container {/* jupyter's `normalize.less` sets `[hidden] { display: none; }` but bootstrap.min.css set `[hidden] { display: none !important; }` so we also need the `!important` here to be able to override the default hidden behavior on the sphinx rendered scikit-learn.org. See: https://github.com/scikit-learn/scikit-learn/issues/21755 */display: inline-block !important;position: relative;}#sk-container-id-1 div.sk-text-repr-fallback {display: none;}</style><div id=\"sk-container-id-1\" class=\"sk-top-container\"><div class=\"sk-text-repr-fallback\"><pre>XGBRanker(base_score=None, booster=&#x27;gbtree&#x27;, callbacks=None,\n",
              "          colsample_bylevel=None, colsample_bynode=None, colsample_bytree=0.9,\n",
              "          early_stopping_rounds=None, enable_categorical=False, eta=0.05,\n",
              "          eval_metric=None, feature_types=None, gamma=None, gpu_id=None,\n",
              "          grow_policy=None, importance_type=None, interaction_constraints=None,\n",
              "          learning_rate=0.1, max_bin=None, max_cat_threshold=None,\n",
              "          max_cat_to_onehot=None, max_delta_step=None, max_depth=6,\n",
              "          max_leaves=None, min_child_weight=None, missing=nan,\n",
              "          monotone_constraints=None, n_estimators=110, n_jobs=None,\n",
              "          num_parallel_tree=None, objective=&#x27;rank:ndcg&#x27;, ...)</pre><b>In a Jupyter environment, please rerun this cell to show the HTML representation or trust the notebook. <br />On GitHub, the HTML representation is unable to render, please try loading this page with nbviewer.org.</b></div><div class=\"sk-container\" hidden><div class=\"sk-item\"><div class=\"sk-estimator sk-toggleable\"><input class=\"sk-toggleable__control sk-hidden--visually\" id=\"sk-estimator-id-1\" type=\"checkbox\" checked><label for=\"sk-estimator-id-1\" class=\"sk-toggleable__label sk-toggleable__label-arrow\">XGBRanker</label><div class=\"sk-toggleable__content\"><pre>XGBRanker(base_score=None, booster=&#x27;gbtree&#x27;, callbacks=None,\n",
              "          colsample_bylevel=None, colsample_bynode=None, colsample_bytree=0.9,\n",
              "          early_stopping_rounds=None, enable_categorical=False, eta=0.05,\n",
              "          eval_metric=None, feature_types=None, gamma=None, gpu_id=None,\n",
              "          grow_policy=None, importance_type=None, interaction_constraints=None,\n",
              "          learning_rate=0.1, max_bin=None, max_cat_threshold=None,\n",
              "          max_cat_to_onehot=None, max_delta_step=None, max_depth=6,\n",
              "          max_leaves=None, min_child_weight=None, missing=nan,\n",
              "          monotone_constraints=None, n_estimators=110, n_jobs=None,\n",
              "          num_parallel_tree=None, objective=&#x27;rank:ndcg&#x27;, ...)</pre></div></div></div></div></div>"
            ]
          },
          "metadata": {},
          "execution_count": 35
        }
      ]
    },
    {
      "cell_type": "code",
      "source": [
        "y_pred = xgb_model.predict(X_test)"
      ],
      "metadata": {
        "id": "tAWllsPErhwS"
      },
      "execution_count": null,
      "outputs": []
    },
    {
      "cell_type": "code",
      "source": [
        "print(y_pred)"
      ],
      "metadata": {
        "colab": {
          "base_uri": "https://localhost:8080/"
        },
        "id": "exMdEW7Lr3bL",
        "outputId": "b9cd37ce-abc3-41f9-9562-e79319a88d1d"
      },
      "execution_count": null,
      "outputs": [
        {
          "output_type": "stream",
          "name": "stdout",
          "text": [
            "[-0.09010413 -0.14075942  0.16477078 ... -0.29232398 -0.17247637\n",
            " -0.74291533]\n"
          ]
        }
      ]
    },
    {
      "cell_type": "code",
      "source": [
        "test_data_ranked = X_test[['srch_id', 'prop_id']]\n",
        "test_data_ranked['ranking'] = y_pred\n",
        "test_data_ranked = test_data_ranked.sort_values(['srch_id', 'ranking'], ascending=[True, False])\n",
        "test_data_ranked = test_data_ranked[['srch_id', 'prop_id']]\n",
        "#test_data_ranked.to_csv('test_data_ranked.csv', index=False)"
      ],
      "metadata": {
        "colab": {
          "base_uri": "https://localhost:8080/"
        },
        "id": "HYzabh6GsP29",
        "outputId": "015eefa8-290b-4257-d5a3-038c8e8edd86"
      },
      "execution_count": null,
      "outputs": [
        {
          "output_type": "stream",
          "name": "stderr",
          "text": [
            "<ipython-input-42-92b1db14384a>:2: SettingWithCopyWarning: \n",
            "A value is trying to be set on a copy of a slice from a DataFrame.\n",
            "Try using .loc[row_indexer,col_indexer] = value instead\n",
            "\n",
            "See the caveats in the documentation: https://pandas.pydata.org/pandas-docs/stable/user_guide/indexing.html#returning-a-view-versus-a-copy\n",
            "  test_data_ranked['ranking'] = y_pred\n"
          ]
        }
      ]
    },
    {
      "cell_type": "code",
      "source": [
        "print(test_data_ranked)"
      ],
      "metadata": {
        "colab": {
          "base_uri": "https://localhost:8080/"
        },
        "id": "O4_vLjIZsU42",
        "outputId": "e922faae-3a94-486c-f714-a19d9da54f8a"
      },
      "execution_count": null,
      "outputs": [
        {
          "output_type": "stream",
          "name": "stdout",
          "text": [
            "      srch_id  prop_id\n",
            "1999       11   122888\n",
            "5843       11    28364\n",
            "2104       17    28503\n",
            "2119       17    87596\n",
            "1359       17    17795\n",
            "...       ...      ...\n",
            "4395   332761   101767\n",
            "3394   332761    14750\n",
            "84     332774   126441\n",
            "2501   332777    85514\n",
            "5061   332777     2501\n",
            "\n",
            "[198329 rows x 2 columns]\n"
          ]
        }
      ]
    },
    {
      "cell_type": "code",
      "source": [
        "import joblib"
      ],
      "metadata": {
        "id": "j99jxwxRr1Jp"
      },
      "execution_count": null,
      "outputs": []
    },
    {
      "cell_type": "code",
      "source": [
        "joblib.dump(xgb_model, 'drive/MyDrive/Raw/xgb_model.pkl')"
      ],
      "metadata": {
        "colab": {
          "base_uri": "https://localhost:8080/"
        },
        "id": "sy1HXzMHrox4",
        "outputId": "65217deb-0719-43bc-9ae0-36e26ca6c8e2"
      },
      "execution_count": null,
      "outputs": [
        {
          "output_type": "execute_result",
          "data": {
            "text/plain": [
              "['drive/MyDrive/Raw/xgb_model.pkl']"
            ]
          },
          "metadata": {},
          "execution_count": 39
        }
      ]
    },
    {
      "cell_type": "markdown",
      "source": [
        "### LightGBM"
      ],
      "metadata": {
        "id": "5_s-JN5zhK5f"
      }
    },
    {
      "cell_type": "code",
      "source": [
        "# Define the LightGBM dataset\n",
        "train_data = lgb.Dataset(X_train, label=y_train, group=X_train.groupby('srch_id').size())\n",
        "test_data = lgb.Dataset(X_test, label=y_test, group=X_test.groupby('srch_id').size())"
      ],
      "metadata": {
        "id": "xGy7yhsLD14D"
      },
      "execution_count": null,
      "outputs": []
    },
    {
      "cell_type": "code",
      "source": [
        "# Set hyperparameters for LightGBM\n",
        "params = {\n",
        "    \"objective\": \"lambdarank\",\n",
        "    \"metric\": \"ndcg\",\n",
        "    \"num_leaves\": 30,\n",
        "    \"min_data_in_leaf\":100,\n",
        "    \"learning_rate\": 0.05,\n",
        "    \"feature_fraction\": 0.8,\n",
        "    \"bagging_fraction\": 0.8,\n",
        "    \"bagging_freq\": 5,\n",
        "    \"verbose\": 0,\n",
        "    \"random_state\": 42\n",
        "}"
      ],
      "metadata": {
        "id": "VhLz9rEmEAzS"
      },
      "execution_count": null,
      "outputs": []
    },
    {
      "cell_type": "code",
      "source": [
        "# Train the LightGBM model\n",
        "lgb_model = lgb.train(params, train_data, num_boost_round=1000, valid_sets=[train_data, test_data], verbose_eval=10, early_stopping_rounds=200)"
      ],
      "metadata": {
        "colab": {
          "base_uri": "https://localhost:8080/"
        },
        "id": "EMca4528H9wU",
        "outputId": "4211b495-1486-44b6-c331-0e1189986dec"
      },
      "execution_count": null,
      "outputs": [
        {
          "output_type": "stream",
          "name": "stderr",
          "text": [
            "/usr/local/lib/python3.10/dist-packages/lightgbm/engine.py:181: UserWarning: 'early_stopping_rounds' argument is deprecated and will be removed in a future release of LightGBM. Pass 'early_stopping()' callback via 'callbacks' argument instead.\n",
            "  _log_warning(\"'early_stopping_rounds' argument is deprecated and will be removed in a future release of LightGBM. \"\n",
            "/usr/local/lib/python3.10/dist-packages/lightgbm/engine.py:239: UserWarning: 'verbose_eval' argument is deprecated and will be removed in a future release of LightGBM. Pass 'log_evaluation()' callback via 'callbacks' argument instead.\n",
            "  _log_warning(\"'verbose_eval' argument is deprecated and will be removed in a future release of LightGBM. \"\n"
          ]
        },
        {
          "output_type": "stream",
          "name": "stdout",
          "text": [
            "[LightGBM] [Warning] Auto-choosing col-wise multi-threading, the overhead of testing was 0.410096 seconds.\n",
            "You can set `force_col_wise=true` to remove the overhead.\n",
            "Training until validation scores don't improve for 200 rounds\n",
            "[10]\ttraining's ndcg@1: 0.960411\ttraining's ndcg@2: 0.974503\ttraining's ndcg@3: 0.979898\ttraining's ndcg@4: 0.981803\ttraining's ndcg@5: 0.982388\tvalid_1's ndcg@1: 0.990664\tvalid_1's ndcg@2: 0.99561\tvalid_1's ndcg@3: 0.996255\tvalid_1's ndcg@4: 0.996354\tvalid_1's ndcg@5: 0.996354\n",
            "[20]\ttraining's ndcg@1: 0.963124\ttraining's ndcg@2: 0.976507\ttraining's ndcg@3: 0.981543\ttraining's ndcg@4: 0.983231\ttraining's ndcg@5: 0.983707\tvalid_1's ndcg@1: 0.991043\tvalid_1's ndcg@2: 0.99585\tvalid_1's ndcg@3: 0.996432\tvalid_1's ndcg@4: 0.996513\tvalid_1's ndcg@5: 0.996518\n",
            "[30]\ttraining's ndcg@1: 0.965509\ttraining's ndcg@2: 0.978006\ttraining's ndcg@3: 0.982785\ttraining's ndcg@4: 0.984267\ttraining's ndcg@5: 0.98473\tvalid_1's ndcg@1: 0.991199\tvalid_1's ndcg@2: 0.995868\tvalid_1's ndcg@3: 0.996462\tvalid_1's ndcg@4: 0.996559\tvalid_1's ndcg@5: 0.996564\n",
            "[40]\ttraining's ndcg@1: 0.967687\ttraining's ndcg@2: 0.979474\ttraining's ndcg@3: 0.983902\ttraining's ndcg@4: 0.985333\ttraining's ndcg@5: 0.985739\tvalid_1's ndcg@1: 0.991303\tvalid_1's ndcg@2: 0.995946\tvalid_1's ndcg@3: 0.996531\tvalid_1's ndcg@4: 0.996608\tvalid_1's ndcg@5: 0.996613\n",
            "[50]\ttraining's ndcg@1: 0.969611\ttraining's ndcg@2: 0.980674\ttraining's ndcg@3: 0.984891\ttraining's ndcg@4: 0.986198\ttraining's ndcg@5: 0.986607\tvalid_1's ndcg@1: 0.991291\tvalid_1's ndcg@2: 0.995955\tvalid_1's ndcg@3: 0.996524\tvalid_1's ndcg@4: 0.996607\tvalid_1's ndcg@5: 0.996612\n",
            "[60]\ttraining's ndcg@1: 0.971259\ttraining's ndcg@2: 0.981905\ttraining's ndcg@3: 0.985767\ttraining's ndcg@4: 0.986988\ttraining's ndcg@5: 0.987361\tvalid_1's ndcg@1: 0.991382\tvalid_1's ndcg@2: 0.995991\tvalid_1's ndcg@3: 0.996562\tvalid_1's ndcg@4: 0.99664\tvalid_1's ndcg@5: 0.996645\n",
            "[70]\ttraining's ndcg@1: 0.972685\ttraining's ndcg@2: 0.982867\ttraining's ndcg@3: 0.9865\ttraining's ndcg@4: 0.987656\ttraining's ndcg@5: 0.988\tvalid_1's ndcg@1: 0.991316\tvalid_1's ndcg@2: 0.996028\tvalid_1's ndcg@3: 0.996557\tvalid_1's ndcg@4: 0.996632\tvalid_1's ndcg@5: 0.996637\n",
            "[80]\ttraining's ndcg@1: 0.973971\ttraining's ndcg@2: 0.98372\ttraining's ndcg@3: 0.987187\ttraining's ndcg@4: 0.988261\ttraining's ndcg@5: 0.988593\tvalid_1's ndcg@1: 0.991369\tvalid_1's ndcg@2: 0.996051\tvalid_1's ndcg@3: 0.996593\tvalid_1's ndcg@4: 0.996654\tvalid_1's ndcg@5: 0.996659\n",
            "[90]\ttraining's ndcg@1: 0.975045\ttraining's ndcg@2: 0.984586\ttraining's ndcg@3: 0.987775\ttraining's ndcg@4: 0.988827\ttraining's ndcg@5: 0.989113\tvalid_1's ndcg@1: 0.991304\tvalid_1's ndcg@2: 0.996052\tvalid_1's ndcg@3: 0.996568\tvalid_1's ndcg@4: 0.996634\tvalid_1's ndcg@5: 0.996639\n",
            "[100]\ttraining's ndcg@1: 0.976409\ttraining's ndcg@2: 0.985297\ttraining's ndcg@3: 0.988443\ttraining's ndcg@4: 0.98942\ttraining's ndcg@5: 0.989678\tvalid_1's ndcg@1: 0.991383\tvalid_1's ndcg@2: 0.996038\tvalid_1's ndcg@3: 0.996577\tvalid_1's ndcg@4: 0.996652\tvalid_1's ndcg@5: 0.996657\n",
            "[110]\ttraining's ndcg@1: 0.97773\ttraining's ndcg@2: 0.986158\ttraining's ndcg@3: 0.989139\ttraining's ndcg@4: 0.990025\ttraining's ndcg@5: 0.990275\tvalid_1's ndcg@1: 0.991369\tvalid_1's ndcg@2: 0.996016\tvalid_1's ndcg@3: 0.996576\tvalid_1's ndcg@4: 0.996644\tvalid_1's ndcg@5: 0.996649\n",
            "[120]\ttraining's ndcg@1: 0.978798\ttraining's ndcg@2: 0.986835\ttraining's ndcg@3: 0.989671\ttraining's ndcg@4: 0.990513\ttraining's ndcg@5: 0.990741\tvalid_1's ndcg@1: 0.991487\tvalid_1's ndcg@2: 0.996088\tvalid_1's ndcg@3: 0.996623\tvalid_1's ndcg@4: 0.996692\tvalid_1's ndcg@5: 0.996697\n",
            "[130]\ttraining's ndcg@1: 0.979781\ttraining's ndcg@2: 0.987471\ttraining's ndcg@3: 0.990175\ttraining's ndcg@4: 0.990944\ttraining's ndcg@5: 0.99118\tvalid_1's ndcg@1: 0.991396\tvalid_1's ndcg@2: 0.996031\tvalid_1's ndcg@3: 0.996573\tvalid_1's ndcg@4: 0.996653\tvalid_1's ndcg@5: 0.996658\n",
            "[140]\ttraining's ndcg@1: 0.980648\ttraining's ndcg@2: 0.988002\ttraining's ndcg@3: 0.990596\ttraining's ndcg@4: 0.991335\ttraining's ndcg@5: 0.991562\tvalid_1's ndcg@1: 0.991421\tvalid_1's ndcg@2: 0.996047\tvalid_1's ndcg@3: 0.996586\tvalid_1's ndcg@4: 0.996666\tvalid_1's ndcg@5: 0.996671\n",
            "[150]\ttraining's ndcg@1: 0.981357\ttraining's ndcg@2: 0.988473\ttraining's ndcg@3: 0.990979\ttraining's ndcg@4: 0.991678\ttraining's ndcg@5: 0.991886\tvalid_1's ndcg@1: 0.991447\tvalid_1's ndcg@2: 0.996098\tvalid_1's ndcg@3: 0.996603\tvalid_1's ndcg@4: 0.996683\tvalid_1's ndcg@5: 0.996688\n",
            "[160]\ttraining's ndcg@1: 0.982024\ttraining's ndcg@2: 0.988952\ttraining's ndcg@3: 0.991319\ttraining's ndcg@4: 0.991994\ttraining's ndcg@5: 0.992192\tvalid_1's ndcg@1: 0.991447\tvalid_1's ndcg@2: 0.99604\tvalid_1's ndcg@3: 0.996598\tvalid_1's ndcg@4: 0.996673\tvalid_1's ndcg@5: 0.996678\n",
            "[170]\ttraining's ndcg@1: 0.982746\ttraining's ndcg@2: 0.989501\ttraining's ndcg@3: 0.991686\ttraining's ndcg@4: 0.992344\ttraining's ndcg@5: 0.992523\tvalid_1's ndcg@1: 0.991539\tvalid_1's ndcg@2: 0.996061\tvalid_1's ndcg@3: 0.996634\tvalid_1's ndcg@4: 0.996703\tvalid_1's ndcg@5: 0.996708\n",
            "[180]\ttraining's ndcg@1: 0.983419\ttraining's ndcg@2: 0.989892\ttraining's ndcg@3: 0.99201\ttraining's ndcg@4: 0.992632\ttraining's ndcg@5: 0.992811\tvalid_1's ndcg@1: 0.991617\tvalid_1's ndcg@2: 0.996087\tvalid_1's ndcg@3: 0.996649\tvalid_1's ndcg@4: 0.99673\tvalid_1's ndcg@5: 0.996735\n",
            "[190]\ttraining's ndcg@1: 0.984098\ttraining's ndcg@2: 0.990305\ttraining's ndcg@3: 0.992391\ttraining's ndcg@4: 0.992952\ttraining's ndcg@5: 0.99312\tvalid_1's ndcg@1: 0.9915\tvalid_1's ndcg@2: 0.996043\tvalid_1's ndcg@3: 0.996619\tvalid_1's ndcg@4: 0.996688\tvalid_1's ndcg@5: 0.996693\n",
            "[200]\ttraining's ndcg@1: 0.984989\ttraining's ndcg@2: 0.990824\ttraining's ndcg@3: 0.992792\ttraining's ndcg@4: 0.993337\ttraining's ndcg@5: 0.99349\tvalid_1's ndcg@1: 0.991475\tvalid_1's ndcg@2: 0.996041\tvalid_1's ndcg@3: 0.99661\tvalid_1's ndcg@4: 0.996679\tvalid_1's ndcg@5: 0.996684\n",
            "[210]\ttraining's ndcg@1: 0.985552\ttraining's ndcg@2: 0.991165\ttraining's ndcg@3: 0.9931\ttraining's ndcg@4: 0.993596\ttraining's ndcg@5: 0.993742\tvalid_1's ndcg@1: 0.991552\tvalid_1's ndcg@2: 0.996073\tvalid_1's ndcg@3: 0.996633\tvalid_1's ndcg@4: 0.996707\tvalid_1's ndcg@5: 0.996712\n",
            "[220]\ttraining's ndcg@1: 0.986002\ttraining's ndcg@2: 0.991511\ttraining's ndcg@3: 0.993358\ttraining's ndcg@4: 0.993809\ttraining's ndcg@5: 0.993956\tvalid_1's ndcg@1: 0.991461\tvalid_1's ndcg@2: 0.996064\tvalid_1's ndcg@3: 0.996604\tvalid_1's ndcg@4: 0.996679\tvalid_1's ndcg@5: 0.996684\n",
            "[230]\ttraining's ndcg@1: 0.986596\ttraining's ndcg@2: 0.991898\ttraining's ndcg@3: 0.993628\ttraining's ndcg@4: 0.994082\ttraining's ndcg@5: 0.994221\tvalid_1's ndcg@1: 0.991552\tvalid_1's ndcg@2: 0.996067\tvalid_1's ndcg@3: 0.996625\tvalid_1's ndcg@4: 0.996705\tvalid_1's ndcg@5: 0.99671\n",
            "[240]\ttraining's ndcg@1: 0.987141\ttraining's ndcg@2: 0.992238\ttraining's ndcg@3: 0.993898\ttraining's ndcg@4: 0.994344\ttraining's ndcg@5: 0.994456\tvalid_1's ndcg@1: 0.9915\tvalid_1's ndcg@2: 0.996048\tvalid_1's ndcg@3: 0.996599\tvalid_1's ndcg@4: 0.996685\tvalid_1's ndcg@5: 0.99669\n",
            "[250]\ttraining's ndcg@1: 0.987639\ttraining's ndcg@2: 0.99249\ttraining's ndcg@3: 0.994124\ttraining's ndcg@4: 0.994537\ttraining's ndcg@5: 0.994654\tvalid_1's ndcg@1: 0.991526\tvalid_1's ndcg@2: 0.996061\tvalid_1's ndcg@3: 0.99661\tvalid_1's ndcg@4: 0.996695\tvalid_1's ndcg@5: 0.9967\n",
            "[260]\ttraining's ndcg@1: 0.988154\ttraining's ndcg@2: 0.992825\ttraining's ndcg@3: 0.994373\ttraining's ndcg@4: 0.994771\ttraining's ndcg@5: 0.994891\tvalid_1's ndcg@1: 0.991513\tvalid_1's ndcg@2: 0.99604\tvalid_1's ndcg@3: 0.996608\tvalid_1's ndcg@4: 0.996688\tvalid_1's ndcg@5: 0.996693\n",
            "[270]\ttraining's ndcg@1: 0.988535\ttraining's ndcg@2: 0.993077\ttraining's ndcg@3: 0.994575\ttraining's ndcg@4: 0.99495\ttraining's ndcg@5: 0.995064\tvalid_1's ndcg@1: 0.991526\tvalid_1's ndcg@2: 0.996069\tvalid_1's ndcg@3: 0.996614\tvalid_1's ndcg@4: 0.996697\tvalid_1's ndcg@5: 0.996703\n",
            "[280]\ttraining's ndcg@1: 0.988948\ttraining's ndcg@2: 0.993324\ttraining's ndcg@3: 0.994787\ttraining's ndcg@4: 0.995133\ttraining's ndcg@5: 0.995237\tvalid_1's ndcg@1: 0.991513\tvalid_1's ndcg@2: 0.996089\tvalid_1's ndcg@3: 0.996608\tvalid_1's ndcg@4: 0.996697\tvalid_1's ndcg@5: 0.996702\n",
            "[290]\ttraining's ndcg@1: 0.989306\ttraining's ndcg@2: 0.993581\ttraining's ndcg@3: 0.994998\ttraining's ndcg@4: 0.995308\ttraining's ndcg@5: 0.995422\tvalid_1's ndcg@1: 0.991539\tvalid_1's ndcg@2: 0.996115\tvalid_1's ndcg@3: 0.996634\tvalid_1's ndcg@4: 0.996712\tvalid_1's ndcg@5: 0.996717\n",
            "[300]\ttraining's ndcg@1: 0.989755\ttraining's ndcg@2: 0.993859\ttraining's ndcg@3: 0.995202\ttraining's ndcg@4: 0.99552\ttraining's ndcg@5: 0.995614\tvalid_1's ndcg@1: 0.991591\tvalid_1's ndcg@2: 0.996107\tvalid_1's ndcg@3: 0.996639\tvalid_1's ndcg@4: 0.996717\tvalid_1's ndcg@5: 0.996727\n",
            "[310]\ttraining's ndcg@1: 0.990264\ttraining's ndcg@2: 0.994169\ttraining's ndcg@3: 0.995416\ttraining's ndcg@4: 0.995732\ttraining's ndcg@5: 0.995826\tvalid_1's ndcg@1: 0.991591\tvalid_1's ndcg@2: 0.996109\tvalid_1's ndcg@3: 0.996648\tvalid_1's ndcg@4: 0.99672\tvalid_1's ndcg@5: 0.99673\n",
            "[320]\ttraining's ndcg@1: 0.990604\ttraining's ndcg@2: 0.994381\ttraining's ndcg@3: 0.99558\ttraining's ndcg@4: 0.995878\ttraining's ndcg@5: 0.995972\tvalid_1's ndcg@1: 0.991539\tvalid_1's ndcg@2: 0.996099\tvalid_1's ndcg@3: 0.996624\tvalid_1's ndcg@4: 0.996702\tvalid_1's ndcg@5: 0.996712\n",
            "[330]\ttraining's ndcg@1: 0.990985\ttraining's ndcg@2: 0.994605\ttraining's ndcg@3: 0.995762\ttraining's ndcg@4: 0.996038\ttraining's ndcg@5: 0.996132\tvalid_1's ndcg@1: 0.991657\tvalid_1's ndcg@2: 0.996115\tvalid_1's ndcg@3: 0.99666\tvalid_1's ndcg@4: 0.996738\tvalid_1's ndcg@5: 0.996748\n",
            "[340]\ttraining's ndcg@1: 0.991216\ttraining's ndcg@2: 0.994786\ttraining's ndcg@3: 0.995891\ttraining's ndcg@4: 0.996169\ttraining's ndcg@5: 0.996243\tvalid_1's ndcg@1: 0.991617\tvalid_1's ndcg@2: 0.99606\tvalid_1's ndcg@3: 0.996644\tvalid_1's ndcg@4: 0.996716\tvalid_1's ndcg@5: 0.996726\n",
            "[350]\ttraining's ndcg@1: 0.991579\ttraining's ndcg@2: 0.994982\ttraining's ndcg@3: 0.996058\ttraining's ndcg@4: 0.996311\ttraining's ndcg@5: 0.996393\tvalid_1's ndcg@1: 0.991552\tvalid_1's ndcg@2: 0.996054\tvalid_1's ndcg@3: 0.996625\tvalid_1's ndcg@4: 0.996697\tvalid_1's ndcg@5: 0.996707\n",
            "[360]\ttraining's ndcg@1: 0.991913\ttraining's ndcg@2: 0.995197\ttraining's ndcg@3: 0.996225\ttraining's ndcg@4: 0.996454\ttraining's ndcg@5: 0.996539\tvalid_1's ndcg@1: 0.991657\tvalid_1's ndcg@2: 0.996104\tvalid_1's ndcg@3: 0.996675\tvalid_1's ndcg@4: 0.996738\tvalid_1's ndcg@5: 0.996748\n",
            "[370]\ttraining's ndcg@1: 0.992168\ttraining's ndcg@2: 0.995329\ttraining's ndcg@3: 0.996356\ttraining's ndcg@4: 0.996563\ttraining's ndcg@5: 0.996649\tvalid_1's ndcg@1: 0.991644\tvalid_1's ndcg@2: 0.996141\tvalid_1's ndcg@3: 0.996667\tvalid_1's ndcg@4: 0.996742\tvalid_1's ndcg@5: 0.996752\n",
            "[380]\ttraining's ndcg@1: 0.99247\ttraining's ndcg@2: 0.99555\ttraining's ndcg@3: 0.99651\ttraining's ndcg@4: 0.996712\ttraining's ndcg@5: 0.996789\tvalid_1's ndcg@1: 0.991722\tvalid_1's ndcg@2: 0.996143\tvalid_1's ndcg@3: 0.996677\tvalid_1's ndcg@4: 0.996763\tvalid_1's ndcg@5: 0.996773\n",
            "[390]\ttraining's ndcg@1: 0.992846\ttraining's ndcg@2: 0.995796\ttraining's ndcg@3: 0.99669\ttraining's ndcg@4: 0.996877\ttraining's ndcg@5: 0.996952\tvalid_1's ndcg@1: 0.991787\tvalid_1's ndcg@2: 0.996164\tvalid_1's ndcg@3: 0.99672\tvalid_1's ndcg@4: 0.996789\tvalid_1's ndcg@5: 0.996799\n",
            "[400]\ttraining's ndcg@1: 0.993198\ttraining's ndcg@2: 0.996008\ttraining's ndcg@3: 0.996848\ttraining's ndcg@4: 0.997028\ttraining's ndcg@5: 0.997109\tvalid_1's ndcg@1: 0.991579\tvalid_1's ndcg@2: 0.996069\tvalid_1's ndcg@3: 0.996646\tvalid_1's ndcg@4: 0.996709\tvalid_1's ndcg@5: 0.996719\n",
            "[410]\ttraining's ndcg@1: 0.993525\ttraining's ndcg@2: 0.996176\ttraining's ndcg@3: 0.996995\ttraining's ndcg@4: 0.997166\ttraining's ndcg@5: 0.997242\tvalid_1's ndcg@1: 0.991539\tvalid_1's ndcg@2: 0.996074\tvalid_1's ndcg@3: 0.996636\tvalid_1's ndcg@4: 0.996699\tvalid_1's ndcg@5: 0.996709\n",
            "[420]\ttraining's ndcg@1: 0.993641\ttraining's ndcg@2: 0.996266\ttraining's ndcg@3: 0.997075\ttraining's ndcg@4: 0.997222\ttraining's ndcg@5: 0.997301\tvalid_1's ndcg@1: 0.991552\tvalid_1's ndcg@2: 0.996043\tvalid_1's ndcg@3: 0.996633\tvalid_1's ndcg@4: 0.996696\tvalid_1's ndcg@5: 0.996706\n",
            "[430]\ttraining's ndcg@1: 0.993907\ttraining's ndcg@2: 0.996436\ttraining's ndcg@3: 0.997195\ttraining's ndcg@4: 0.997344\ttraining's ndcg@5: 0.997415\tvalid_1's ndcg@1: 0.991618\tvalid_1's ndcg@2: 0.99609\tvalid_1's ndcg@3: 0.996662\tvalid_1's ndcg@4: 0.996725\tvalid_1's ndcg@5: 0.996735\n",
            "[440]\ttraining's ndcg@1: 0.994083\ttraining's ndcg@2: 0.99653\ttraining's ndcg@3: 0.997278\ttraining's ndcg@4: 0.997418\ttraining's ndcg@5: 0.99749\tvalid_1's ndcg@1: 0.991539\tvalid_1's ndcg@2: 0.996063\tvalid_1's ndcg@3: 0.996632\tvalid_1's ndcg@4: 0.996695\tvalid_1's ndcg@5: 0.996705\n",
            "[450]\ttraining's ndcg@1: 0.994356\ttraining's ndcg@2: 0.996671\ttraining's ndcg@3: 0.997393\ttraining's ndcg@4: 0.997532\ttraining's ndcg@5: 0.997605\tvalid_1's ndcg@1: 0.991604\tvalid_1's ndcg@2: 0.996071\tvalid_1's ndcg@3: 0.996646\tvalid_1's ndcg@4: 0.996715\tvalid_1's ndcg@5: 0.996725\n",
            "[460]\ttraining's ndcg@1: 0.994617\ttraining's ndcg@2: 0.996818\ttraining's ndcg@3: 0.997517\ttraining's ndcg@4: 0.997647\ttraining's ndcg@5: 0.997714\tvalid_1's ndcg@1: 0.991605\tvalid_1's ndcg@2: 0.996071\tvalid_1's ndcg@3: 0.996646\tvalid_1's ndcg@4: 0.996715\tvalid_1's ndcg@5: 0.996725\n",
            "[470]\ttraining's ndcg@1: 0.994756\ttraining's ndcg@2: 0.996922\ttraining's ndcg@3: 0.997596\ttraining's ndcg@4: 0.997713\ttraining's ndcg@5: 0.99778\tvalid_1's ndcg@1: 0.991578\tvalid_1's ndcg@2: 0.996091\tvalid_1's ndcg@3: 0.996649\tvalid_1's ndcg@4: 0.996712\tvalid_1's ndcg@5: 0.996722\n",
            "[480]\ttraining's ndcg@1: 0.994956\ttraining's ndcg@2: 0.997019\ttraining's ndcg@3: 0.99767\ttraining's ndcg@4: 0.997796\ttraining's ndcg@5: 0.997859\tvalid_1's ndcg@1: 0.991644\tvalid_1's ndcg@2: 0.996126\tvalid_1's ndcg@3: 0.996669\tvalid_1's ndcg@4: 0.996738\tvalid_1's ndcg@5: 0.996748\n",
            "[490]\ttraining's ndcg@1: 0.99512\ttraining's ndcg@2: 0.997099\ttraining's ndcg@3: 0.997746\ttraining's ndcg@4: 0.99786\ttraining's ndcg@5: 0.997924\tvalid_1's ndcg@1: 0.99154\tvalid_1's ndcg@2: 0.996088\tvalid_1's ndcg@3: 0.996618\tvalid_1's ndcg@4: 0.996698\tvalid_1's ndcg@5: 0.996708\n",
            "[500]\ttraining's ndcg@1: 0.995277\ttraining's ndcg@2: 0.997188\ttraining's ndcg@3: 0.997813\ttraining's ndcg@4: 0.99793\ttraining's ndcg@5: 0.997989\tvalid_1's ndcg@1: 0.991566\tvalid_1's ndcg@2: 0.996081\tvalid_1's ndcg@3: 0.996639\tvalid_1's ndcg@4: 0.996706\tvalid_1's ndcg@5: 0.996716\n",
            "[510]\ttraining's ndcg@1: 0.995459\ttraining's ndcg@2: 0.997311\ttraining's ndcg@3: 0.997911\ttraining's ndcg@4: 0.998021\ttraining's ndcg@5: 0.998072\tvalid_1's ndcg@1: 0.991383\tvalid_1's ndcg@2: 0.996062\tvalid_1's ndcg@3: 0.996583\tvalid_1's ndcg@4: 0.99665\tvalid_1's ndcg@5: 0.99666\n",
            "[520]\ttraining's ndcg@1: 0.995611\ttraining's ndcg@2: 0.99739\ttraining's ndcg@3: 0.997982\ttraining's ndcg@4: 0.998092\ttraining's ndcg@5: 0.998135\tvalid_1's ndcg@1: 0.991474\tvalid_1's ndcg@2: 0.996107\tvalid_1's ndcg@3: 0.996629\tvalid_1's ndcg@4: 0.996686\tvalid_1's ndcg@5: 0.996696\n",
            "[530]\ttraining's ndcg@1: 0.995872\ttraining's ndcg@2: 0.997522\ttraining's ndcg@3: 0.998091\ttraining's ndcg@4: 0.998198\ttraining's ndcg@5: 0.998243\tvalid_1's ndcg@1: 0.991422\tvalid_1's ndcg@2: 0.996111\tvalid_1's ndcg@3: 0.996615\tvalid_1's ndcg@4: 0.996671\tvalid_1's ndcg@5: 0.996681\n",
            "[540]\ttraining's ndcg@1: 0.996005\ttraining's ndcg@2: 0.997596\ttraining's ndcg@3: 0.998148\ttraining's ndcg@4: 0.998253\ttraining's ndcg@5: 0.998295\tvalid_1's ndcg@1: 0.991475\tvalid_1's ndcg@2: 0.996117\tvalid_1's ndcg@3: 0.996636\tvalid_1's ndcg@4: 0.996688\tvalid_1's ndcg@5: 0.996698\n",
            "[550]\ttraining's ndcg@1: 0.996175\ttraining's ndcg@2: 0.997682\ttraining's ndcg@3: 0.998231\ttraining's ndcg@4: 0.998324\ttraining's ndcg@5: 0.998365\tvalid_1's ndcg@1: 0.991514\tvalid_1's ndcg@2: 0.996123\tvalid_1's ndcg@3: 0.996642\tvalid_1's ndcg@4: 0.9967\tvalid_1's ndcg@5: 0.99671\n",
            "[560]\ttraining's ndcg@1: 0.996333\ttraining's ndcg@2: 0.997758\ttraining's ndcg@3: 0.998301\ttraining's ndcg@4: 0.998391\ttraining's ndcg@5: 0.998428\tvalid_1's ndcg@1: 0.991422\tvalid_1's ndcg@2: 0.996086\tvalid_1's ndcg@3: 0.996596\tvalid_1's ndcg@4: 0.996665\tvalid_1's ndcg@5: 0.996675\n",
            "[570]\ttraining's ndcg@1: 0.99646\ttraining's ndcg@2: 0.997844\ttraining's ndcg@3: 0.998365\ttraining's ndcg@4: 0.998446\ttraining's ndcg@5: 0.998484\tvalid_1's ndcg@1: 0.991448\tvalid_1's ndcg@2: 0.996089\tvalid_1's ndcg@3: 0.996606\tvalid_1's ndcg@4: 0.996675\tvalid_1's ndcg@5: 0.996685\n",
            "Early stopping, best iteration is:\n",
            "[375]\ttraining's ndcg@1: 0.992325\ttraining's ndcg@2: 0.995453\ttraining's ndcg@3: 0.996431\ttraining's ndcg@4: 0.996645\ttraining's ndcg@5: 0.996727\tvalid_1's ndcg@1: 0.991774\tvalid_1's ndcg@2: 0.996174\tvalid_1's ndcg@3: 0.996706\tvalid_1's ndcg@4: 0.996786\tvalid_1's ndcg@5: 0.996796\n"
          ]
        }
      ]
    },
    {
      "cell_type": "code",
      "source": [
        "# Let's see top 25 features as identified by the lightgbm model.\n",
        "print(\"Features importance...\")\n",
        "gain = lgb_model.feature_importance('gain')\n",
        "feat_imp = pd.DataFrame({'feature':lgb_model.feature_name(), \n",
        "                         'split':lgb_model.feature_importance('split'), \n",
        "                         'gain':100 * gain / gain.sum()}).sort_values('gain', ascending=False)\n",
        "print('Top 25 features:\\n', feat_imp.head(25))"
      ],
      "metadata": {
        "id": "_uWmZlgYfpMo",
        "outputId": "a350c271-f476-4ed9-9fcd-49f511c007fc",
        "colab": {
          "base_uri": "https://localhost:8080/"
        }
      },
      "execution_count": null,
      "outputs": [
        {
          "output_type": "stream",
          "name": "stdout",
          "text": [
            "Features importance...\n",
            "Top 25 features:\n",
            "                                      feature  split      gain\n",
            "9                                  price_usd    343  4.344056\n",
            "35                     srch_id_price_usd_min    297  4.049846\n",
            "21                                price_diff    220  2.925430\n",
            "33                  srch_id_price_usd_median    211  2.339575\n",
            "26          srch_id_prop_location_score1_max    142  2.094811\n",
            "32                    srch_id_price_usd_mean    184  2.011114\n",
            "36                     srch_id_price_usd_max    199  1.813429\n",
            "24          srch_id_prop_location_score1_std    192  1.791777\n",
            "5                            prop_starrating     99  1.772103\n",
            "0                                    srch_id    239  1.766968\n",
            "34                     srch_id_price_usd_std    209  1.760575\n",
            "29     srch_id_prop_log_historical_price_std    198  1.716680\n",
            "49     srch_id_orig_destination_distance_std    212  1.705721\n",
            "7                       prop_location_score1    179  1.697674\n",
            "61     prop_id_prop_log_historical_price_max    174  1.687425\n",
            "58  prop_id_prop_log_historical_price_median    166  1.666157\n",
            "81     prop_id_orig_destination_distance_max    181  1.613637\n",
            "4                                    prop_id    224  1.581244\n",
            "13                       srch_booking_window    208  1.561827\n",
            "31     srch_id_prop_log_historical_price_max    136  1.553262\n",
            "57    prop_id_prop_log_historical_price_mean    182  1.528555\n",
            "74           prop_id_srch_booking_window_std    174  1.492609\n",
            "59     prop_id_prop_log_historical_price_std    181  1.482691\n",
            "79     prop_id_orig_destination_distance_std    189  1.455398\n",
            "76           prop_id_srch_booking_window_max    186  1.444505\n"
          ]
        }
      ]
    },
    {
      "cell_type": "code",
      "source": [
        "# Make predictions on the test set\n",
        "y_pred = lgb_model.predict(X_test)"
      ],
      "metadata": {
        "id": "4UHsNhgeKdNx"
      },
      "execution_count": null,
      "outputs": []
    },
    {
      "cell_type": "code",
      "source": [
        "display(y_pred)"
      ],
      "metadata": {
        "id": "6bCRVB1VgBFj",
        "outputId": "87e41383-4e52-4ad5-de08-d42936f6586e",
        "colab": {
          "base_uri": "https://localhost:8080/",
          "height": 52
        }
      },
      "execution_count": null,
      "outputs": [
        {
          "output_type": "display_data",
          "data": {
            "text/plain": [
              "array([-0.20414279,  0.01228565, -0.22171491, ..., -0.13627187,\n",
              "        0.00959431, -0.5154075 ])"
            ]
          },
          "metadata": {}
        }
      ]
    },
    {
      "cell_type": "code",
      "source": [
        "# Output the test data with rankings\n",
        "test_data_ranked = X_test[['srch_id', 'prop_id']]\n",
        "test_data_ranked['ranking'] = y_pred\n",
        "test_data_ranked = test_data_ranked.sort_values(['srch_id', 'ranking'], ascending=[True, False])\n",
        "test_data_ranked = test_data_ranked[['srch_id', 'prop_id']]\n",
        "test_data_ranked.to_csv('test_data_ranked.csv', index=False)"
      ],
      "metadata": {
        "colab": {
          "base_uri": "https://localhost:8080/"
        },
        "id": "Zw3T9AhNJK4D",
        "outputId": "e7cd70d8-dc9a-4893-bfbf-5a54ee168377"
      },
      "execution_count": null,
      "outputs": [
        {
          "output_type": "stream",
          "name": "stderr",
          "text": [
            "<ipython-input-96-02751a41f81f>:3: SettingWithCopyWarning: \n",
            "A value is trying to be set on a copy of a slice from a DataFrame.\n",
            "Try using .loc[row_indexer,col_indexer] = value instead\n",
            "\n",
            "See the caveats in the documentation: https://pandas.pydata.org/pandas-docs/stable/user_guide/indexing.html#returning-a-view-versus-a-copy\n",
            "  test_data_ranked['ranking'] = y_pred\n"
          ]
        }
      ]
    },
    {
      "cell_type": "code",
      "source": [
        "joblib.dump(lgb_model, 'drive/MyDrive/Raw/trained_model1.pkl')"
      ],
      "metadata": {
        "id": "A7B4weeBIoAJ"
      },
      "execution_count": null,
      "outputs": []
    },
    {
      "cell_type": "code",
      "source": [],
      "metadata": {
        "id": "vwMpImFAVm6K"
      },
      "execution_count": null,
      "outputs": []
    }
  ],
  "metadata": {
    "kernelspec": {
      "display_name": "dmtech1",
      "language": "python",
      "name": "python3"
    },
    "language_info": {
      "codemirror_mode": {
        "name": "ipython",
        "version": 3
      },
      "file_extension": ".py",
      "mimetype": "text/x-python",
      "name": "python",
      "nbconvert_exporter": "python",
      "pygments_lexer": "ipython3",
      "version": "3.11.3"
    },
    "orig_nbformat": 4,
    "colab": {
      "provenance": []
    },
    "accelerator": "GPU",
    "gpuClass": "standard"
  },
  "nbformat": 4,
  "nbformat_minor": 0
}